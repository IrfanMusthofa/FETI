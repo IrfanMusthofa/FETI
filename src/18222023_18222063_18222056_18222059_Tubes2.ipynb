{
  "cells": [
    {
      "cell_type": "markdown",
      "metadata": {
        "id": "uR1JW69eLfG_"
      },
      "source": [
        "# IF3070 Foundations of Artificial Intelligence | Tugas Besar 2\n",
        "\n",
        "\n"
      ]
    },
    {
      "cell_type": "markdown",
      "metadata": {
        "id": "ucbaI5rBLtjJ"
      },
      "source": [
        "Group Number: 16\n",
        "\n",
        "Group Members:\n",
        "- Thalita Zahra Sutejo (18222023)\n",
        "- Irfan Musthofa (18222056)\n",
        "- Eleanor Cordelia (18222059)\n",
        "- Muhammad Faiz Atharrahman (18222063)"
      ]
    },
    {
      "cell_type": "markdown",
      "metadata": {
        "id": "GwzsfETHLfHA"
      },
      "source": [
        "## Import Libraries"
      ]
    },
    {
      "cell_type": "code",
      "execution_count": null,
      "metadata": {
        "id": "jZJU5W_4LfHB"
      },
      "outputs": [],
      "source": [
        "import pandas as pd\n",
        "import numpy as np\n",
        "import matplotlib.pyplot as plt\n",
        "import os\n",
        "import re\n",
        "import base64\n",
        "\n",
        "from urllib.parse import urlparse\n",
        "from sklearn.model_selection import train_test_split\n",
        "from scipy.stats import skew\n",
        "from sklearn.preprocessing import PowerTransformer\n",
        "from scipy.stats import zscore\n",
        "from sklearn.metrics import accuracy_score, precision_score, recall_score, classification_report, confusion_matrix\n",
        "from imblearn.over_sampling import SMOTE\n",
        "from sklearn.neighbors import KNeighborsClassifier\n",
        "from sklearn.feature_selection import SelectKBest, chi2, f_classif\n",
        "from sklearn.metrics import classification_report, accuracy_score, f1_score\n",
        "from sklearn.neighbors import KNeighborsClassifier\n",
        "from sklearn.naive_bayes import GaussianNB\n",
        "from sklearn.metrics import accuracy_score, classification_report, confusion_matrix"
      ]
    },
    {
      "cell_type": "markdown",
      "metadata": {
        "id": "OKbjLIdYLfHC"
      },
      "source": [
        "## Import Dataset"
      ]
    },
    {
      "cell_type": "code",
      "execution_count": null,
      "metadata": {
        "colab": {
          "base_uri": "https://localhost:8080/",
          "height": 443
        },
        "id": "-IWFJ-gdLfHD",
        "outputId": "85489f49-7e0d-41c7-a0cc-c51fb777f7c7"
      },
      "outputs": [
        {
          "output_type": "execute_result",
          "data": {
            "text/plain": [
              "            id     FILENAME                                   URL  URLLength  \\\n",
              "0            1          NaN             https://www.northcm.ac.th       24.0   \n",
              "1            4  8135291.txt                   http://uqr.to/1il1z        NaN   \n",
              "2            5   586561.txt  https://www.woolworthsrewards.com.au       35.0   \n",
              "3            6          NaN                                   NaN       31.0   \n",
              "4           11   412632.txt                                   NaN        NaN   \n",
              "...        ...          ...                                   ...        ...   \n",
              "140399  235790    49490.txt                                   NaN        NaN   \n",
              "140400  235791          NaN   https://www.greenmountainenergy.com       34.0   \n",
              "140401  235792          NaN       https://www.leadcastingcall.com       30.0   \n",
              "140402  235794          NaN                https://www.fedarb.com       21.0   \n",
              "140403  235795   464776.txt           https://www.risenenergy.com       26.0   \n",
              "\n",
              "                              Domain  DomainLength  IsDomainIP  TLD  \\\n",
              "0                  www.northcm.ac.th          17.0         0.0  NaN   \n",
              "1                                NaN           NaN         NaN   to   \n",
              "2       www.woolworthsrewards.com.au          28.0         0.0   au   \n",
              "3                                NaN           NaN         NaN  com   \n",
              "4             www.nyprowrestling.com          22.0         0.0  NaN   \n",
              "...                              ...           ...         ...  ...   \n",
              "140399          www.slavevoyages.org           NaN         0.0  NaN   \n",
              "140400   www.greenmountainenergy.com           NaN         0.0  com   \n",
              "140401       www.leadcastingcall.com          23.0         NaN  NaN   \n",
              "140402                           NaN          14.0         NaN  NaN   \n",
              "140403           www.risenenergy.com          19.0         NaN  NaN   \n",
              "\n",
              "        CharContinuationRate  TLDLegitimateProb  ...  Pay  Crypto  \\\n",
              "0                   0.800000                NaN  ...  0.0     0.0   \n",
              "1                   1.000000           0.000896  ...  NaN     0.0   \n",
              "2                   0.857143                NaN  ...  1.0     0.0   \n",
              "3                   0.562500           0.522907  ...  1.0     0.0   \n",
              "4                   1.000000                NaN  ...  0.0     0.0   \n",
              "...                      ...                ...  ...  ...     ...   \n",
              "140399              1.000000           0.079963  ...  NaN     0.0   \n",
              "140400              1.000000           0.522907  ...  1.0     NaN   \n",
              "140401              1.000000           0.522907  ...  0.0     0.0   \n",
              "140402              1.000000           0.522907  ...  0.0     0.0   \n",
              "140403              1.000000           0.522907  ...  0.0     0.0   \n",
              "\n",
              "        HasCopyrightInfo  NoOfImage  NoOfCSS  NoOfJS  NoOfSelfRef  \\\n",
              "0                    1.0        NaN      3.0     NaN         69.0   \n",
              "1                    0.0        NaN      NaN     NaN          NaN   \n",
              "2                    1.0       33.0      7.0     8.0         15.0   \n",
              "3                    1.0       24.0      5.0    14.0          NaN   \n",
              "4                    1.0        NaN      NaN    14.0          NaN   \n",
              "...                  ...        ...      ...     ...          ...   \n",
              "140399               1.0       23.0      3.0     6.0          NaN   \n",
              "140400               1.0       26.0      NaN     NaN        169.0   \n",
              "140401               1.0       25.0      NaN     NaN         87.0   \n",
              "140402               1.0        NaN     36.0     NaN        102.0   \n",
              "140403               NaN       34.0      3.0     3.0        126.0   \n",
              "\n",
              "        NoOfEmptyRef  NoOfExternalRef  label  \n",
              "0                NaN              NaN      1  \n",
              "1                NaN              1.0      0  \n",
              "2                NaN              2.0      1  \n",
              "3                NaN              NaN      1  \n",
              "4                0.0              NaN      1  \n",
              "...              ...              ...    ...  \n",
              "140399          12.0              NaN      1  \n",
              "140400          15.0             40.0      1  \n",
              "140401           1.0             93.0      1  \n",
              "140402           NaN              NaN      1  \n",
              "140403           3.0            129.0      1  \n",
              "\n",
              "[140404 rows x 56 columns]"
            ],
            "text/html": [
              "\n",
              "  <div id=\"df-2f83d6dd-fe0f-4c45-92b2-bf61b6ee6a15\" class=\"colab-df-container\">\n",
              "    <div>\n",
              "<style scoped>\n",
              "    .dataframe tbody tr th:only-of-type {\n",
              "        vertical-align: middle;\n",
              "    }\n",
              "\n",
              "    .dataframe tbody tr th {\n",
              "        vertical-align: top;\n",
              "    }\n",
              "\n",
              "    .dataframe thead th {\n",
              "        text-align: right;\n",
              "    }\n",
              "</style>\n",
              "<table border=\"1\" class=\"dataframe\">\n",
              "  <thead>\n",
              "    <tr style=\"text-align: right;\">\n",
              "      <th></th>\n",
              "      <th>id</th>\n",
              "      <th>FILENAME</th>\n",
              "      <th>URL</th>\n",
              "      <th>URLLength</th>\n",
              "      <th>Domain</th>\n",
              "      <th>DomainLength</th>\n",
              "      <th>IsDomainIP</th>\n",
              "      <th>TLD</th>\n",
              "      <th>CharContinuationRate</th>\n",
              "      <th>TLDLegitimateProb</th>\n",
              "      <th>...</th>\n",
              "      <th>Pay</th>\n",
              "      <th>Crypto</th>\n",
              "      <th>HasCopyrightInfo</th>\n",
              "      <th>NoOfImage</th>\n",
              "      <th>NoOfCSS</th>\n",
              "      <th>NoOfJS</th>\n",
              "      <th>NoOfSelfRef</th>\n",
              "      <th>NoOfEmptyRef</th>\n",
              "      <th>NoOfExternalRef</th>\n",
              "      <th>label</th>\n",
              "    </tr>\n",
              "  </thead>\n",
              "  <tbody>\n",
              "    <tr>\n",
              "      <th>0</th>\n",
              "      <td>1</td>\n",
              "      <td>NaN</td>\n",
              "      <td>https://www.northcm.ac.th</td>\n",
              "      <td>24.0</td>\n",
              "      <td>www.northcm.ac.th</td>\n",
              "      <td>17.0</td>\n",
              "      <td>0.0</td>\n",
              "      <td>NaN</td>\n",
              "      <td>0.800000</td>\n",
              "      <td>NaN</td>\n",
              "      <td>...</td>\n",
              "      <td>0.0</td>\n",
              "      <td>0.0</td>\n",
              "      <td>1.0</td>\n",
              "      <td>NaN</td>\n",
              "      <td>3.0</td>\n",
              "      <td>NaN</td>\n",
              "      <td>69.0</td>\n",
              "      <td>NaN</td>\n",
              "      <td>NaN</td>\n",
              "      <td>1</td>\n",
              "    </tr>\n",
              "    <tr>\n",
              "      <th>1</th>\n",
              "      <td>4</td>\n",
              "      <td>8135291.txt</td>\n",
              "      <td>http://uqr.to/1il1z</td>\n",
              "      <td>NaN</td>\n",
              "      <td>NaN</td>\n",
              "      <td>NaN</td>\n",
              "      <td>NaN</td>\n",
              "      <td>to</td>\n",
              "      <td>1.000000</td>\n",
              "      <td>0.000896</td>\n",
              "      <td>...</td>\n",
              "      <td>NaN</td>\n",
              "      <td>0.0</td>\n",
              "      <td>0.0</td>\n",
              "      <td>NaN</td>\n",
              "      <td>NaN</td>\n",
              "      <td>NaN</td>\n",
              "      <td>NaN</td>\n",
              "      <td>NaN</td>\n",
              "      <td>1.0</td>\n",
              "      <td>0</td>\n",
              "    </tr>\n",
              "    <tr>\n",
              "      <th>2</th>\n",
              "      <td>5</td>\n",
              "      <td>586561.txt</td>\n",
              "      <td>https://www.woolworthsrewards.com.au</td>\n",
              "      <td>35.0</td>\n",
              "      <td>www.woolworthsrewards.com.au</td>\n",
              "      <td>28.0</td>\n",
              "      <td>0.0</td>\n",
              "      <td>au</td>\n",
              "      <td>0.857143</td>\n",
              "      <td>NaN</td>\n",
              "      <td>...</td>\n",
              "      <td>1.0</td>\n",
              "      <td>0.0</td>\n",
              "      <td>1.0</td>\n",
              "      <td>33.0</td>\n",
              "      <td>7.0</td>\n",
              "      <td>8.0</td>\n",
              "      <td>15.0</td>\n",
              "      <td>NaN</td>\n",
              "      <td>2.0</td>\n",
              "      <td>1</td>\n",
              "    </tr>\n",
              "    <tr>\n",
              "      <th>3</th>\n",
              "      <td>6</td>\n",
              "      <td>NaN</td>\n",
              "      <td>NaN</td>\n",
              "      <td>31.0</td>\n",
              "      <td>NaN</td>\n",
              "      <td>NaN</td>\n",
              "      <td>NaN</td>\n",
              "      <td>com</td>\n",
              "      <td>0.562500</td>\n",
              "      <td>0.522907</td>\n",
              "      <td>...</td>\n",
              "      <td>1.0</td>\n",
              "      <td>0.0</td>\n",
              "      <td>1.0</td>\n",
              "      <td>24.0</td>\n",
              "      <td>5.0</td>\n",
              "      <td>14.0</td>\n",
              "      <td>NaN</td>\n",
              "      <td>NaN</td>\n",
              "      <td>NaN</td>\n",
              "      <td>1</td>\n",
              "    </tr>\n",
              "    <tr>\n",
              "      <th>4</th>\n",
              "      <td>11</td>\n",
              "      <td>412632.txt</td>\n",
              "      <td>NaN</td>\n",
              "      <td>NaN</td>\n",
              "      <td>www.nyprowrestling.com</td>\n",
              "      <td>22.0</td>\n",
              "      <td>0.0</td>\n",
              "      <td>NaN</td>\n",
              "      <td>1.000000</td>\n",
              "      <td>NaN</td>\n",
              "      <td>...</td>\n",
              "      <td>0.0</td>\n",
              "      <td>0.0</td>\n",
              "      <td>1.0</td>\n",
              "      <td>NaN</td>\n",
              "      <td>NaN</td>\n",
              "      <td>14.0</td>\n",
              "      <td>NaN</td>\n",
              "      <td>0.0</td>\n",
              "      <td>NaN</td>\n",
              "      <td>1</td>\n",
              "    </tr>\n",
              "    <tr>\n",
              "      <th>...</th>\n",
              "      <td>...</td>\n",
              "      <td>...</td>\n",
              "      <td>...</td>\n",
              "      <td>...</td>\n",
              "      <td>...</td>\n",
              "      <td>...</td>\n",
              "      <td>...</td>\n",
              "      <td>...</td>\n",
              "      <td>...</td>\n",
              "      <td>...</td>\n",
              "      <td>...</td>\n",
              "      <td>...</td>\n",
              "      <td>...</td>\n",
              "      <td>...</td>\n",
              "      <td>...</td>\n",
              "      <td>...</td>\n",
              "      <td>...</td>\n",
              "      <td>...</td>\n",
              "      <td>...</td>\n",
              "      <td>...</td>\n",
              "      <td>...</td>\n",
              "    </tr>\n",
              "    <tr>\n",
              "      <th>140399</th>\n",
              "      <td>235790</td>\n",
              "      <td>49490.txt</td>\n",
              "      <td>NaN</td>\n",
              "      <td>NaN</td>\n",
              "      <td>www.slavevoyages.org</td>\n",
              "      <td>NaN</td>\n",
              "      <td>0.0</td>\n",
              "      <td>NaN</td>\n",
              "      <td>1.000000</td>\n",
              "      <td>0.079963</td>\n",
              "      <td>...</td>\n",
              "      <td>NaN</td>\n",
              "      <td>0.0</td>\n",
              "      <td>1.0</td>\n",
              "      <td>23.0</td>\n",
              "      <td>3.0</td>\n",
              "      <td>6.0</td>\n",
              "      <td>NaN</td>\n",
              "      <td>12.0</td>\n",
              "      <td>NaN</td>\n",
              "      <td>1</td>\n",
              "    </tr>\n",
              "    <tr>\n",
              "      <th>140400</th>\n",
              "      <td>235791</td>\n",
              "      <td>NaN</td>\n",
              "      <td>https://www.greenmountainenergy.com</td>\n",
              "      <td>34.0</td>\n",
              "      <td>www.greenmountainenergy.com</td>\n",
              "      <td>NaN</td>\n",
              "      <td>0.0</td>\n",
              "      <td>com</td>\n",
              "      <td>1.000000</td>\n",
              "      <td>0.522907</td>\n",
              "      <td>...</td>\n",
              "      <td>1.0</td>\n",
              "      <td>NaN</td>\n",
              "      <td>1.0</td>\n",
              "      <td>26.0</td>\n",
              "      <td>NaN</td>\n",
              "      <td>NaN</td>\n",
              "      <td>169.0</td>\n",
              "      <td>15.0</td>\n",
              "      <td>40.0</td>\n",
              "      <td>1</td>\n",
              "    </tr>\n",
              "    <tr>\n",
              "      <th>140401</th>\n",
              "      <td>235792</td>\n",
              "      <td>NaN</td>\n",
              "      <td>https://www.leadcastingcall.com</td>\n",
              "      <td>30.0</td>\n",
              "      <td>www.leadcastingcall.com</td>\n",
              "      <td>23.0</td>\n",
              "      <td>NaN</td>\n",
              "      <td>NaN</td>\n",
              "      <td>1.000000</td>\n",
              "      <td>0.522907</td>\n",
              "      <td>...</td>\n",
              "      <td>0.0</td>\n",
              "      <td>0.0</td>\n",
              "      <td>1.0</td>\n",
              "      <td>25.0</td>\n",
              "      <td>NaN</td>\n",
              "      <td>NaN</td>\n",
              "      <td>87.0</td>\n",
              "      <td>1.0</td>\n",
              "      <td>93.0</td>\n",
              "      <td>1</td>\n",
              "    </tr>\n",
              "    <tr>\n",
              "      <th>140402</th>\n",
              "      <td>235794</td>\n",
              "      <td>NaN</td>\n",
              "      <td>https://www.fedarb.com</td>\n",
              "      <td>21.0</td>\n",
              "      <td>NaN</td>\n",
              "      <td>14.0</td>\n",
              "      <td>NaN</td>\n",
              "      <td>NaN</td>\n",
              "      <td>1.000000</td>\n",
              "      <td>0.522907</td>\n",
              "      <td>...</td>\n",
              "      <td>0.0</td>\n",
              "      <td>0.0</td>\n",
              "      <td>1.0</td>\n",
              "      <td>NaN</td>\n",
              "      <td>36.0</td>\n",
              "      <td>NaN</td>\n",
              "      <td>102.0</td>\n",
              "      <td>NaN</td>\n",
              "      <td>NaN</td>\n",
              "      <td>1</td>\n",
              "    </tr>\n",
              "    <tr>\n",
              "      <th>140403</th>\n",
              "      <td>235795</td>\n",
              "      <td>464776.txt</td>\n",
              "      <td>https://www.risenenergy.com</td>\n",
              "      <td>26.0</td>\n",
              "      <td>www.risenenergy.com</td>\n",
              "      <td>19.0</td>\n",
              "      <td>NaN</td>\n",
              "      <td>NaN</td>\n",
              "      <td>1.000000</td>\n",
              "      <td>0.522907</td>\n",
              "      <td>...</td>\n",
              "      <td>0.0</td>\n",
              "      <td>0.0</td>\n",
              "      <td>NaN</td>\n",
              "      <td>34.0</td>\n",
              "      <td>3.0</td>\n",
              "      <td>3.0</td>\n",
              "      <td>126.0</td>\n",
              "      <td>3.0</td>\n",
              "      <td>129.0</td>\n",
              "      <td>1</td>\n",
              "    </tr>\n",
              "  </tbody>\n",
              "</table>\n",
              "<p>140404 rows × 56 columns</p>\n",
              "</div>\n",
              "    <div class=\"colab-df-buttons\">\n",
              "\n",
              "  <div class=\"colab-df-container\">\n",
              "    <button class=\"colab-df-convert\" onclick=\"convertToInteractive('df-2f83d6dd-fe0f-4c45-92b2-bf61b6ee6a15')\"\n",
              "            title=\"Convert this dataframe to an interactive table.\"\n",
              "            style=\"display:none;\">\n",
              "\n",
              "  <svg xmlns=\"http://www.w3.org/2000/svg\" height=\"24px\" viewBox=\"0 -960 960 960\">\n",
              "    <path d=\"M120-120v-720h720v720H120Zm60-500h600v-160H180v160Zm220 220h160v-160H400v160Zm0 220h160v-160H400v160ZM180-400h160v-160H180v160Zm440 0h160v-160H620v160ZM180-180h160v-160H180v160Zm440 0h160v-160H620v160Z\"/>\n",
              "  </svg>\n",
              "    </button>\n",
              "\n",
              "  <style>\n",
              "    .colab-df-container {\n",
              "      display:flex;\n",
              "      gap: 12px;\n",
              "    }\n",
              "\n",
              "    .colab-df-convert {\n",
              "      background-color: #E8F0FE;\n",
              "      border: none;\n",
              "      border-radius: 50%;\n",
              "      cursor: pointer;\n",
              "      display: none;\n",
              "      fill: #1967D2;\n",
              "      height: 32px;\n",
              "      padding: 0 0 0 0;\n",
              "      width: 32px;\n",
              "    }\n",
              "\n",
              "    .colab-df-convert:hover {\n",
              "      background-color: #E2EBFA;\n",
              "      box-shadow: 0px 1px 2px rgba(60, 64, 67, 0.3), 0px 1px 3px 1px rgba(60, 64, 67, 0.15);\n",
              "      fill: #174EA6;\n",
              "    }\n",
              "\n",
              "    .colab-df-buttons div {\n",
              "      margin-bottom: 4px;\n",
              "    }\n",
              "\n",
              "    [theme=dark] .colab-df-convert {\n",
              "      background-color: #3B4455;\n",
              "      fill: #D2E3FC;\n",
              "    }\n",
              "\n",
              "    [theme=dark] .colab-df-convert:hover {\n",
              "      background-color: #434B5C;\n",
              "      box-shadow: 0px 1px 3px 1px rgba(0, 0, 0, 0.15);\n",
              "      filter: drop-shadow(0px 1px 2px rgba(0, 0, 0, 0.3));\n",
              "      fill: #FFFFFF;\n",
              "    }\n",
              "  </style>\n",
              "\n",
              "    <script>\n",
              "      const buttonEl =\n",
              "        document.querySelector('#df-2f83d6dd-fe0f-4c45-92b2-bf61b6ee6a15 button.colab-df-convert');\n",
              "      buttonEl.style.display =\n",
              "        google.colab.kernel.accessAllowed ? 'block' : 'none';\n",
              "\n",
              "      async function convertToInteractive(key) {\n",
              "        const element = document.querySelector('#df-2f83d6dd-fe0f-4c45-92b2-bf61b6ee6a15');\n",
              "        const dataTable =\n",
              "          await google.colab.kernel.invokeFunction('convertToInteractive',\n",
              "                                                    [key], {});\n",
              "        if (!dataTable) return;\n",
              "\n",
              "        const docLinkHtml = 'Like what you see? Visit the ' +\n",
              "          '<a target=\"_blank\" href=https://colab.research.google.com/notebooks/data_table.ipynb>data table notebook</a>'\n",
              "          + ' to learn more about interactive tables.';\n",
              "        element.innerHTML = '';\n",
              "        dataTable['output_type'] = 'display_data';\n",
              "        await google.colab.output.renderOutput(dataTable, element);\n",
              "        const docLink = document.createElement('div');\n",
              "        docLink.innerHTML = docLinkHtml;\n",
              "        element.appendChild(docLink);\n",
              "      }\n",
              "    </script>\n",
              "  </div>\n",
              "\n",
              "\n",
              "<div id=\"df-dd89bc87-4345-49ca-969f-9f0b7a9d5ec5\">\n",
              "  <button class=\"colab-df-quickchart\" onclick=\"quickchart('df-dd89bc87-4345-49ca-969f-9f0b7a9d5ec5')\"\n",
              "            title=\"Suggest charts\"\n",
              "            style=\"display:none;\">\n",
              "\n",
              "<svg xmlns=\"http://www.w3.org/2000/svg\" height=\"24px\"viewBox=\"0 0 24 24\"\n",
              "     width=\"24px\">\n",
              "    <g>\n",
              "        <path d=\"M19 3H5c-1.1 0-2 .9-2 2v14c0 1.1.9 2 2 2h14c1.1 0 2-.9 2-2V5c0-1.1-.9-2-2-2zM9 17H7v-7h2v7zm4 0h-2V7h2v10zm4 0h-2v-4h2v4z\"/>\n",
              "    </g>\n",
              "</svg>\n",
              "  </button>\n",
              "\n",
              "<style>\n",
              "  .colab-df-quickchart {\n",
              "      --bg-color: #E8F0FE;\n",
              "      --fill-color: #1967D2;\n",
              "      --hover-bg-color: #E2EBFA;\n",
              "      --hover-fill-color: #174EA6;\n",
              "      --disabled-fill-color: #AAA;\n",
              "      --disabled-bg-color: #DDD;\n",
              "  }\n",
              "\n",
              "  [theme=dark] .colab-df-quickchart {\n",
              "      --bg-color: #3B4455;\n",
              "      --fill-color: #D2E3FC;\n",
              "      --hover-bg-color: #434B5C;\n",
              "      --hover-fill-color: #FFFFFF;\n",
              "      --disabled-bg-color: #3B4455;\n",
              "      --disabled-fill-color: #666;\n",
              "  }\n",
              "\n",
              "  .colab-df-quickchart {\n",
              "    background-color: var(--bg-color);\n",
              "    border: none;\n",
              "    border-radius: 50%;\n",
              "    cursor: pointer;\n",
              "    display: none;\n",
              "    fill: var(--fill-color);\n",
              "    height: 32px;\n",
              "    padding: 0;\n",
              "    width: 32px;\n",
              "  }\n",
              "\n",
              "  .colab-df-quickchart:hover {\n",
              "    background-color: var(--hover-bg-color);\n",
              "    box-shadow: 0 1px 2px rgba(60, 64, 67, 0.3), 0 1px 3px 1px rgba(60, 64, 67, 0.15);\n",
              "    fill: var(--button-hover-fill-color);\n",
              "  }\n",
              "\n",
              "  .colab-df-quickchart-complete:disabled,\n",
              "  .colab-df-quickchart-complete:disabled:hover {\n",
              "    background-color: var(--disabled-bg-color);\n",
              "    fill: var(--disabled-fill-color);\n",
              "    box-shadow: none;\n",
              "  }\n",
              "\n",
              "  .colab-df-spinner {\n",
              "    border: 2px solid var(--fill-color);\n",
              "    border-color: transparent;\n",
              "    border-bottom-color: var(--fill-color);\n",
              "    animation:\n",
              "      spin 1s steps(1) infinite;\n",
              "  }\n",
              "\n",
              "  @keyframes spin {\n",
              "    0% {\n",
              "      border-color: transparent;\n",
              "      border-bottom-color: var(--fill-color);\n",
              "      border-left-color: var(--fill-color);\n",
              "    }\n",
              "    20% {\n",
              "      border-color: transparent;\n",
              "      border-left-color: var(--fill-color);\n",
              "      border-top-color: var(--fill-color);\n",
              "    }\n",
              "    30% {\n",
              "      border-color: transparent;\n",
              "      border-left-color: var(--fill-color);\n",
              "      border-top-color: var(--fill-color);\n",
              "      border-right-color: var(--fill-color);\n",
              "    }\n",
              "    40% {\n",
              "      border-color: transparent;\n",
              "      border-right-color: var(--fill-color);\n",
              "      border-top-color: var(--fill-color);\n",
              "    }\n",
              "    60% {\n",
              "      border-color: transparent;\n",
              "      border-right-color: var(--fill-color);\n",
              "    }\n",
              "    80% {\n",
              "      border-color: transparent;\n",
              "      border-right-color: var(--fill-color);\n",
              "      border-bottom-color: var(--fill-color);\n",
              "    }\n",
              "    90% {\n",
              "      border-color: transparent;\n",
              "      border-bottom-color: var(--fill-color);\n",
              "    }\n",
              "  }\n",
              "</style>\n",
              "\n",
              "  <script>\n",
              "    async function quickchart(key) {\n",
              "      const quickchartButtonEl =\n",
              "        document.querySelector('#' + key + ' button');\n",
              "      quickchartButtonEl.disabled = true;  // To prevent multiple clicks.\n",
              "      quickchartButtonEl.classList.add('colab-df-spinner');\n",
              "      try {\n",
              "        const charts = await google.colab.kernel.invokeFunction(\n",
              "            'suggestCharts', [key], {});\n",
              "      } catch (error) {\n",
              "        console.error('Error during call to suggestCharts:', error);\n",
              "      }\n",
              "      quickchartButtonEl.classList.remove('colab-df-spinner');\n",
              "      quickchartButtonEl.classList.add('colab-df-quickchart-complete');\n",
              "    }\n",
              "    (() => {\n",
              "      let quickchartButtonEl =\n",
              "        document.querySelector('#df-dd89bc87-4345-49ca-969f-9f0b7a9d5ec5 button');\n",
              "      quickchartButtonEl.style.display =\n",
              "        google.colab.kernel.accessAllowed ? 'block' : 'none';\n",
              "    })();\n",
              "  </script>\n",
              "</div>\n",
              "\n",
              "  <div id=\"id_2fb9f8cc-e5e2-4889-ae06-cbaec266347d\">\n",
              "    <style>\n",
              "      .colab-df-generate {\n",
              "        background-color: #E8F0FE;\n",
              "        border: none;\n",
              "        border-radius: 50%;\n",
              "        cursor: pointer;\n",
              "        display: none;\n",
              "        fill: #1967D2;\n",
              "        height: 32px;\n",
              "        padding: 0 0 0 0;\n",
              "        width: 32px;\n",
              "      }\n",
              "\n",
              "      .colab-df-generate:hover {\n",
              "        background-color: #E2EBFA;\n",
              "        box-shadow: 0px 1px 2px rgba(60, 64, 67, 0.3), 0px 1px 3px 1px rgba(60, 64, 67, 0.15);\n",
              "        fill: #174EA6;\n",
              "      }\n",
              "\n",
              "      [theme=dark] .colab-df-generate {\n",
              "        background-color: #3B4455;\n",
              "        fill: #D2E3FC;\n",
              "      }\n",
              "\n",
              "      [theme=dark] .colab-df-generate:hover {\n",
              "        background-color: #434B5C;\n",
              "        box-shadow: 0px 1px 3px 1px rgba(0, 0, 0, 0.15);\n",
              "        filter: drop-shadow(0px 1px 2px rgba(0, 0, 0, 0.3));\n",
              "        fill: #FFFFFF;\n",
              "      }\n",
              "    </style>\n",
              "    <button class=\"colab-df-generate\" onclick=\"generateWithVariable('df')\"\n",
              "            title=\"Generate code using this dataframe.\"\n",
              "            style=\"display:none;\">\n",
              "\n",
              "  <svg xmlns=\"http://www.w3.org/2000/svg\" height=\"24px\"viewBox=\"0 0 24 24\"\n",
              "       width=\"24px\">\n",
              "    <path d=\"M7,19H8.4L18.45,9,17,7.55,7,17.6ZM5,21V16.75L18.45,3.32a2,2,0,0,1,2.83,0l1.4,1.43a1.91,1.91,0,0,1,.58,1.4,1.91,1.91,0,0,1-.58,1.4L9.25,21ZM18.45,9,17,7.55Zm-12,3A5.31,5.31,0,0,0,4.9,8.1,5.31,5.31,0,0,0,1,6.5,5.31,5.31,0,0,0,4.9,4.9,5.31,5.31,0,0,0,6.5,1,5.31,5.31,0,0,0,8.1,4.9,5.31,5.31,0,0,0,12,6.5,5.46,5.46,0,0,0,6.5,12Z\"/>\n",
              "  </svg>\n",
              "    </button>\n",
              "    <script>\n",
              "      (() => {\n",
              "      const buttonEl =\n",
              "        document.querySelector('#id_2fb9f8cc-e5e2-4889-ae06-cbaec266347d button.colab-df-generate');\n",
              "      buttonEl.style.display =\n",
              "        google.colab.kernel.accessAllowed ? 'block' : 'none';\n",
              "\n",
              "      buttonEl.onclick = () => {\n",
              "        google.colab.notebook.generateWithVariable('df');\n",
              "      }\n",
              "      })();\n",
              "    </script>\n",
              "  </div>\n",
              "\n",
              "    </div>\n",
              "  </div>\n"
            ],
            "application/vnd.google.colaboratory.intrinsic+json": {
              "type": "dataframe",
              "variable_name": "df"
            }
          },
          "metadata": {},
          "execution_count": 143
        }
      ],
      "source": [
        "# File ID from Google Drive\n",
        "# https://drive.google.com/file/d/1TcrkpgWV0WshPC48LUguqKSrCHpimCk0/view?usp=sharing => File ID: 1TcrkpgWV0WshPC48LUguqKSrCHpimCk0\n",
        "# Penggunaan format berikut:\n",
        "# https://drive.google.com/uc?id={file_id}\n",
        "\n",
        "# Read File CSV\n",
        "df = pd.read_csv('https://drive.google.com/uc?id=1pcBlv7jxdaJf3agqnT445vrBmNaav7iL',sep=',', low_memory=False)\n",
        "df"
      ]
    },
    {
      "cell_type": "markdown",
      "metadata": {
        "id": "u4Oa7Sbz_OV0"
      },
      "source": [
        "## Import Feature Specification from Dataset's Website"
      ]
    },
    {
      "cell_type": "code",
      "execution_count": null,
      "metadata": {
        "id": "dcff--Np_KaX"
      },
      "outputs": [],
      "source": [
        "import requests\n",
        "import json\n",
        "\n",
        "# https://archive.ics.uci.edu/dataset/967/phiusiil+phishing+url+dataset\n",
        "URL = \"https://archive.ics.uci.edu/api/trpc/donated_datasets.findById,keywords.findByDatasetId,variables.findTableByDatasetId,variableInfo.findTupleByDatasetId,edits.findByDatasetId,creators.findByDatasetId,descriptive.findTupleByDatasetId,evals.findByDatasetId,citation.findByDatasetId,files.findByDatasetId,files.findTableByDatasetId,notes.findByDatasetId,papers.findByDatasetId,donated_datasets.names,reviews.findByDatasetId,python.findRequestById,users.findById,citation.findCitationRequests?batch=1&input=%7B%220%22%3A%7B%22json%22%3A967%7D%2C%221%22%3A%7B%22json%22%3A967%7D%2C%222%22%3A%7B%22json%22%3A967%7D%2C%223%22%3A%7B%22json%22%3A967%7D%2C%224%22%3A%7B%22json%22%3A%7B%22datasetID%22%3A967%7D%7D%2C%225%22%3A%7B%22json%22%3A967%7D%2C%226%22%3A%7B%22json%22%3A967%7D%2C%227%22%3A%7B%22json%22%3A967%7D%2C%228%22%3A%7B%22json%22%3A967%7D%2C%229%22%3A%7B%22json%22%3A967%7D%2C%2210%22%3A%7B%22json%22%3A967%7D%2C%2211%22%3A%7B%22json%22%3A967%7D%2C%2212%22%3A%7B%22json%22%3A967%7D%2C%2213%22%3A%7B%22json%22%3Anull%2C%22meta%22%3A%7B%22values%22%3A%5B%22undefined%22%5D%7D%7D%2C%2214%22%3A%7B%22json%22%3A967%7D%2C%2215%22%3A%7B%22json%22%3A967%7D%2C%2216%22%3A%7B%22json%22%3A16997%7D%2C%2217%22%3A%7B%22json%22%3A967%7D%7D\"\n",
        "\n",
        "JSON = json.loads(requests.get(URL).text)\n",
        "data_schema = JSON[0][\"result\"][\"data\"][\"json\"][\"edits\"][6][\"data\"][\"variables\"]"
      ]
    },
    {
      "cell_type": "markdown",
      "metadata": {
        "id": "gvx-gT3bLfHM"
      },
      "source": [
        "# 1. Split Training Set and Validation Set\n",
        "\n",
        "Splitting the training and validation set works as an early diagnostic towards the performance of the model we train. This is done before the preprocessing steps to **avoid data leakage inbetween the sets**. If you want to use k-fold cross-validation, split the data later and do the cleaning and preprocessing separately for each split.\n",
        "\n",
        "Note: For training, you should use the data contained in the `train` folder given by the TA. The `test` data is only used for kaggle submission."
      ]
    },
    {
      "cell_type": "code",
      "execution_count": null,
      "metadata": {
        "id": "4yWCUFFBLfHM"
      },
      "outputs": [],
      "source": [
        "X = df.drop(['label', 'id', 'FILENAME'], axis=1)  # Features\n",
        "y = df['label']  # Target variable\n",
        "\n",
        "X_train, X_val, y_train, y_val = train_test_split(X, y, test_size=0.2, random_state=42)\n",
        "X_train_pipe_test = X_train.copy()\n",
        "X_val_pipe_test = X_val.copy()"
      ]
    },
    {
      "cell_type": "code",
      "execution_count": null,
      "metadata": {
        "colab": {
          "base_uri": "https://localhost:8080/",
          "height": 443
        },
        "id": "1kKaI2zDfpzd",
        "outputId": "8693d695-1251-4bed-938c-71fa4c9bfcf5"
      },
      "outputs": [
        {
          "output_type": "execute_result",
          "data": {
            "text/plain": [
              "                                      URL  URLLength  \\\n",
              "28021               https://www.yc-tp.com        NaN   \n",
              "71026                                 NaN       25.0   \n",
              "89927          https://www.autodesk.co.uk       25.0   \n",
              "94654        https://www.marketmanila.com       27.0   \n",
              "35275           https://www.re-course.org        NaN   \n",
              "...                                   ...        ...   \n",
              "110268           https://www.gemathis.com       23.0   \n",
              "119879                                NaN       24.0   \n",
              "103694                                NaN       34.0   \n",
              "131932       https://www.leinsterrugby.ie       27.0   \n",
              "121958  https://www.cruiseharbournews.com        NaN   \n",
              "\n",
              "                           Domain  DomainLength  IsDomainIP  TLD  \\\n",
              "28021                         NaN          13.0         0.0  com   \n",
              "71026                         NaN          18.0         NaN  com   \n",
              "89927                         NaN          18.0         0.0  NaN   \n",
              "94654        www.marketmanila.com          20.0         0.0  NaN   \n",
              "35275                         NaN          17.0         0.0  org   \n",
              "...                           ...           ...         ...  ...   \n",
              "110268           www.gemathis.com          16.0         0.0  com   \n",
              "119879          www.mural24.co.uk           NaN         0.0   uk   \n",
              "103694                        NaN          27.0         0.0  NaN   \n",
              "131932                        NaN          20.0         0.0   ie   \n",
              "121958  www.cruiseharbournews.com           NaN         0.0  com   \n",
              "\n",
              "        CharContinuationRate  TLDLegitimateProb  URLCharProb  TLDLength  ...  \\\n",
              "28021               0.600000           0.522907          NaN        NaN  ...   \n",
              "71026                    NaN                NaN     0.061236        3.0  ...   \n",
              "89927               0.818182           0.028555          NaN        NaN  ...   \n",
              "94654               1.000000                NaN     0.066401        3.0  ...   \n",
              "35275                    NaN                NaN          NaN        3.0  ...   \n",
              "...                      ...                ...          ...        ...  ...   \n",
              "110268              1.000000           0.522907          NaN        3.0  ...   \n",
              "119879              0.800000                NaN          NaN        2.0  ...   \n",
              "103694              1.000000                NaN          NaN        3.0  ...   \n",
              "131932                   NaN           0.001588     0.052675        NaN  ...   \n",
              "121958              1.000000                NaN     0.060561        NaN  ...   \n",
              "\n",
              "        Bank  Pay  Crypto  HasCopyrightInfo  NoOfImage  NoOfCSS  NoOfJS  \\\n",
              "28021    0.0  0.0     NaN               NaN       30.0     12.0     NaN   \n",
              "71026    NaN  0.0     NaN               1.0       88.0     11.0    16.0   \n",
              "89927    0.0  NaN     0.0               1.0       31.0      NaN    25.0   \n",
              "94654    NaN  1.0     0.0               NaN        NaN     26.0    23.0   \n",
              "35275    1.0  1.0     0.0               1.0        NaN     11.0    17.0   \n",
              "...      ...  ...     ...               ...        ...      ...     ...   \n",
              "110268   0.0  NaN     0.0               1.0        NaN      2.0     NaN   \n",
              "119879   0.0  1.0     0.0               NaN      166.0      3.0     7.0   \n",
              "103694   1.0  1.0     0.0               NaN        NaN      NaN     NaN   \n",
              "131932   1.0  0.0     0.0               1.0        NaN      NaN    57.0   \n",
              "121958   NaN  0.0     0.0               1.0        NaN      NaN     9.0   \n",
              "\n",
              "        NoOfSelfRef  NoOfEmptyRef  NoOfExternalRef  \n",
              "28021           NaN           0.0            138.0  \n",
              "71026         211.0           0.0              NaN  \n",
              "89927           NaN           1.0              NaN  \n",
              "94654         105.0           0.0              NaN  \n",
              "35275          23.0           0.0              NaN  \n",
              "...             ...           ...              ...  \n",
              "110268        106.0           7.0              NaN  \n",
              "119879          NaN           1.0              NaN  \n",
              "103694         42.0           NaN             25.0  \n",
              "131932          NaN           0.0            331.0  \n",
              "121958          NaN           NaN              NaN  \n",
              "\n",
              "[112323 rows x 53 columns]"
            ],
            "text/html": [
              "\n",
              "  <div id=\"df-984711b3-ff50-473c-8723-e86e0ffb8ed6\" class=\"colab-df-container\">\n",
              "    <div>\n",
              "<style scoped>\n",
              "    .dataframe tbody tr th:only-of-type {\n",
              "        vertical-align: middle;\n",
              "    }\n",
              "\n",
              "    .dataframe tbody tr th {\n",
              "        vertical-align: top;\n",
              "    }\n",
              "\n",
              "    .dataframe thead th {\n",
              "        text-align: right;\n",
              "    }\n",
              "</style>\n",
              "<table border=\"1\" class=\"dataframe\">\n",
              "  <thead>\n",
              "    <tr style=\"text-align: right;\">\n",
              "      <th></th>\n",
              "      <th>URL</th>\n",
              "      <th>URLLength</th>\n",
              "      <th>Domain</th>\n",
              "      <th>DomainLength</th>\n",
              "      <th>IsDomainIP</th>\n",
              "      <th>TLD</th>\n",
              "      <th>CharContinuationRate</th>\n",
              "      <th>TLDLegitimateProb</th>\n",
              "      <th>URLCharProb</th>\n",
              "      <th>TLDLength</th>\n",
              "      <th>...</th>\n",
              "      <th>Bank</th>\n",
              "      <th>Pay</th>\n",
              "      <th>Crypto</th>\n",
              "      <th>HasCopyrightInfo</th>\n",
              "      <th>NoOfImage</th>\n",
              "      <th>NoOfCSS</th>\n",
              "      <th>NoOfJS</th>\n",
              "      <th>NoOfSelfRef</th>\n",
              "      <th>NoOfEmptyRef</th>\n",
              "      <th>NoOfExternalRef</th>\n",
              "    </tr>\n",
              "  </thead>\n",
              "  <tbody>\n",
              "    <tr>\n",
              "      <th>28021</th>\n",
              "      <td>https://www.yc-tp.com</td>\n",
              "      <td>NaN</td>\n",
              "      <td>NaN</td>\n",
              "      <td>13.0</td>\n",
              "      <td>0.0</td>\n",
              "      <td>com</td>\n",
              "      <td>0.600000</td>\n",
              "      <td>0.522907</td>\n",
              "      <td>NaN</td>\n",
              "      <td>NaN</td>\n",
              "      <td>...</td>\n",
              "      <td>0.0</td>\n",
              "      <td>0.0</td>\n",
              "      <td>NaN</td>\n",
              "      <td>NaN</td>\n",
              "      <td>30.0</td>\n",
              "      <td>12.0</td>\n",
              "      <td>NaN</td>\n",
              "      <td>NaN</td>\n",
              "      <td>0.0</td>\n",
              "      <td>138.0</td>\n",
              "    </tr>\n",
              "    <tr>\n",
              "      <th>71026</th>\n",
              "      <td>NaN</td>\n",
              "      <td>25.0</td>\n",
              "      <td>NaN</td>\n",
              "      <td>18.0</td>\n",
              "      <td>NaN</td>\n",
              "      <td>com</td>\n",
              "      <td>NaN</td>\n",
              "      <td>NaN</td>\n",
              "      <td>0.061236</td>\n",
              "      <td>3.0</td>\n",
              "      <td>...</td>\n",
              "      <td>NaN</td>\n",
              "      <td>0.0</td>\n",
              "      <td>NaN</td>\n",
              "      <td>1.0</td>\n",
              "      <td>88.0</td>\n",
              "      <td>11.0</td>\n",
              "      <td>16.0</td>\n",
              "      <td>211.0</td>\n",
              "      <td>0.0</td>\n",
              "      <td>NaN</td>\n",
              "    </tr>\n",
              "    <tr>\n",
              "      <th>89927</th>\n",
              "      <td>https://www.autodesk.co.uk</td>\n",
              "      <td>25.0</td>\n",
              "      <td>NaN</td>\n",
              "      <td>18.0</td>\n",
              "      <td>0.0</td>\n",
              "      <td>NaN</td>\n",
              "      <td>0.818182</td>\n",
              "      <td>0.028555</td>\n",
              "      <td>NaN</td>\n",
              "      <td>NaN</td>\n",
              "      <td>...</td>\n",
              "      <td>0.0</td>\n",
              "      <td>NaN</td>\n",
              "      <td>0.0</td>\n",
              "      <td>1.0</td>\n",
              "      <td>31.0</td>\n",
              "      <td>NaN</td>\n",
              "      <td>25.0</td>\n",
              "      <td>NaN</td>\n",
              "      <td>1.0</td>\n",
              "      <td>NaN</td>\n",
              "    </tr>\n",
              "    <tr>\n",
              "      <th>94654</th>\n",
              "      <td>https://www.marketmanila.com</td>\n",
              "      <td>27.0</td>\n",
              "      <td>www.marketmanila.com</td>\n",
              "      <td>20.0</td>\n",
              "      <td>0.0</td>\n",
              "      <td>NaN</td>\n",
              "      <td>1.000000</td>\n",
              "      <td>NaN</td>\n",
              "      <td>0.066401</td>\n",
              "      <td>3.0</td>\n",
              "      <td>...</td>\n",
              "      <td>NaN</td>\n",
              "      <td>1.0</td>\n",
              "      <td>0.0</td>\n",
              "      <td>NaN</td>\n",
              "      <td>NaN</td>\n",
              "      <td>26.0</td>\n",
              "      <td>23.0</td>\n",
              "      <td>105.0</td>\n",
              "      <td>0.0</td>\n",
              "      <td>NaN</td>\n",
              "    </tr>\n",
              "    <tr>\n",
              "      <th>35275</th>\n",
              "      <td>https://www.re-course.org</td>\n",
              "      <td>NaN</td>\n",
              "      <td>NaN</td>\n",
              "      <td>17.0</td>\n",
              "      <td>0.0</td>\n",
              "      <td>org</td>\n",
              "      <td>NaN</td>\n",
              "      <td>NaN</td>\n",
              "      <td>NaN</td>\n",
              "      <td>3.0</td>\n",
              "      <td>...</td>\n",
              "      <td>1.0</td>\n",
              "      <td>1.0</td>\n",
              "      <td>0.0</td>\n",
              "      <td>1.0</td>\n",
              "      <td>NaN</td>\n",
              "      <td>11.0</td>\n",
              "      <td>17.0</td>\n",
              "      <td>23.0</td>\n",
              "      <td>0.0</td>\n",
              "      <td>NaN</td>\n",
              "    </tr>\n",
              "    <tr>\n",
              "      <th>...</th>\n",
              "      <td>...</td>\n",
              "      <td>...</td>\n",
              "      <td>...</td>\n",
              "      <td>...</td>\n",
              "      <td>...</td>\n",
              "      <td>...</td>\n",
              "      <td>...</td>\n",
              "      <td>...</td>\n",
              "      <td>...</td>\n",
              "      <td>...</td>\n",
              "      <td>...</td>\n",
              "      <td>...</td>\n",
              "      <td>...</td>\n",
              "      <td>...</td>\n",
              "      <td>...</td>\n",
              "      <td>...</td>\n",
              "      <td>...</td>\n",
              "      <td>...</td>\n",
              "      <td>...</td>\n",
              "      <td>...</td>\n",
              "      <td>...</td>\n",
              "    </tr>\n",
              "    <tr>\n",
              "      <th>110268</th>\n",
              "      <td>https://www.gemathis.com</td>\n",
              "      <td>23.0</td>\n",
              "      <td>www.gemathis.com</td>\n",
              "      <td>16.0</td>\n",
              "      <td>0.0</td>\n",
              "      <td>com</td>\n",
              "      <td>1.000000</td>\n",
              "      <td>0.522907</td>\n",
              "      <td>NaN</td>\n",
              "      <td>3.0</td>\n",
              "      <td>...</td>\n",
              "      <td>0.0</td>\n",
              "      <td>NaN</td>\n",
              "      <td>0.0</td>\n",
              "      <td>1.0</td>\n",
              "      <td>NaN</td>\n",
              "      <td>2.0</td>\n",
              "      <td>NaN</td>\n",
              "      <td>106.0</td>\n",
              "      <td>7.0</td>\n",
              "      <td>NaN</td>\n",
              "    </tr>\n",
              "    <tr>\n",
              "      <th>119879</th>\n",
              "      <td>NaN</td>\n",
              "      <td>24.0</td>\n",
              "      <td>www.mural24.co.uk</td>\n",
              "      <td>NaN</td>\n",
              "      <td>0.0</td>\n",
              "      <td>uk</td>\n",
              "      <td>0.800000</td>\n",
              "      <td>NaN</td>\n",
              "      <td>NaN</td>\n",
              "      <td>2.0</td>\n",
              "      <td>...</td>\n",
              "      <td>0.0</td>\n",
              "      <td>1.0</td>\n",
              "      <td>0.0</td>\n",
              "      <td>NaN</td>\n",
              "      <td>166.0</td>\n",
              "      <td>3.0</td>\n",
              "      <td>7.0</td>\n",
              "      <td>NaN</td>\n",
              "      <td>1.0</td>\n",
              "      <td>NaN</td>\n",
              "    </tr>\n",
              "    <tr>\n",
              "      <th>103694</th>\n",
              "      <td>NaN</td>\n",
              "      <td>34.0</td>\n",
              "      <td>NaN</td>\n",
              "      <td>27.0</td>\n",
              "      <td>0.0</td>\n",
              "      <td>NaN</td>\n",
              "      <td>1.000000</td>\n",
              "      <td>NaN</td>\n",
              "      <td>NaN</td>\n",
              "      <td>3.0</td>\n",
              "      <td>...</td>\n",
              "      <td>1.0</td>\n",
              "      <td>1.0</td>\n",
              "      <td>0.0</td>\n",
              "      <td>NaN</td>\n",
              "      <td>NaN</td>\n",
              "      <td>NaN</td>\n",
              "      <td>NaN</td>\n",
              "      <td>42.0</td>\n",
              "      <td>NaN</td>\n",
              "      <td>25.0</td>\n",
              "    </tr>\n",
              "    <tr>\n",
              "      <th>131932</th>\n",
              "      <td>https://www.leinsterrugby.ie</td>\n",
              "      <td>27.0</td>\n",
              "      <td>NaN</td>\n",
              "      <td>20.0</td>\n",
              "      <td>0.0</td>\n",
              "      <td>ie</td>\n",
              "      <td>NaN</td>\n",
              "      <td>0.001588</td>\n",
              "      <td>0.052675</td>\n",
              "      <td>NaN</td>\n",
              "      <td>...</td>\n",
              "      <td>1.0</td>\n",
              "      <td>0.0</td>\n",
              "      <td>0.0</td>\n",
              "      <td>1.0</td>\n",
              "      <td>NaN</td>\n",
              "      <td>NaN</td>\n",
              "      <td>57.0</td>\n",
              "      <td>NaN</td>\n",
              "      <td>0.0</td>\n",
              "      <td>331.0</td>\n",
              "    </tr>\n",
              "    <tr>\n",
              "      <th>121958</th>\n",
              "      <td>https://www.cruiseharbournews.com</td>\n",
              "      <td>NaN</td>\n",
              "      <td>www.cruiseharbournews.com</td>\n",
              "      <td>NaN</td>\n",
              "      <td>0.0</td>\n",
              "      <td>com</td>\n",
              "      <td>1.000000</td>\n",
              "      <td>NaN</td>\n",
              "      <td>0.060561</td>\n",
              "      <td>NaN</td>\n",
              "      <td>...</td>\n",
              "      <td>NaN</td>\n",
              "      <td>0.0</td>\n",
              "      <td>0.0</td>\n",
              "      <td>1.0</td>\n",
              "      <td>NaN</td>\n",
              "      <td>NaN</td>\n",
              "      <td>9.0</td>\n",
              "      <td>NaN</td>\n",
              "      <td>NaN</td>\n",
              "      <td>NaN</td>\n",
              "    </tr>\n",
              "  </tbody>\n",
              "</table>\n",
              "<p>112323 rows × 53 columns</p>\n",
              "</div>\n",
              "    <div class=\"colab-df-buttons\">\n",
              "\n",
              "  <div class=\"colab-df-container\">\n",
              "    <button class=\"colab-df-convert\" onclick=\"convertToInteractive('df-984711b3-ff50-473c-8723-e86e0ffb8ed6')\"\n",
              "            title=\"Convert this dataframe to an interactive table.\"\n",
              "            style=\"display:none;\">\n",
              "\n",
              "  <svg xmlns=\"http://www.w3.org/2000/svg\" height=\"24px\" viewBox=\"0 -960 960 960\">\n",
              "    <path d=\"M120-120v-720h720v720H120Zm60-500h600v-160H180v160Zm220 220h160v-160H400v160Zm0 220h160v-160H400v160ZM180-400h160v-160H180v160Zm440 0h160v-160H620v160ZM180-180h160v-160H180v160Zm440 0h160v-160H620v160Z\"/>\n",
              "  </svg>\n",
              "    </button>\n",
              "\n",
              "  <style>\n",
              "    .colab-df-container {\n",
              "      display:flex;\n",
              "      gap: 12px;\n",
              "    }\n",
              "\n",
              "    .colab-df-convert {\n",
              "      background-color: #E8F0FE;\n",
              "      border: none;\n",
              "      border-radius: 50%;\n",
              "      cursor: pointer;\n",
              "      display: none;\n",
              "      fill: #1967D2;\n",
              "      height: 32px;\n",
              "      padding: 0 0 0 0;\n",
              "      width: 32px;\n",
              "    }\n",
              "\n",
              "    .colab-df-convert:hover {\n",
              "      background-color: #E2EBFA;\n",
              "      box-shadow: 0px 1px 2px rgba(60, 64, 67, 0.3), 0px 1px 3px 1px rgba(60, 64, 67, 0.15);\n",
              "      fill: #174EA6;\n",
              "    }\n",
              "\n",
              "    .colab-df-buttons div {\n",
              "      margin-bottom: 4px;\n",
              "    }\n",
              "\n",
              "    [theme=dark] .colab-df-convert {\n",
              "      background-color: #3B4455;\n",
              "      fill: #D2E3FC;\n",
              "    }\n",
              "\n",
              "    [theme=dark] .colab-df-convert:hover {\n",
              "      background-color: #434B5C;\n",
              "      box-shadow: 0px 1px 3px 1px rgba(0, 0, 0, 0.15);\n",
              "      filter: drop-shadow(0px 1px 2px rgba(0, 0, 0, 0.3));\n",
              "      fill: #FFFFFF;\n",
              "    }\n",
              "  </style>\n",
              "\n",
              "    <script>\n",
              "      const buttonEl =\n",
              "        document.querySelector('#df-984711b3-ff50-473c-8723-e86e0ffb8ed6 button.colab-df-convert');\n",
              "      buttonEl.style.display =\n",
              "        google.colab.kernel.accessAllowed ? 'block' : 'none';\n",
              "\n",
              "      async function convertToInteractive(key) {\n",
              "        const element = document.querySelector('#df-984711b3-ff50-473c-8723-e86e0ffb8ed6');\n",
              "        const dataTable =\n",
              "          await google.colab.kernel.invokeFunction('convertToInteractive',\n",
              "                                                    [key], {});\n",
              "        if (!dataTable) return;\n",
              "\n",
              "        const docLinkHtml = 'Like what you see? Visit the ' +\n",
              "          '<a target=\"_blank\" href=https://colab.research.google.com/notebooks/data_table.ipynb>data table notebook</a>'\n",
              "          + ' to learn more about interactive tables.';\n",
              "        element.innerHTML = '';\n",
              "        dataTable['output_type'] = 'display_data';\n",
              "        await google.colab.output.renderOutput(dataTable, element);\n",
              "        const docLink = document.createElement('div');\n",
              "        docLink.innerHTML = docLinkHtml;\n",
              "        element.appendChild(docLink);\n",
              "      }\n",
              "    </script>\n",
              "  </div>\n",
              "\n",
              "\n",
              "<div id=\"df-349d0fe1-79be-4cd2-bada-9a2f492cc9bc\">\n",
              "  <button class=\"colab-df-quickchart\" onclick=\"quickchart('df-349d0fe1-79be-4cd2-bada-9a2f492cc9bc')\"\n",
              "            title=\"Suggest charts\"\n",
              "            style=\"display:none;\">\n",
              "\n",
              "<svg xmlns=\"http://www.w3.org/2000/svg\" height=\"24px\"viewBox=\"0 0 24 24\"\n",
              "     width=\"24px\">\n",
              "    <g>\n",
              "        <path d=\"M19 3H5c-1.1 0-2 .9-2 2v14c0 1.1.9 2 2 2h14c1.1 0 2-.9 2-2V5c0-1.1-.9-2-2-2zM9 17H7v-7h2v7zm4 0h-2V7h2v10zm4 0h-2v-4h2v4z\"/>\n",
              "    </g>\n",
              "</svg>\n",
              "  </button>\n",
              "\n",
              "<style>\n",
              "  .colab-df-quickchart {\n",
              "      --bg-color: #E8F0FE;\n",
              "      --fill-color: #1967D2;\n",
              "      --hover-bg-color: #E2EBFA;\n",
              "      --hover-fill-color: #174EA6;\n",
              "      --disabled-fill-color: #AAA;\n",
              "      --disabled-bg-color: #DDD;\n",
              "  }\n",
              "\n",
              "  [theme=dark] .colab-df-quickchart {\n",
              "      --bg-color: #3B4455;\n",
              "      --fill-color: #D2E3FC;\n",
              "      --hover-bg-color: #434B5C;\n",
              "      --hover-fill-color: #FFFFFF;\n",
              "      --disabled-bg-color: #3B4455;\n",
              "      --disabled-fill-color: #666;\n",
              "  }\n",
              "\n",
              "  .colab-df-quickchart {\n",
              "    background-color: var(--bg-color);\n",
              "    border: none;\n",
              "    border-radius: 50%;\n",
              "    cursor: pointer;\n",
              "    display: none;\n",
              "    fill: var(--fill-color);\n",
              "    height: 32px;\n",
              "    padding: 0;\n",
              "    width: 32px;\n",
              "  }\n",
              "\n",
              "  .colab-df-quickchart:hover {\n",
              "    background-color: var(--hover-bg-color);\n",
              "    box-shadow: 0 1px 2px rgba(60, 64, 67, 0.3), 0 1px 3px 1px rgba(60, 64, 67, 0.15);\n",
              "    fill: var(--button-hover-fill-color);\n",
              "  }\n",
              "\n",
              "  .colab-df-quickchart-complete:disabled,\n",
              "  .colab-df-quickchart-complete:disabled:hover {\n",
              "    background-color: var(--disabled-bg-color);\n",
              "    fill: var(--disabled-fill-color);\n",
              "    box-shadow: none;\n",
              "  }\n",
              "\n",
              "  .colab-df-spinner {\n",
              "    border: 2px solid var(--fill-color);\n",
              "    border-color: transparent;\n",
              "    border-bottom-color: var(--fill-color);\n",
              "    animation:\n",
              "      spin 1s steps(1) infinite;\n",
              "  }\n",
              "\n",
              "  @keyframes spin {\n",
              "    0% {\n",
              "      border-color: transparent;\n",
              "      border-bottom-color: var(--fill-color);\n",
              "      border-left-color: var(--fill-color);\n",
              "    }\n",
              "    20% {\n",
              "      border-color: transparent;\n",
              "      border-left-color: var(--fill-color);\n",
              "      border-top-color: var(--fill-color);\n",
              "    }\n",
              "    30% {\n",
              "      border-color: transparent;\n",
              "      border-left-color: var(--fill-color);\n",
              "      border-top-color: var(--fill-color);\n",
              "      border-right-color: var(--fill-color);\n",
              "    }\n",
              "    40% {\n",
              "      border-color: transparent;\n",
              "      border-right-color: var(--fill-color);\n",
              "      border-top-color: var(--fill-color);\n",
              "    }\n",
              "    60% {\n",
              "      border-color: transparent;\n",
              "      border-right-color: var(--fill-color);\n",
              "    }\n",
              "    80% {\n",
              "      border-color: transparent;\n",
              "      border-right-color: var(--fill-color);\n",
              "      border-bottom-color: var(--fill-color);\n",
              "    }\n",
              "    90% {\n",
              "      border-color: transparent;\n",
              "      border-bottom-color: var(--fill-color);\n",
              "    }\n",
              "  }\n",
              "</style>\n",
              "\n",
              "  <script>\n",
              "    async function quickchart(key) {\n",
              "      const quickchartButtonEl =\n",
              "        document.querySelector('#' + key + ' button');\n",
              "      quickchartButtonEl.disabled = true;  // To prevent multiple clicks.\n",
              "      quickchartButtonEl.classList.add('colab-df-spinner');\n",
              "      try {\n",
              "        const charts = await google.colab.kernel.invokeFunction(\n",
              "            'suggestCharts', [key], {});\n",
              "      } catch (error) {\n",
              "        console.error('Error during call to suggestCharts:', error);\n",
              "      }\n",
              "      quickchartButtonEl.classList.remove('colab-df-spinner');\n",
              "      quickchartButtonEl.classList.add('colab-df-quickchart-complete');\n",
              "    }\n",
              "    (() => {\n",
              "      let quickchartButtonEl =\n",
              "        document.querySelector('#df-349d0fe1-79be-4cd2-bada-9a2f492cc9bc button');\n",
              "      quickchartButtonEl.style.display =\n",
              "        google.colab.kernel.accessAllowed ? 'block' : 'none';\n",
              "    })();\n",
              "  </script>\n",
              "</div>\n",
              "\n",
              "  <div id=\"id_20663a05-f2c7-427a-b8bd-3adcf8db0ab5\">\n",
              "    <style>\n",
              "      .colab-df-generate {\n",
              "        background-color: #E8F0FE;\n",
              "        border: none;\n",
              "        border-radius: 50%;\n",
              "        cursor: pointer;\n",
              "        display: none;\n",
              "        fill: #1967D2;\n",
              "        height: 32px;\n",
              "        padding: 0 0 0 0;\n",
              "        width: 32px;\n",
              "      }\n",
              "\n",
              "      .colab-df-generate:hover {\n",
              "        background-color: #E2EBFA;\n",
              "        box-shadow: 0px 1px 2px rgba(60, 64, 67, 0.3), 0px 1px 3px 1px rgba(60, 64, 67, 0.15);\n",
              "        fill: #174EA6;\n",
              "      }\n",
              "\n",
              "      [theme=dark] .colab-df-generate {\n",
              "        background-color: #3B4455;\n",
              "        fill: #D2E3FC;\n",
              "      }\n",
              "\n",
              "      [theme=dark] .colab-df-generate:hover {\n",
              "        background-color: #434B5C;\n",
              "        box-shadow: 0px 1px 3px 1px rgba(0, 0, 0, 0.15);\n",
              "        filter: drop-shadow(0px 1px 2px rgba(0, 0, 0, 0.3));\n",
              "        fill: #FFFFFF;\n",
              "      }\n",
              "    </style>\n",
              "    <button class=\"colab-df-generate\" onclick=\"generateWithVariable('X_train')\"\n",
              "            title=\"Generate code using this dataframe.\"\n",
              "            style=\"display:none;\">\n",
              "\n",
              "  <svg xmlns=\"http://www.w3.org/2000/svg\" height=\"24px\"viewBox=\"0 0 24 24\"\n",
              "       width=\"24px\">\n",
              "    <path d=\"M7,19H8.4L18.45,9,17,7.55,7,17.6ZM5,21V16.75L18.45,3.32a2,2,0,0,1,2.83,0l1.4,1.43a1.91,1.91,0,0,1,.58,1.4,1.91,1.91,0,0,1-.58,1.4L9.25,21ZM18.45,9,17,7.55Zm-12,3A5.31,5.31,0,0,0,4.9,8.1,5.31,5.31,0,0,0,1,6.5,5.31,5.31,0,0,0,4.9,4.9,5.31,5.31,0,0,0,6.5,1,5.31,5.31,0,0,0,8.1,4.9,5.31,5.31,0,0,0,12,6.5,5.46,5.46,0,0,0,6.5,12Z\"/>\n",
              "  </svg>\n",
              "    </button>\n",
              "    <script>\n",
              "      (() => {\n",
              "      const buttonEl =\n",
              "        document.querySelector('#id_20663a05-f2c7-427a-b8bd-3adcf8db0ab5 button.colab-df-generate');\n",
              "      buttonEl.style.display =\n",
              "        google.colab.kernel.accessAllowed ? 'block' : 'none';\n",
              "\n",
              "      buttonEl.onclick = () => {\n",
              "        google.colab.notebook.generateWithVariable('X_train');\n",
              "      }\n",
              "      })();\n",
              "    </script>\n",
              "  </div>\n",
              "\n",
              "    </div>\n",
              "  </div>\n"
            ],
            "application/vnd.google.colaboratory.intrinsic+json": {
              "type": "dataframe",
              "variable_name": "X_train"
            }
          },
          "metadata": {},
          "execution_count": 146
        }
      ],
      "source": [
        "X_train"
      ]
    },
    {
      "cell_type": "code",
      "execution_count": null,
      "metadata": {
        "colab": {
          "base_uri": "https://localhost:8080/",
          "height": 461
        },
        "id": "b2EKaxay5GtI",
        "outputId": "8f5eda8c-4ad6-43fa-fa30-71f983de8aa3"
      },
      "outputs": [
        {
          "output_type": "execute_result",
          "data": {
            "text/plain": [
              "                                        URL  URLLength  \\\n",
              "8409      https://www.citroencarclub.org.uk        NaN   \n",
              "20959          https://www.flipyourtext.com        NaN   \n",
              "88797                                   NaN       25.0   \n",
              "24345         https://www.elcalafate.gov.ar       28.0   \n",
              "95019               https://www.dongwon.com       22.0   \n",
              "...                                     ...        ...   \n",
              "36268        https://www.rerumromanarum.com       29.0   \n",
              "39295              https://www.ftlofaot.com        NaN   \n",
              "111590          https://www.ancestry.com.au        NaN   \n",
              "134414  https://www.winterthurer-zeitung.ch       34.0   \n",
              "37313                                   NaN        NaN   \n",
              "\n",
              "                        Domain  DomainLength  IsDomainIP  TLD  \\\n",
              "8409                       NaN          25.0         0.0   uk   \n",
              "20959     www.flipyourtext.com           NaN         0.0  com   \n",
              "88797                      NaN          18.0         0.0  NaN   \n",
              "24345                      NaN           NaN         NaN  NaN   \n",
              "95019                      NaN           NaN         0.0  NaN   \n",
              "...                        ...           ...         ...  ...   \n",
              "36268   www.rerumromanarum.com          22.0         0.0  NaN   \n",
              "39295         www.ftlofaot.com          16.0         0.0  NaN   \n",
              "111590     www.ancestry.com.au           NaN         0.0   au   \n",
              "134414                     NaN          27.0         0.0   ch   \n",
              "37313                      NaN          18.0         0.0  com   \n",
              "\n",
              "        CharContinuationRate  TLDLegitimateProb  URLCharProb  TLDLength  ...  \\\n",
              "8409                     NaN           0.028555     0.061899        2.0  ...   \n",
              "20959                    NaN           0.522907          NaN        3.0  ...   \n",
              "88797                    NaN           0.522907          NaN        3.0  ...   \n",
              "24345                    NaN                NaN     0.062508        2.0  ...   \n",
              "95019                   1.00           0.522907     0.062712        3.0  ...   \n",
              "...                      ...                ...          ...        ...  ...   \n",
              "36268                   1.00                NaN     0.067816        3.0  ...   \n",
              "39295                   1.00           0.522907     0.064400        3.0  ...   \n",
              "111590                  0.75           0.010086     0.067188        NaN  ...   \n",
              "134414                  0.65           0.004983     0.053312        NaN  ...   \n",
              "37313                   1.00                NaN     0.055372        3.0  ...   \n",
              "\n",
              "        Bank  Pay  Crypto  HasCopyrightInfo  NoOfImage  NoOfCSS  NoOfJS  \\\n",
              "8409     0.0  0.0     0.0               1.0        NaN     20.0    27.0   \n",
              "20959    0.0  NaN     0.0               NaN        2.0      NaN     9.0   \n",
              "88797    NaN  1.0     NaN               1.0        3.0      3.0     NaN   \n",
              "24345    NaN  0.0     NaN               1.0        NaN      NaN    40.0   \n",
              "95019    0.0  0.0     0.0               1.0        NaN     12.0     9.0   \n",
              "...      ...  ...     ...               ...        ...      ...     ...   \n",
              "36268    0.0  0.0     0.0               0.0        NaN      3.0     NaN   \n",
              "39295    NaN  1.0     NaN               NaN        NaN      NaN     NaN   \n",
              "111590   0.0  NaN     NaN               1.0        NaN      5.0     NaN   \n",
              "134414   0.0  0.0     NaN               NaN        NaN      NaN     NaN   \n",
              "37313    0.0  0.0     0.0               1.0        NaN     21.0     NaN   \n",
              "\n",
              "        NoOfSelfRef  NoOfEmptyRef  NoOfExternalRef  \n",
              "8409            2.0          14.0              NaN  \n",
              "20959           8.0           0.0              NaN  \n",
              "88797           2.0           NaN              2.0  \n",
              "24345          82.0           2.0              NaN  \n",
              "95019          63.0           NaN              NaN  \n",
              "...             ...           ...              ...  \n",
              "36268         172.0           0.0              NaN  \n",
              "39295         424.0           NaN              NaN  \n",
              "111590          NaN           0.0              NaN  \n",
              "134414        172.0           NaN              NaN  \n",
              "37313          94.0           NaN             90.0  \n",
              "\n",
              "[28081 rows x 53 columns]"
            ],
            "text/html": [
              "\n",
              "  <div id=\"df-81229bdb-c83f-40ce-a6f1-141e7ad534a0\" class=\"colab-df-container\">\n",
              "    <div>\n",
              "<style scoped>\n",
              "    .dataframe tbody tr th:only-of-type {\n",
              "        vertical-align: middle;\n",
              "    }\n",
              "\n",
              "    .dataframe tbody tr th {\n",
              "        vertical-align: top;\n",
              "    }\n",
              "\n",
              "    .dataframe thead th {\n",
              "        text-align: right;\n",
              "    }\n",
              "</style>\n",
              "<table border=\"1\" class=\"dataframe\">\n",
              "  <thead>\n",
              "    <tr style=\"text-align: right;\">\n",
              "      <th></th>\n",
              "      <th>URL</th>\n",
              "      <th>URLLength</th>\n",
              "      <th>Domain</th>\n",
              "      <th>DomainLength</th>\n",
              "      <th>IsDomainIP</th>\n",
              "      <th>TLD</th>\n",
              "      <th>CharContinuationRate</th>\n",
              "      <th>TLDLegitimateProb</th>\n",
              "      <th>URLCharProb</th>\n",
              "      <th>TLDLength</th>\n",
              "      <th>...</th>\n",
              "      <th>Bank</th>\n",
              "      <th>Pay</th>\n",
              "      <th>Crypto</th>\n",
              "      <th>HasCopyrightInfo</th>\n",
              "      <th>NoOfImage</th>\n",
              "      <th>NoOfCSS</th>\n",
              "      <th>NoOfJS</th>\n",
              "      <th>NoOfSelfRef</th>\n",
              "      <th>NoOfEmptyRef</th>\n",
              "      <th>NoOfExternalRef</th>\n",
              "    </tr>\n",
              "  </thead>\n",
              "  <tbody>\n",
              "    <tr>\n",
              "      <th>8409</th>\n",
              "      <td>https://www.citroencarclub.org.uk</td>\n",
              "      <td>NaN</td>\n",
              "      <td>NaN</td>\n",
              "      <td>25.0</td>\n",
              "      <td>0.0</td>\n",
              "      <td>uk</td>\n",
              "      <td>NaN</td>\n",
              "      <td>0.028555</td>\n",
              "      <td>0.061899</td>\n",
              "      <td>2.0</td>\n",
              "      <td>...</td>\n",
              "      <td>0.0</td>\n",
              "      <td>0.0</td>\n",
              "      <td>0.0</td>\n",
              "      <td>1.0</td>\n",
              "      <td>NaN</td>\n",
              "      <td>20.0</td>\n",
              "      <td>27.0</td>\n",
              "      <td>2.0</td>\n",
              "      <td>14.0</td>\n",
              "      <td>NaN</td>\n",
              "    </tr>\n",
              "    <tr>\n",
              "      <th>20959</th>\n",
              "      <td>https://www.flipyourtext.com</td>\n",
              "      <td>NaN</td>\n",
              "      <td>www.flipyourtext.com</td>\n",
              "      <td>NaN</td>\n",
              "      <td>0.0</td>\n",
              "      <td>com</td>\n",
              "      <td>NaN</td>\n",
              "      <td>0.522907</td>\n",
              "      <td>NaN</td>\n",
              "      <td>3.0</td>\n",
              "      <td>...</td>\n",
              "      <td>0.0</td>\n",
              "      <td>NaN</td>\n",
              "      <td>0.0</td>\n",
              "      <td>NaN</td>\n",
              "      <td>2.0</td>\n",
              "      <td>NaN</td>\n",
              "      <td>9.0</td>\n",
              "      <td>8.0</td>\n",
              "      <td>0.0</td>\n",
              "      <td>NaN</td>\n",
              "    </tr>\n",
              "    <tr>\n",
              "      <th>88797</th>\n",
              "      <td>NaN</td>\n",
              "      <td>25.0</td>\n",
              "      <td>NaN</td>\n",
              "      <td>18.0</td>\n",
              "      <td>0.0</td>\n",
              "      <td>NaN</td>\n",
              "      <td>NaN</td>\n",
              "      <td>0.522907</td>\n",
              "      <td>NaN</td>\n",
              "      <td>3.0</td>\n",
              "      <td>...</td>\n",
              "      <td>NaN</td>\n",
              "      <td>1.0</td>\n",
              "      <td>NaN</td>\n",
              "      <td>1.0</td>\n",
              "      <td>3.0</td>\n",
              "      <td>3.0</td>\n",
              "      <td>NaN</td>\n",
              "      <td>2.0</td>\n",
              "      <td>NaN</td>\n",
              "      <td>2.0</td>\n",
              "    </tr>\n",
              "    <tr>\n",
              "      <th>24345</th>\n",
              "      <td>https://www.elcalafate.gov.ar</td>\n",
              "      <td>28.0</td>\n",
              "      <td>NaN</td>\n",
              "      <td>NaN</td>\n",
              "      <td>NaN</td>\n",
              "      <td>NaN</td>\n",
              "      <td>NaN</td>\n",
              "      <td>NaN</td>\n",
              "      <td>0.062508</td>\n",
              "      <td>2.0</td>\n",
              "      <td>...</td>\n",
              "      <td>NaN</td>\n",
              "      <td>0.0</td>\n",
              "      <td>NaN</td>\n",
              "      <td>1.0</td>\n",
              "      <td>NaN</td>\n",
              "      <td>NaN</td>\n",
              "      <td>40.0</td>\n",
              "      <td>82.0</td>\n",
              "      <td>2.0</td>\n",
              "      <td>NaN</td>\n",
              "    </tr>\n",
              "    <tr>\n",
              "      <th>95019</th>\n",
              "      <td>https://www.dongwon.com</td>\n",
              "      <td>22.0</td>\n",
              "      <td>NaN</td>\n",
              "      <td>NaN</td>\n",
              "      <td>0.0</td>\n",
              "      <td>NaN</td>\n",
              "      <td>1.00</td>\n",
              "      <td>0.522907</td>\n",
              "      <td>0.062712</td>\n",
              "      <td>3.0</td>\n",
              "      <td>...</td>\n",
              "      <td>0.0</td>\n",
              "      <td>0.0</td>\n",
              "      <td>0.0</td>\n",
              "      <td>1.0</td>\n",
              "      <td>NaN</td>\n",
              "      <td>12.0</td>\n",
              "      <td>9.0</td>\n",
              "      <td>63.0</td>\n",
              "      <td>NaN</td>\n",
              "      <td>NaN</td>\n",
              "    </tr>\n",
              "    <tr>\n",
              "      <th>...</th>\n",
              "      <td>...</td>\n",
              "      <td>...</td>\n",
              "      <td>...</td>\n",
              "      <td>...</td>\n",
              "      <td>...</td>\n",
              "      <td>...</td>\n",
              "      <td>...</td>\n",
              "      <td>...</td>\n",
              "      <td>...</td>\n",
              "      <td>...</td>\n",
              "      <td>...</td>\n",
              "      <td>...</td>\n",
              "      <td>...</td>\n",
              "      <td>...</td>\n",
              "      <td>...</td>\n",
              "      <td>...</td>\n",
              "      <td>...</td>\n",
              "      <td>...</td>\n",
              "      <td>...</td>\n",
              "      <td>...</td>\n",
              "      <td>...</td>\n",
              "    </tr>\n",
              "    <tr>\n",
              "      <th>36268</th>\n",
              "      <td>https://www.rerumromanarum.com</td>\n",
              "      <td>29.0</td>\n",
              "      <td>www.rerumromanarum.com</td>\n",
              "      <td>22.0</td>\n",
              "      <td>0.0</td>\n",
              "      <td>NaN</td>\n",
              "      <td>1.00</td>\n",
              "      <td>NaN</td>\n",
              "      <td>0.067816</td>\n",
              "      <td>3.0</td>\n",
              "      <td>...</td>\n",
              "      <td>0.0</td>\n",
              "      <td>0.0</td>\n",
              "      <td>0.0</td>\n",
              "      <td>0.0</td>\n",
              "      <td>NaN</td>\n",
              "      <td>3.0</td>\n",
              "      <td>NaN</td>\n",
              "      <td>172.0</td>\n",
              "      <td>0.0</td>\n",
              "      <td>NaN</td>\n",
              "    </tr>\n",
              "    <tr>\n",
              "      <th>39295</th>\n",
              "      <td>https://www.ftlofaot.com</td>\n",
              "      <td>NaN</td>\n",
              "      <td>www.ftlofaot.com</td>\n",
              "      <td>16.0</td>\n",
              "      <td>0.0</td>\n",
              "      <td>NaN</td>\n",
              "      <td>1.00</td>\n",
              "      <td>0.522907</td>\n",
              "      <td>0.064400</td>\n",
              "      <td>3.0</td>\n",
              "      <td>...</td>\n",
              "      <td>NaN</td>\n",
              "      <td>1.0</td>\n",
              "      <td>NaN</td>\n",
              "      <td>NaN</td>\n",
              "      <td>NaN</td>\n",
              "      <td>NaN</td>\n",
              "      <td>NaN</td>\n",
              "      <td>424.0</td>\n",
              "      <td>NaN</td>\n",
              "      <td>NaN</td>\n",
              "    </tr>\n",
              "    <tr>\n",
              "      <th>111590</th>\n",
              "      <td>https://www.ancestry.com.au</td>\n",
              "      <td>NaN</td>\n",
              "      <td>www.ancestry.com.au</td>\n",
              "      <td>NaN</td>\n",
              "      <td>0.0</td>\n",
              "      <td>au</td>\n",
              "      <td>0.75</td>\n",
              "      <td>0.010086</td>\n",
              "      <td>0.067188</td>\n",
              "      <td>NaN</td>\n",
              "      <td>...</td>\n",
              "      <td>0.0</td>\n",
              "      <td>NaN</td>\n",
              "      <td>NaN</td>\n",
              "      <td>1.0</td>\n",
              "      <td>NaN</td>\n",
              "      <td>5.0</td>\n",
              "      <td>NaN</td>\n",
              "      <td>NaN</td>\n",
              "      <td>0.0</td>\n",
              "      <td>NaN</td>\n",
              "    </tr>\n",
              "    <tr>\n",
              "      <th>134414</th>\n",
              "      <td>https://www.winterthurer-zeitung.ch</td>\n",
              "      <td>34.0</td>\n",
              "      <td>NaN</td>\n",
              "      <td>27.0</td>\n",
              "      <td>0.0</td>\n",
              "      <td>ch</td>\n",
              "      <td>0.65</td>\n",
              "      <td>0.004983</td>\n",
              "      <td>0.053312</td>\n",
              "      <td>NaN</td>\n",
              "      <td>...</td>\n",
              "      <td>0.0</td>\n",
              "      <td>0.0</td>\n",
              "      <td>NaN</td>\n",
              "      <td>NaN</td>\n",
              "      <td>NaN</td>\n",
              "      <td>NaN</td>\n",
              "      <td>NaN</td>\n",
              "      <td>172.0</td>\n",
              "      <td>NaN</td>\n",
              "      <td>NaN</td>\n",
              "    </tr>\n",
              "    <tr>\n",
              "      <th>37313</th>\n",
              "      <td>NaN</td>\n",
              "      <td>NaN</td>\n",
              "      <td>NaN</td>\n",
              "      <td>18.0</td>\n",
              "      <td>0.0</td>\n",
              "      <td>com</td>\n",
              "      <td>1.00</td>\n",
              "      <td>NaN</td>\n",
              "      <td>0.055372</td>\n",
              "      <td>3.0</td>\n",
              "      <td>...</td>\n",
              "      <td>0.0</td>\n",
              "      <td>0.0</td>\n",
              "      <td>0.0</td>\n",
              "      <td>1.0</td>\n",
              "      <td>NaN</td>\n",
              "      <td>21.0</td>\n",
              "      <td>NaN</td>\n",
              "      <td>94.0</td>\n",
              "      <td>NaN</td>\n",
              "      <td>90.0</td>\n",
              "    </tr>\n",
              "  </tbody>\n",
              "</table>\n",
              "<p>28081 rows × 53 columns</p>\n",
              "</div>\n",
              "    <div class=\"colab-df-buttons\">\n",
              "\n",
              "  <div class=\"colab-df-container\">\n",
              "    <button class=\"colab-df-convert\" onclick=\"convertToInteractive('df-81229bdb-c83f-40ce-a6f1-141e7ad534a0')\"\n",
              "            title=\"Convert this dataframe to an interactive table.\"\n",
              "            style=\"display:none;\">\n",
              "\n",
              "  <svg xmlns=\"http://www.w3.org/2000/svg\" height=\"24px\" viewBox=\"0 -960 960 960\">\n",
              "    <path d=\"M120-120v-720h720v720H120Zm60-500h600v-160H180v160Zm220 220h160v-160H400v160Zm0 220h160v-160H400v160ZM180-400h160v-160H180v160Zm440 0h160v-160H620v160ZM180-180h160v-160H180v160Zm440 0h160v-160H620v160Z\"/>\n",
              "  </svg>\n",
              "    </button>\n",
              "\n",
              "  <style>\n",
              "    .colab-df-container {\n",
              "      display:flex;\n",
              "      gap: 12px;\n",
              "    }\n",
              "\n",
              "    .colab-df-convert {\n",
              "      background-color: #E8F0FE;\n",
              "      border: none;\n",
              "      border-radius: 50%;\n",
              "      cursor: pointer;\n",
              "      display: none;\n",
              "      fill: #1967D2;\n",
              "      height: 32px;\n",
              "      padding: 0 0 0 0;\n",
              "      width: 32px;\n",
              "    }\n",
              "\n",
              "    .colab-df-convert:hover {\n",
              "      background-color: #E2EBFA;\n",
              "      box-shadow: 0px 1px 2px rgba(60, 64, 67, 0.3), 0px 1px 3px 1px rgba(60, 64, 67, 0.15);\n",
              "      fill: #174EA6;\n",
              "    }\n",
              "\n",
              "    .colab-df-buttons div {\n",
              "      margin-bottom: 4px;\n",
              "    }\n",
              "\n",
              "    [theme=dark] .colab-df-convert {\n",
              "      background-color: #3B4455;\n",
              "      fill: #D2E3FC;\n",
              "    }\n",
              "\n",
              "    [theme=dark] .colab-df-convert:hover {\n",
              "      background-color: #434B5C;\n",
              "      box-shadow: 0px 1px 3px 1px rgba(0, 0, 0, 0.15);\n",
              "      filter: drop-shadow(0px 1px 2px rgba(0, 0, 0, 0.3));\n",
              "      fill: #FFFFFF;\n",
              "    }\n",
              "  </style>\n",
              "\n",
              "    <script>\n",
              "      const buttonEl =\n",
              "        document.querySelector('#df-81229bdb-c83f-40ce-a6f1-141e7ad534a0 button.colab-df-convert');\n",
              "      buttonEl.style.display =\n",
              "        google.colab.kernel.accessAllowed ? 'block' : 'none';\n",
              "\n",
              "      async function convertToInteractive(key) {\n",
              "        const element = document.querySelector('#df-81229bdb-c83f-40ce-a6f1-141e7ad534a0');\n",
              "        const dataTable =\n",
              "          await google.colab.kernel.invokeFunction('convertToInteractive',\n",
              "                                                    [key], {});\n",
              "        if (!dataTable) return;\n",
              "\n",
              "        const docLinkHtml = 'Like what you see? Visit the ' +\n",
              "          '<a target=\"_blank\" href=https://colab.research.google.com/notebooks/data_table.ipynb>data table notebook</a>'\n",
              "          + ' to learn more about interactive tables.';\n",
              "        element.innerHTML = '';\n",
              "        dataTable['output_type'] = 'display_data';\n",
              "        await google.colab.output.renderOutput(dataTable, element);\n",
              "        const docLink = document.createElement('div');\n",
              "        docLink.innerHTML = docLinkHtml;\n",
              "        element.appendChild(docLink);\n",
              "      }\n",
              "    </script>\n",
              "  </div>\n",
              "\n",
              "\n",
              "<div id=\"df-41f27a79-10be-471b-86eb-22f48b443422\">\n",
              "  <button class=\"colab-df-quickchart\" onclick=\"quickchart('df-41f27a79-10be-471b-86eb-22f48b443422')\"\n",
              "            title=\"Suggest charts\"\n",
              "            style=\"display:none;\">\n",
              "\n",
              "<svg xmlns=\"http://www.w3.org/2000/svg\" height=\"24px\"viewBox=\"0 0 24 24\"\n",
              "     width=\"24px\">\n",
              "    <g>\n",
              "        <path d=\"M19 3H5c-1.1 0-2 .9-2 2v14c0 1.1.9 2 2 2h14c1.1 0 2-.9 2-2V5c0-1.1-.9-2-2-2zM9 17H7v-7h2v7zm4 0h-2V7h2v10zm4 0h-2v-4h2v4z\"/>\n",
              "    </g>\n",
              "</svg>\n",
              "  </button>\n",
              "\n",
              "<style>\n",
              "  .colab-df-quickchart {\n",
              "      --bg-color: #E8F0FE;\n",
              "      --fill-color: #1967D2;\n",
              "      --hover-bg-color: #E2EBFA;\n",
              "      --hover-fill-color: #174EA6;\n",
              "      --disabled-fill-color: #AAA;\n",
              "      --disabled-bg-color: #DDD;\n",
              "  }\n",
              "\n",
              "  [theme=dark] .colab-df-quickchart {\n",
              "      --bg-color: #3B4455;\n",
              "      --fill-color: #D2E3FC;\n",
              "      --hover-bg-color: #434B5C;\n",
              "      --hover-fill-color: #FFFFFF;\n",
              "      --disabled-bg-color: #3B4455;\n",
              "      --disabled-fill-color: #666;\n",
              "  }\n",
              "\n",
              "  .colab-df-quickchart {\n",
              "    background-color: var(--bg-color);\n",
              "    border: none;\n",
              "    border-radius: 50%;\n",
              "    cursor: pointer;\n",
              "    display: none;\n",
              "    fill: var(--fill-color);\n",
              "    height: 32px;\n",
              "    padding: 0;\n",
              "    width: 32px;\n",
              "  }\n",
              "\n",
              "  .colab-df-quickchart:hover {\n",
              "    background-color: var(--hover-bg-color);\n",
              "    box-shadow: 0 1px 2px rgba(60, 64, 67, 0.3), 0 1px 3px 1px rgba(60, 64, 67, 0.15);\n",
              "    fill: var(--button-hover-fill-color);\n",
              "  }\n",
              "\n",
              "  .colab-df-quickchart-complete:disabled,\n",
              "  .colab-df-quickchart-complete:disabled:hover {\n",
              "    background-color: var(--disabled-bg-color);\n",
              "    fill: var(--disabled-fill-color);\n",
              "    box-shadow: none;\n",
              "  }\n",
              "\n",
              "  .colab-df-spinner {\n",
              "    border: 2px solid var(--fill-color);\n",
              "    border-color: transparent;\n",
              "    border-bottom-color: var(--fill-color);\n",
              "    animation:\n",
              "      spin 1s steps(1) infinite;\n",
              "  }\n",
              "\n",
              "  @keyframes spin {\n",
              "    0% {\n",
              "      border-color: transparent;\n",
              "      border-bottom-color: var(--fill-color);\n",
              "      border-left-color: var(--fill-color);\n",
              "    }\n",
              "    20% {\n",
              "      border-color: transparent;\n",
              "      border-left-color: var(--fill-color);\n",
              "      border-top-color: var(--fill-color);\n",
              "    }\n",
              "    30% {\n",
              "      border-color: transparent;\n",
              "      border-left-color: var(--fill-color);\n",
              "      border-top-color: var(--fill-color);\n",
              "      border-right-color: var(--fill-color);\n",
              "    }\n",
              "    40% {\n",
              "      border-color: transparent;\n",
              "      border-right-color: var(--fill-color);\n",
              "      border-top-color: var(--fill-color);\n",
              "    }\n",
              "    60% {\n",
              "      border-color: transparent;\n",
              "      border-right-color: var(--fill-color);\n",
              "    }\n",
              "    80% {\n",
              "      border-color: transparent;\n",
              "      border-right-color: var(--fill-color);\n",
              "      border-bottom-color: var(--fill-color);\n",
              "    }\n",
              "    90% {\n",
              "      border-color: transparent;\n",
              "      border-bottom-color: var(--fill-color);\n",
              "    }\n",
              "  }\n",
              "</style>\n",
              "\n",
              "  <script>\n",
              "    async function quickchart(key) {\n",
              "      const quickchartButtonEl =\n",
              "        document.querySelector('#' + key + ' button');\n",
              "      quickchartButtonEl.disabled = true;  // To prevent multiple clicks.\n",
              "      quickchartButtonEl.classList.add('colab-df-spinner');\n",
              "      try {\n",
              "        const charts = await google.colab.kernel.invokeFunction(\n",
              "            'suggestCharts', [key], {});\n",
              "      } catch (error) {\n",
              "        console.error('Error during call to suggestCharts:', error);\n",
              "      }\n",
              "      quickchartButtonEl.classList.remove('colab-df-spinner');\n",
              "      quickchartButtonEl.classList.add('colab-df-quickchart-complete');\n",
              "    }\n",
              "    (() => {\n",
              "      let quickchartButtonEl =\n",
              "        document.querySelector('#df-41f27a79-10be-471b-86eb-22f48b443422 button');\n",
              "      quickchartButtonEl.style.display =\n",
              "        google.colab.kernel.accessAllowed ? 'block' : 'none';\n",
              "    })();\n",
              "  </script>\n",
              "</div>\n",
              "\n",
              "  <div id=\"id_f7019b82-4df1-4540-a6d6-85b1f2120135\">\n",
              "    <style>\n",
              "      .colab-df-generate {\n",
              "        background-color: #E8F0FE;\n",
              "        border: none;\n",
              "        border-radius: 50%;\n",
              "        cursor: pointer;\n",
              "        display: none;\n",
              "        fill: #1967D2;\n",
              "        height: 32px;\n",
              "        padding: 0 0 0 0;\n",
              "        width: 32px;\n",
              "      }\n",
              "\n",
              "      .colab-df-generate:hover {\n",
              "        background-color: #E2EBFA;\n",
              "        box-shadow: 0px 1px 2px rgba(60, 64, 67, 0.3), 0px 1px 3px 1px rgba(60, 64, 67, 0.15);\n",
              "        fill: #174EA6;\n",
              "      }\n",
              "\n",
              "      [theme=dark] .colab-df-generate {\n",
              "        background-color: #3B4455;\n",
              "        fill: #D2E3FC;\n",
              "      }\n",
              "\n",
              "      [theme=dark] .colab-df-generate:hover {\n",
              "        background-color: #434B5C;\n",
              "        box-shadow: 0px 1px 3px 1px rgba(0, 0, 0, 0.15);\n",
              "        filter: drop-shadow(0px 1px 2px rgba(0, 0, 0, 0.3));\n",
              "        fill: #FFFFFF;\n",
              "      }\n",
              "    </style>\n",
              "    <button class=\"colab-df-generate\" onclick=\"generateWithVariable('X_val')\"\n",
              "            title=\"Generate code using this dataframe.\"\n",
              "            style=\"display:none;\">\n",
              "\n",
              "  <svg xmlns=\"http://www.w3.org/2000/svg\" height=\"24px\"viewBox=\"0 0 24 24\"\n",
              "       width=\"24px\">\n",
              "    <path d=\"M7,19H8.4L18.45,9,17,7.55,7,17.6ZM5,21V16.75L18.45,3.32a2,2,0,0,1,2.83,0l1.4,1.43a1.91,1.91,0,0,1,.58,1.4,1.91,1.91,0,0,1-.58,1.4L9.25,21ZM18.45,9,17,7.55Zm-12,3A5.31,5.31,0,0,0,4.9,8.1,5.31,5.31,0,0,0,1,6.5,5.31,5.31,0,0,0,4.9,4.9,5.31,5.31,0,0,0,6.5,1,5.31,5.31,0,0,0,8.1,4.9,5.31,5.31,0,0,0,12,6.5,5.46,5.46,0,0,0,6.5,12Z\"/>\n",
              "  </svg>\n",
              "    </button>\n",
              "    <script>\n",
              "      (() => {\n",
              "      const buttonEl =\n",
              "        document.querySelector('#id_f7019b82-4df1-4540-a6d6-85b1f2120135 button.colab-df-generate');\n",
              "      buttonEl.style.display =\n",
              "        google.colab.kernel.accessAllowed ? 'block' : 'none';\n",
              "\n",
              "      buttonEl.onclick = () => {\n",
              "        google.colab.notebook.generateWithVariable('X_val');\n",
              "      }\n",
              "      })();\n",
              "    </script>\n",
              "  </div>\n",
              "\n",
              "    </div>\n",
              "  </div>\n"
            ],
            "application/vnd.google.colaboratory.intrinsic+json": {
              "type": "dataframe",
              "variable_name": "X_val"
            }
          },
          "metadata": {},
          "execution_count": 147
        }
      ],
      "source": [
        "X_val"
      ]
    },
    {
      "cell_type": "code",
      "execution_count": null,
      "metadata": {
        "id": "5KCi0gFD4C60"
      },
      "outputs": [],
      "source": [
        "# Daftar Kolom Categorical\n",
        "categorical_columns = [\n",
        "    'IsDomainIP', 'HasObfuscation', 'IsHTTPS', 'HasTitle', 'HasFavicon',\n",
        "    'Robots', 'IsResponsive', 'HasDescription', 'HasSocialNet',\n",
        "    'HasSubmitButton', 'HasHiddenFields', 'HasPasswordField', 'Bank',\n",
        "    'Pay', 'Crypto', 'HasCopyrightInfo', 'Domain', 'URL',\n",
        "    'TLD', 'Title', 'HasExternalFormSubmit','NoOfSelfRedirect', 'NoOfURLRedirect'\n",
        "]\n",
        "\n",
        "categorical_columns_filtered = [\n",
        "    'IsDomainIP', 'HasObfuscation', 'IsHTTPS', 'HasTitle', 'HasFavicon',\n",
        "    'Robots', 'IsResponsive', 'HasDescription', 'HasSocialNet',\n",
        "    'HasSubmitButton', 'HasHiddenFields', 'HasPasswordField', 'Bank',\n",
        "    'Pay', 'Crypto', 'HasCopyrightInfo','HasExternalFormSubmit', 'NoOfSelfRedirect', 'NoOfURLRedirect'\n",
        "]\n",
        "\n",
        "# DataFrame Categorical\n",
        "X_train_categorical_columns = X_train[categorical_columns]\n",
        "X_train_categorical_columns_filtered = X_train[categorical_columns_filtered]"
      ]
    },
    {
      "cell_type": "code",
      "execution_count": null,
      "metadata": {
        "id": "vSFNzN9a4Kxs"
      },
      "outputs": [],
      "source": [
        "# Daftar Kolom Non-Categorical\n",
        "numerical_columns = [col for col in X_train.columns if col not in categorical_columns]\n",
        "\n",
        "# DataFrame dengan Hanya Kolom Non-Categorical\n",
        "X_train_numerical_all = X_train[numerical_columns]"
      ]
    },
    {
      "cell_type": "code",
      "execution_count": null,
      "metadata": {
        "id": "ArgAgnGM4OXQ"
      },
      "outputs": [],
      "source": [
        "continuous_columns = [\n",
        "    'CharContinuationRate',\n",
        "    'ObfuscationRatio',\n",
        "    'DegitRatioInURL',\n",
        "    'DomainTitleMatchScore',\n",
        "    'URLTitleMatchScore',\n",
        "    'TLDLegitimateProb',\n",
        "    'URLCharProb',\n",
        "    'LetterRatioInURL',\n",
        "    'SpacialCharRatioInURL'\n",
        "]\n",
        "X_train_continuous = X_train[continuous_columns]"
      ]
    },
    {
      "cell_type": "code",
      "execution_count": null,
      "metadata": {
        "id": "aa24_Hzp4Rmh"
      },
      "outputs": [],
      "source": [
        "discrete_columns = [i for i in numerical_columns if i not in continuous_columns]\n",
        "X_train_discrete = X_train[discrete_columns]"
      ]
    },
    {
      "cell_type": "markdown",
      "metadata": {
        "id": "IC14lmo_LfHN"
      },
      "source": [
        "# 2. Data Cleaning and Preprocessing\n",
        "\n",
        "This step is the first thing to be done once a Data Scientist have grasped a general knowledge of the data. Raw data is **seldom ready for training**, therefore steps need to be taken to clean and format the data for the Machine Learning model to interpret.\n",
        "\n",
        "By performing data cleaning and preprocessing, you ensure that your dataset is ready for model training, leading to more accurate and reliable machine learning results. These steps are essential for transforming raw data into a format that machine learning algorithms can effectively learn from and make predictions.\n",
        "\n",
        "We will give some common methods for you to try, but you only have to **at least implement one method for each process**. For each step that you will do, **please explain the reason why did you do that process. Write it in a markdown cell under the code cell you wrote.**"
      ]
    },
    {
      "cell_type": "markdown",
      "metadata": {
        "id": "p95_A8hSLfHY"
      },
      "source": [
        "## A. Data Cleaning\n",
        "\n",
        "**Data cleaning** is the crucial first step in preparing your dataset for machine learning. Raw data collected from various sources is often messy and may contain errors, missing values, and inconsistencies. Data cleaning involves the following steps:\n",
        "\n",
        "1. **Handling Missing Data:** Identify and address missing values in the dataset. This can include imputing missing values, removing rows or columns with excessive missing data, or using more advanced techniques like interpolation.\n",
        "\n",
        "2. **Dealing with Outliers:** Identify and handle outliers, which are data points significantly different from the rest of the dataset. Outliers can be removed or transformed to improve model performance.\n",
        "\n",
        "3. **Data Validation:** Check for data integrity and consistency. Ensure that data types are correct, categorical variables have consistent labels, and numerical values fall within expected ranges.\n",
        "\n",
        "4. **Removing Duplicates:** Identify and remove duplicate rows, as they can skew the model's training process and evaluation metrics.\n",
        "\n",
        "5. **Feature Engineering**: Create new features or modify existing ones to extract relevant information. This step can involve scaling, normalizing, or encoding features for better model interpretability."
      ]
    },
    {
      "cell_type": "markdown",
      "metadata": {
        "id": "_wruGao9LfHZ"
      },
      "source": [
        "### I. Handling Missing Data\n",
        "\n",
        "Missing data can adversely affect the performance and accuracy of machine learning models. There are several strategies to handle missing data in machine learning:\n",
        "\n",
        "1. **Data Imputation:**\n",
        "\n",
        "    a. **Mean, Median, or Mode Imputation:** For numerical features, you can replace missing values with the mean, median, or mode of the non-missing values in the same feature. This method is simple and often effective when data is missing at random.\n",
        "\n",
        "    b. **Constant Value Imputation:** You can replace missing values with a predefined constant value (e.g., 0) if it makes sense for your dataset and problem.\n",
        "\n",
        "    c. **Imputation Using Predictive Models:** More advanced techniques involve using predictive models to estimate missing values. For example, you can train a regression model to predict missing numerical values or a classification model to predict missing categorical values.\n",
        "\n",
        "2. **Deletion of Missing Data:**\n",
        "\n",
        "    a. **Listwise Deletion:** In cases where the amount of missing data is relatively small, you can simply remove rows with missing values from your dataset. However, this approach can lead to a loss of valuable information.\n",
        "\n",
        "    b. **Column (Feature) Deletion:** If a feature has a large number of missing values and is not critical for your analysis, you can consider removing that feature altogether.\n",
        "\n",
        "3. **Domain-Specific Strategies:**\n",
        "\n",
        "    a. **Domain Knowledge:** In some cases, domain knowledge can guide the imputation process. For example, if you know that missing values are related to a specific condition, you can impute them accordingly.\n",
        "\n",
        "4. **Imputation Libraries:**\n",
        "\n",
        "    a. **Scikit-Learn:** Scikit-Learn provides a `SimpleImputer` class that can handle basic imputation strategies like mean, median, and mode imputation.\n",
        "\n",
        "    b. **Fancyimpute:** Fancyimpute is a Python library that offers more advanced imputation techniques, including matrix factorization, k-nearest neighbors, and deep learning-based methods.\n",
        "\n",
        "The choice of imputation method should be guided by the nature of your data, the amount of missing data, the problem you are trying to solve, and the assumptions you are willing to make."
      ]
    },
    {
      "cell_type": "code",
      "execution_count": null,
      "metadata": {
        "id": "ucZNfCkiLfHZ"
      },
      "outputs": [],
      "source": [
        "X_train.isnull().sum()"
      ]
    },
    {
      "cell_type": "markdown",
      "metadata": {
        "id": "F3jqOHn-Ca0P"
      },
      "source": [
        "### **X_Train**"
      ]
    },
    {
      "cell_type": "markdown",
      "metadata": {
        "id": "AzZPbTqyImLP"
      },
      "source": [
        "#### **Kolom URLLength**"
      ]
    },
    {
      "cell_type": "code",
      "execution_count": null,
      "metadata": {
        "id": "N8fu4lk-Fc4U"
      },
      "outputs": [],
      "source": [
        "def fill_url_length(data, url_col='URL', url_length_col='URLLength'):\n",
        "    data[url_length_col] = data.apply(\n",
        "        lambda row: len(str(row[url_col])) if pd.isnull(row[url_length_col]) and pd.notnull(row[url_col]) else row[url_length_col],\n",
        "        axis=1\n",
        "    )\n",
        "    return data\n",
        "\n",
        "X_train = fill_url_length(X_train, url_col='URL', url_length_col='URLLength')\n",
        "X_train[['URL','URLLength']]"
      ]
    },
    {
      "cell_type": "code",
      "execution_count": null,
      "metadata": {
        "id": "iPHB8t6KQXZV"
      },
      "outputs": [],
      "source": [
        "X_train[X_train['URLLength'].isnull()]"
      ]
    },
    {
      "cell_type": "markdown",
      "metadata": {
        "id": "oubMY2L4NMle"
      },
      "source": [
        "#### **Kolom Domain**"
      ]
    },
    {
      "cell_type": "code",
      "execution_count": null,
      "metadata": {
        "id": "3MG5yQRnsVc8"
      },
      "outputs": [],
      "source": [
        "def fill_domain(data, url_col='URL', domain_col='Domain'):\n",
        "    def get_domain(url):\n",
        "        return urlparse(url).netloc if pd.notnull(url) else None\n",
        "\n",
        "    data[domain_col] = data.apply(\n",
        "        lambda row: get_domain(row[url_col]) if pd.isnull(row[domain_col]) and pd.notnull(row[url_col]) else row[domain_col],\n",
        "        axis=1\n",
        "    )\n",
        "    return data\n",
        "\n",
        "X_train = fill_domain(X_train, url_col='URL', domain_col='Domain')\n",
        "X_train[['URL', 'Domain']]"
      ]
    },
    {
      "cell_type": "code",
      "execution_count": null,
      "metadata": {
        "id": "Zw19-N3vP7D1"
      },
      "outputs": [],
      "source": [
        "X_train[X_train['Domain'].isnull()]"
      ]
    },
    {
      "cell_type": "markdown",
      "metadata": {
        "id": "m_NqeCAiM6XP"
      },
      "source": [
        "#### **Kolom DomainLength**"
      ]
    },
    {
      "cell_type": "code",
      "execution_count": null,
      "metadata": {
        "id": "pYLa03BbNO3C"
      },
      "outputs": [],
      "source": [
        "def fill_domain_length(data, domain_col='Domain', domain_length_col='DomainLength'):\n",
        "    data[domain_length_col] = data.apply(\n",
        "        lambda row: len(str(row[domain_col]))\n",
        "        if pd.isnull(row[domain_length_col]) and pd.notnull(row[domain_col])\n",
        "        else row[domain_length_col],\n",
        "        axis=1\n",
        "    )\n",
        "    return data\n",
        "\n",
        "X_train = fill_domain_length(X_train, domain_col='Domain', domain_length_col='DomainLength')\n",
        "X_train[['Domain', 'DomainLength']]"
      ]
    },
    {
      "cell_type": "code",
      "execution_count": null,
      "metadata": {
        "id": "SPu_UWuRQoKt"
      },
      "outputs": [],
      "source": [
        "X_train[X_train['DomainLength'].isnull()]"
      ]
    },
    {
      "cell_type": "markdown",
      "metadata": {
        "id": "sEmUWrLFXBUU"
      },
      "source": [
        "#### **Kolom IsDomainIP**"
      ]
    },
    {
      "cell_type": "code",
      "execution_count": null,
      "metadata": {
        "id": "_7iUPRzPXDx-"
      },
      "outputs": [],
      "source": [
        "def fill_is_domain_ip(data, domain_col='Domain', is_domain_ip_col='IsDomainIP'):\n",
        "    def is_ipaddress(domain):\n",
        "        if pd.notnull(domain):\n",
        "            ip_pattern = r'^(\\d{1,3}\\.){3}\\d{1,3}$'\n",
        "            if re.match(ip_pattern, domain):\n",
        "                parts = domain.split('.')\n",
        "                return all(0 <= int(part) <= 255 for part in parts)\n",
        "        return False\n",
        "\n",
        "    data[is_domain_ip_col] = data.apply(\n",
        "        lambda row: (1 if is_ipaddress(row[domain_col]) else 0)\n",
        "        if pd.isnull(row[is_domain_ip_col]) and pd.notnull(row[domain_col])\n",
        "        else row[is_domain_ip_col],\n",
        "        axis=1\n",
        "    )\n",
        "    return data\n",
        "\n",
        "X_train = fill_is_domain_ip(X_train, domain_col='Domain', is_domain_ip_col='IsDomainIP')\n",
        "X_train[['Domain', 'IsDomainIP']]"
      ]
    },
    {
      "cell_type": "code",
      "execution_count": null,
      "metadata": {
        "id": "MptN-mnNR9Kl"
      },
      "outputs": [],
      "source": [
        "X_train[X_train['IsDomainIP'].isnull()]"
      ]
    },
    {
      "cell_type": "markdown",
      "metadata": {
        "id": "vbqON4pU1Rwk"
      },
      "source": [
        "#### **Kolom TLD**"
      ]
    },
    {
      "cell_type": "code",
      "execution_count": null,
      "metadata": {
        "id": "_BoAvgux2kLP"
      },
      "outputs": [],
      "source": [
        "def fill_tld(data, domain_col='Domain', tld_col='TLD'):\n",
        "    def generate_tld(domain):\n",
        "        if pd.notnull(domain):\n",
        "            parts = domain.split('.')\n",
        "            if len(parts) > 1:\n",
        "                return parts[-1]\n",
        "        return np.nan\n",
        "\n",
        "    data[tld_col] = data.apply(\n",
        "        lambda row: generate_tld(row[domain_col])\n",
        "        if pd.isnull(row[tld_col])\n",
        "        else row[tld_col],\n",
        "        axis=1\n",
        "    )\n",
        "    return data\n",
        "\n",
        "X_train = fill_tld(X_train, domain_col='Domain', tld_col='TLD')\n",
        "X_train[['URL', 'Domain', 'TLD']]"
      ]
    },
    {
      "cell_type": "code",
      "execution_count": null,
      "metadata": {
        "id": "PlQfqW8x26Q4"
      },
      "outputs": [],
      "source": [
        "X_train[X_train['TLD'].isnull()]"
      ]
    },
    {
      "cell_type": "markdown",
      "metadata": {
        "id": "NtGBDmud48DO"
      },
      "source": [
        "#### **Kolom CharContinuationRate**"
      ]
    },
    {
      "cell_type": "code",
      "execution_count": null,
      "metadata": {
        "id": "T5i9laVW47tk"
      },
      "outputs": [],
      "source": [
        "def fill_char_continuation_rate(data, url_col='URL', char_rate_col='CharContinuationRate'):\n",
        "    def generate_char_continuation_rate(url):\n",
        "        if pd.notnull(url):\n",
        "            sequences = re.findall(r'[a-zA-Z0-9_]+', url)\n",
        "            total_sequence_length = sum(len(seq) for seq in sequences)\n",
        "            total_url_length = len(url)\n",
        "            return total_sequence_length / total_url_length if total_url_length > 0 else np.nan\n",
        "        return np.nan\n",
        "\n",
        "    data[char_rate_col] = data.apply(\n",
        "        lambda row: generate_char_continuation_rate(row[url_col])\n",
        "        if pd.isnull(row[char_rate_col]) else row[char_rate_col],\n",
        "        axis=1\n",
        "    )\n",
        "    return data\n",
        "\n",
        "X_train = fill_char_continuation_rate(X_train, url_col='URL', char_rate_col='CharContinuationRate')\n",
        "X_train[['URL', 'CharContinuationRate']]"
      ]
    },
    {
      "cell_type": "code",
      "execution_count": null,
      "metadata": {
        "id": "gbo88k0VQGiG"
      },
      "outputs": [],
      "source": [
        "X_train[X_train['CharContinuationRate'].isnull()]"
      ]
    },
    {
      "cell_type": "markdown",
      "metadata": {
        "id": "kHCetQq_9BDJ"
      },
      "source": [
        "#### **Kolom TLDLegitimateProb**"
      ]
    },
    {
      "cell_type": "code",
      "execution_count": null,
      "metadata": {
        "id": "2gUJn_GX_sw3"
      },
      "outputs": [],
      "source": [
        "# Distribution analysis to determine the imputation method\n",
        "def fill_tld_legitimate_prob(data, tld_col='TLD', tld_prob_col='TLDLegitimateProb', is_domain_ip_col='IsDomainIP'):\n",
        "\n",
        "    skewness = data[tld_prob_col].skew()\n",
        "    if skewness > 1 or skewness < -1:\n",
        "        global_fill_value = data[tld_prob_col].median()\n",
        "        print(\"Uses median for imputation because distribution is skewed.\")\n",
        "    else:\n",
        "        global_fill_value = data[tld_prob_col].mean()\n",
        "        print(\"Uses the mean for imputation because of the normal distribution.\")\n",
        "\n",
        "    print(f\"Global fill value: {global_fill_value}\")\n",
        "\n",
        "\n",
        "    tld_prob_mean = data.groupby(tld_col)[tld_prob_col].mean()\n",
        "\n",
        "\n",
        "    def fill_tld_legit_prob(row):\n",
        "        if pd.isnull(row[tld_prob_col]):\n",
        "            if row[is_domain_ip_col] == 1:\n",
        "                return 0\n",
        "            if pd.notnull(row[tld_col]) and row[tld_col] in tld_prob_mean.index:  # TLD not found\n",
        "                return tld_prob_mean[row[tld_col]]\n",
        "            if pd.isnull(row[tld_col]) and pd.isnull(row[is_domain_ip_col]):  # TLD dan IsDomainIP not found\n",
        "                return global_fill_value\n",
        "        return row[tld_prob_col]\n",
        "    data[tld_prob_col] = data.apply(fill_tld_legit_prob, axis=1)\n",
        "    data[tld_prob_col] = data[tld_prob_col].fillna(global_fill_value)\n",
        "\n",
        "    return data\n",
        "\n",
        "X_train = fill_tld_legitimate_prob(\n",
        "    X_train,\n",
        "    tld_col='TLD',\n",
        "    tld_prob_col='TLDLegitimateProb',\n",
        "    is_domain_ip_col='IsDomainIP'\n",
        ")\n",
        "X_train[['TLD', 'TLDLegitimateProb']]"
      ]
    },
    {
      "cell_type": "code",
      "execution_count": null,
      "metadata": {
        "id": "w2CzCRgbRvLO"
      },
      "outputs": [],
      "source": [
        "X_train[X_train['TLDLegitimateProb'].isnull()]"
      ]
    },
    {
      "cell_type": "markdown",
      "metadata": {
        "id": "aOKT9VOGPVz6"
      },
      "source": [
        "#### **Kolom URLCharProb**"
      ]
    },
    {
      "cell_type": "code",
      "execution_count": null,
      "metadata": {
        "id": "Q2kSl1OR0j7m"
      },
      "outputs": [],
      "source": [
        "# Function to calculate character probabilities\n",
        "def calculate_char_prob(df, url_col):\n",
        "    char_count = {}\n",
        "    total_chars = 0\n",
        "    for url in df[url_col].dropna():\n",
        "        for char in url.lower():\n",
        "            if char.isalnum():  # Only consider alphanumeric characters\n",
        "                char_count[char] = char_count.get(char, 0) + 1\n",
        "                total_chars += 1\n",
        "    return {char: count / total_chars for char, count in char_count.items()}\n",
        "\n",
        "# Function to calculate URLCharProb\n",
        "def fill_url_char_prob(data, url_col='URL', char_prob_col='URLCharProb', char_prob=None):\n",
        "    if char_prob is None:\n",
        "        raise ValueError(\"Character probabilities (`char_prob`) must be provided.\")\n",
        "\n",
        "    def calculate_url_char_prob(url):\n",
        "        if pd.notnull(url):\n",
        "            total_prob = sum(char_prob.get(char, 0) for char in url.lower() if char.isalnum())\n",
        "            n = len(url)\n",
        "            return total_prob / n if n > 0 else np.nan\n",
        "        return np.nan\n",
        "\n",
        "    data[char_prob_col] = data.apply(\n",
        "        lambda row: calculate_url_char_prob(row[url_col])\n",
        "        if pd.isnull(row[char_prob_col]) else row[char_prob_col],\n",
        "        axis=1\n",
        "    )\n",
        "    return data\n",
        "\n",
        "\n",
        "char_prob = calculate_char_prob(X_train, url_col='URL')\n",
        "X_train = fill_url_char_prob(X_train, url_col='URL', char_prob_col='URLCharProb', char_prob=char_prob)\n",
        "X_train[['URL', 'URLCharProb']]"
      ]
    },
    {
      "cell_type": "code",
      "execution_count": null,
      "metadata": {
        "id": "jPoYRnYWg1dV"
      },
      "outputs": [],
      "source": [
        "X_train[X_train['URLCharProb'].isnull()]"
      ]
    },
    {
      "cell_type": "markdown",
      "metadata": {
        "id": "YITA-HdWh2bd"
      },
      "source": [
        "#### **Kolom TLDLength**"
      ]
    },
    {
      "cell_type": "code",
      "execution_count": null,
      "metadata": {
        "id": "O1ps-Uh0h2FX"
      },
      "outputs": [],
      "source": [
        "def fill_tld_length(data, tld_col='TLD', tld_length_col='TLDLength'):\n",
        "    def calculate_tld_length(tld):\n",
        "        if pd.notnull(tld):\n",
        "            return len(str(tld))\n",
        "        return np.nan\n",
        "\n",
        "    data[tld_length_col] = data.apply(\n",
        "        lambda row: calculate_tld_length(row[tld_col])\n",
        "        if pd.isnull(row[tld_length_col]) else row[tld_length_col],\n",
        "        axis=1\n",
        "    )\n",
        "    return data\n",
        "\n",
        "X_train = fill_tld_length(X_train, tld_col='TLD', tld_length_col='TLDLength')\n",
        "X_train[['TLD', 'TLDLength']]"
      ]
    },
    {
      "cell_type": "code",
      "execution_count": null,
      "metadata": {
        "id": "Rj4uvVic22ll"
      },
      "outputs": [],
      "source": [
        "X_train[X_train['TLDLength'].isnull()]"
      ]
    },
    {
      "cell_type": "markdown",
      "metadata": {
        "id": "OTRWWPFgkLcw"
      },
      "source": [
        "#### **Kolom NoOfSubDomain**"
      ]
    },
    {
      "cell_type": "code",
      "execution_count": null,
      "metadata": {
        "id": "ZDZ5DsQnrwRs"
      },
      "outputs": [],
      "source": [
        "def fill_no_of_subdomains(data, domain_col='Domain', subdomain_col='NoOfSubDomain'):\n",
        "    def calculate_no_of_subdomains(domain):\n",
        "        if pd.notnull(domain):\n",
        "            parts = domain.split('.')\n",
        "            return len(parts) - 2 if len(parts) > 2 else 0\n",
        "        return np.nan\n",
        "\n",
        "    data[subdomain_col] = data.apply(\n",
        "        lambda row: calculate_no_of_subdomains(row[domain_col])\n",
        "        if pd.isnull(row[subdomain_col]) else row[subdomain_col],\n",
        "        axis=1\n",
        "    )\n",
        "    return data\n",
        "\n",
        "X_train = fill_no_of_subdomains(X_train, domain_col='Domain', subdomain_col='NoOfSubDomain')\n",
        "X_train[['Domain', 'NoOfSubDomain']]"
      ]
    },
    {
      "cell_type": "code",
      "execution_count": null,
      "metadata": {
        "id": "159WQVJ53S3r"
      },
      "outputs": [],
      "source": [
        "X_train[X_train['NoOfSubDomain'].isnull()]"
      ]
    },
    {
      "cell_type": "markdown",
      "metadata": {
        "id": "ibYVhWAdkOph"
      },
      "source": [
        "#### **Kolom HasObfuscation**"
      ]
    },
    {
      "cell_type": "code",
      "execution_count": null,
      "metadata": {
        "id": "Y0ipGF-prwto"
      },
      "outputs": [],
      "source": [
        "def fill_has_obfuscation(data, url_col='URL', obfuscation_col='HasObfuscation'):\n",
        "    def detect_advanced_obfuscation(url):\n",
        "        if pd.notnull(url):\n",
        "            if len(re.findall(r'[-_]', url)) > 3:  # Rule 1: Too many special characters\n",
        "                return 1\n",
        "            if re.search(r'[a-zA-Z]+\\d+|\\d+[a-zA-Z]+', url):  # Rule 2: Mixed alphanumeric patterns\n",
        "                return 1\n",
        "            if len(url) % 4 == 0 and re.match(r'^[A-Za-z0-9+/]*={0,2}$', url):  # Rule 3: Base64 encoded strings\n",
        "                try:\n",
        "                    base64.b64decode(url, validate=True)\n",
        "                    return 1\n",
        "                except Exception:\n",
        "                    pass\n",
        "            reversed_url = url[::-1]  # Rule 4: Reversed strings\n",
        "            if re.match(r'^[a-zA-Z0-9.\\-]+$', reversed_url):\n",
        "                return 1\n",
        "            if not re.search(r'[a-zA-Z]{3,}', url):  # Rule 5: Randomized strings without meaningful words\n",
        "                return 1\n",
        "            return 0  # No obfuscation detected\n",
        "        return 0  # Missing values treated as no obfuscation\n",
        "\n",
        "    data[obfuscation_col] = data.apply(\n",
        "        lambda row: detect_advanced_obfuscation(row[url_col])\n",
        "        if pd.isnull(row[obfuscation_col]) and pd.notnull(row[url_col])\n",
        "        else row[obfuscation_col],\n",
        "        axis=1\n",
        "    )\n",
        "    data[obfuscation_col] = data[obfuscation_col].apply(lambda x: 1 if x == True else 0)\n",
        "    return data\n",
        "\n",
        "X_train = fill_has_obfuscation(X_train, url_col='URL', obfuscation_col='HasObfuscation')\n",
        "X_train[['URL', 'HasObfuscation']]"
      ]
    },
    {
      "cell_type": "code",
      "execution_count": null,
      "metadata": {
        "id": "vJNey65f4SbX"
      },
      "outputs": [],
      "source": [
        "X_train[X_train['HasObfuscation'].isnull()]"
      ]
    },
    {
      "cell_type": "markdown",
      "metadata": {
        "id": "2CsDUwy0lMlf"
      },
      "source": [
        "#### **Kolom NoOfObfuscatedChar**"
      ]
    },
    {
      "cell_type": "code",
      "execution_count": null,
      "metadata": {
        "id": "F788ANvPrxHY"
      },
      "outputs": [],
      "source": [
        "def fill_no_of_obfuscated_characters(data, url_col='URL', obf_char_col='NoOfObfuscatedChar'):\n",
        "    def count_obfuscated_characters(url):\n",
        "        if pd.notnull(url):\n",
        "            hex_count = len(re.findall(r'%[0-9a-fA-F]{2}', url))  # Count %XX hexadecimal patterns\n",
        "            at_count = url.count('@')  # Count @ symbol\n",
        "            return hex_count + at_count  # Total obfuscated characters\n",
        "        return np.nan\n",
        "\n",
        "    data[obf_char_col] = data.apply(\n",
        "        lambda row: count_obfuscated_characters(row[url_col])\n",
        "        if pd.isnull(row[obf_char_col]) else row[obf_char_col],\n",
        "        axis=1\n",
        "    )\n",
        "    return data\n",
        "\n",
        "X_train = fill_no_of_obfuscated_characters(X_train, url_col='URL', obf_char_col='NoOfObfuscatedChar')\n",
        "X_train[['URL', 'NoOfObfuscatedChar']]"
      ]
    },
    {
      "cell_type": "code",
      "execution_count": null,
      "metadata": {
        "id": "TPlpXBAMVxvO"
      },
      "outputs": [],
      "source": [
        "X_train[X_train['NoOfObfuscatedChar'].isnull()]"
      ]
    },
    {
      "cell_type": "markdown",
      "metadata": {
        "id": "0aGUwEaclYTB"
      },
      "source": [
        "#### **Kolom ObfuscationRatio**"
      ]
    },
    {
      "cell_type": "code",
      "execution_count": null,
      "metadata": {
        "id": "uB7cQx9VrxqY"
      },
      "outputs": [],
      "source": [
        "def fill_obfuscation_ratio(data, obf_char_col='NoOfObfuscatedChar', url_length_col='URLLength', obf_ratio_col='ObfuscationRatio'):\n",
        "    def calculate_obfuscation_ratio(no_of_obfchar, url_length):\n",
        "        if pd.notnull(no_of_obfchar) and pd.notnull(url_length) and url_length > 0:\n",
        "            return no_of_obfchar / url_length\n",
        "        return np.nan\n",
        "\n",
        "    data[obf_ratio_col] = data.apply(\n",
        "        lambda row: calculate_obfuscation_ratio(row[obf_char_col], row[url_length_col])\n",
        "        if pd.isnull(row[obf_ratio_col]) else row[obf_ratio_col],\n",
        "        axis=1\n",
        "    )\n",
        "    return data\n",
        "\n",
        "X_train = fill_obfuscation_ratio(X_train, obf_char_col='NoOfObfuscatedChar', url_length_col='URLLength', obf_ratio_col='ObfuscationRatio')\n",
        "X_train[['NoOfObfuscatedChar', 'URLLength', 'ObfuscationRatio']]"
      ]
    },
    {
      "cell_type": "code",
      "execution_count": null,
      "metadata": {
        "id": "SecJ_daCV7pB"
      },
      "outputs": [],
      "source": [
        "X_train[X_train['ObfuscationRatio'].isnull()]"
      ]
    },
    {
      "cell_type": "markdown",
      "metadata": {
        "id": "1Tm2RsVlla9z"
      },
      "source": [
        "#### **Kolom NoOfLettersInURL**  "
      ]
    },
    {
      "cell_type": "code",
      "execution_count": null,
      "metadata": {
        "id": "C6vhgxP4rx--"
      },
      "outputs": [],
      "source": [
        "def fill_no_of_letters_in_url(data, url_col='URL', letters_col='NoOfLettersInURL'):\n",
        "    def calculate_no_of_letters(url):\n",
        "        if pd.notnull(url):\n",
        "            return sum(c.isalpha() for c in url)\n",
        "        return np.nan\n",
        "\n",
        "    data[letters_col] = data.apply(\n",
        "        lambda row: calculate_no_of_letters(row[url_col])\n",
        "        if pd.isnull(row[letters_col]) else row[letters_col],\n",
        "        axis=1\n",
        "    )\n",
        "    return data\n",
        "\n",
        "X_train = fill_no_of_letters_in_url(X_train, url_col='URL', letters_col='NoOfLettersInURL')\n",
        "X_train[['URL', 'NoOfLettersInURL']]"
      ]
    },
    {
      "cell_type": "code",
      "execution_count": null,
      "metadata": {
        "id": "9IYBLUjFxtIX"
      },
      "outputs": [],
      "source": [
        "X_train[X_train['NoOfLettersInURL'].isnull()]"
      ]
    },
    {
      "cell_type": "markdown",
      "metadata": {
        "id": "zitJaQKvlcgo"
      },
      "source": [
        "#### **Kolom LetterRatioInURL**"
      ]
    },
    {
      "cell_type": "code",
      "execution_count": null,
      "metadata": {
        "id": "3AR2NV5LryRs"
      },
      "outputs": [],
      "source": [
        "def fill_letter_ratio_in_url(data, letters_col='NoOfLettersInURL', url_length_col='URLLength', ratio_col='LetterRatioInURL'):\n",
        "    def calculate_letter_ratio(no_of_letters, url_length):\n",
        "        if pd.notnull(no_of_letters) and pd.notnull(url_length) and url_length > 0:\n",
        "            return no_of_letters / url_length\n",
        "        return np.nan\n",
        "\n",
        "    data[ratio_col] = data.apply(\n",
        "        lambda row: calculate_letter_ratio(row[letters_col], row[url_length_col])\n",
        "        if pd.isnull(row[ratio_col]) else row[ratio_col],\n",
        "        axis=1\n",
        "    )\n",
        "    return data\n",
        "\n",
        "X_train = fill_letter_ratio_in_url(X_train, letters_col='NoOfLettersInURL', url_length_col='URLLength', ratio_col='LetterRatioInURL')\n",
        "X_train[['NoOfLettersInURL', 'URLLength', 'LetterRatioInURL']]"
      ]
    },
    {
      "cell_type": "code",
      "execution_count": null,
      "metadata": {
        "id": "fEwgz-RS4h4H"
      },
      "outputs": [],
      "source": [
        "X_train[X_train['LetterRatioInURL'].isnull()]"
      ]
    },
    {
      "cell_type": "markdown",
      "metadata": {
        "id": "DdJeIbndliuO"
      },
      "source": [
        "#### **Kolom NoOfDigitsInURL**"
      ]
    },
    {
      "cell_type": "code",
      "execution_count": null,
      "metadata": {
        "id": "6TnJkA1ory-f"
      },
      "outputs": [],
      "source": [
        "def fill_no_of_digits_in_url(data, url_col='URL', digits_col='NoOfDegitsInURL'):\n",
        "    def calculate_no_of_digits(url):\n",
        "        if pd.notnull(url):\n",
        "            return sum(c.isdigit() for c in url)\n",
        "        return np.nan\n",
        "\n",
        "    data[digits_col] = data.apply(\n",
        "        lambda row: calculate_no_of_digits(row[url_col])\n",
        "        if pd.isnull(row[digits_col]) else row[digits_col],\n",
        "        axis=1\n",
        "\n",
        "    )\n",
        "    return data\n",
        "\n",
        "X_train = fill_no_of_digits_in_url(X_train, url_col='URL', digits_col='NoOfDegitsInURL')\n",
        "X_train[['URL', 'NoOfDegitsInURL']]"
      ]
    },
    {
      "cell_type": "code",
      "execution_count": null,
      "metadata": {
        "id": "HGKCd6g3WTAM"
      },
      "outputs": [],
      "source": [
        "X_train[X_train['NoOfDegitsInURL'].isnull()]"
      ]
    },
    {
      "cell_type": "markdown",
      "metadata": {
        "id": "Vl1zPKj86OzW"
      },
      "source": [
        "#### **Kolom DegitRatioInURL**"
      ]
    },
    {
      "cell_type": "code",
      "execution_count": null,
      "metadata": {
        "id": "_Lyt1oC96OIS"
      },
      "outputs": [],
      "source": [
        "def fill_digits_ratio_in_url(data, url_col='URL', ratio_col='DegitRatioInURL'):\n",
        "    def calculate_digits_ratio(url):\n",
        "        if pd.notnull(url) and len(url) > 0:\n",
        "            return sum(c.isdigit() for c in url) / len(url)\n",
        "        return np.nan\n",
        "\n",
        "    data[ratio_col] = data.apply(\n",
        "        lambda row: calculate_digits_ratio(row[url_col])\n",
        "        if pd.isnull(row[ratio_col]) else row[ratio_col],\n",
        "        axis=1\n",
        "    )\n",
        "    return data\n",
        "\n",
        "X_train = fill_digits_ratio_in_url(X_train, url_col='URL', ratio_col='DegitRatioInURL')\n",
        "X_train[['URL', 'DegitRatioInURL']]"
      ]
    },
    {
      "cell_type": "code",
      "execution_count": null,
      "metadata": {
        "id": "rZ84E9d6WbHd"
      },
      "outputs": [],
      "source": [
        "X_train[X_train['DegitRatioInURL'].isnull()]"
      ]
    },
    {
      "cell_type": "markdown",
      "metadata": {
        "id": "KStGvbHy_ODK"
      },
      "source": [
        "#### **Kolom NoOfEqualsInURL**"
      ]
    },
    {
      "cell_type": "code",
      "execution_count": null,
      "metadata": {
        "id": "-qdao5ny6RjG"
      },
      "outputs": [],
      "source": [
        "def fill_no_of_equals_in_url(data, url_col='URL', equals_col='NoOfEqualsInURL'):\n",
        "    def calculate_no_of_equals(url):\n",
        "        if pd.notnull(url):\n",
        "            return sum(c == \"=\" for c in url)\n",
        "        return np.nan\n",
        "\n",
        "    data[equals_col] = data.apply(\n",
        "        lambda row: calculate_no_of_equals(row[url_col])\n",
        "        if pd.isnull(row[equals_col]) else row[equals_col],\n",
        "        axis=1\n",
        "    )\n",
        "    return data\n",
        "\n",
        "X_train = fill_no_of_equals_in_url(X_train, url_col='URL', equals_col='NoOfEqualsInURL')\n",
        "X_train[['URL', 'NoOfEqualsInURL']]"
      ]
    },
    {
      "cell_type": "code",
      "execution_count": null,
      "metadata": {
        "id": "oQHr_pO9Wga7"
      },
      "outputs": [],
      "source": [
        "X_train[X_train['NoOfEqualsInURL'].isnull()]"
      ]
    },
    {
      "cell_type": "markdown",
      "metadata": {
        "id": "_V6OI5gJ_UOd"
      },
      "source": [
        "#### **Kolom NoOfQMarkInURL**"
      ]
    },
    {
      "cell_type": "code",
      "execution_count": null,
      "metadata": {
        "id": "f3Y1YoE5_TKq"
      },
      "outputs": [],
      "source": [
        "def fill_no_of_qmark_in_url(data, url_col='URL', qmark_col='NoOfQMarkInURL'):\n",
        "    def calculate_no_of_qmark(url):\n",
        "        if pd.notnull(url):\n",
        "            return sum(c == \"?\" for c in url)\n",
        "        return np.nan\n",
        "\n",
        "    data[qmark_col] = data.apply(\n",
        "        lambda row: calculate_no_of_qmark(row[url_col])\n",
        "        if pd.isnull(row[qmark_col]) else row[qmark_col],\n",
        "        axis=1\n",
        "    )\n",
        "    return data\n",
        "\n",
        "X_train = fill_no_of_qmark_in_url(X_train, url_col='URL', qmark_col='NoOfQMarkInURL')\n",
        "X_train[['URL', 'NoOfQMarkInURL']]"
      ]
    },
    {
      "cell_type": "code",
      "execution_count": null,
      "metadata": {
        "id": "2IAQ83j_Wln1"
      },
      "outputs": [],
      "source": [
        "X_train[X_train['NoOfQMarkInURL'].isnull()]"
      ]
    },
    {
      "cell_type": "markdown",
      "metadata": {
        "id": "xfX0diOB_W2p"
      },
      "source": [
        "#### **Kolom NoOfAmpersandInURL**"
      ]
    },
    {
      "cell_type": "code",
      "execution_count": null,
      "metadata": {
        "id": "adoRGzBv6RxU"
      },
      "outputs": [],
      "source": [
        "def fill_no_of_ampersand_in_url(data, url_col='URL', ampersand_col='NoOfAmpersandInURL'):\n",
        "    def calculate_no_of_ampersand(url):\n",
        "        if pd.notnull(url):\n",
        "            return sum(c == \"&\" for c in url)\n",
        "        return np.nan\n",
        "\n",
        "    data[ampersand_col] = data.apply(\n",
        "        lambda row: calculate_no_of_ampersand(row[url_col])\n",
        "        if pd.isnull(row[ampersand_col]) else row[ampersand_col],\n",
        "        axis=1\n",
        "    )\n",
        "    return data\n",
        "\n",
        "X_train = fill_no_of_ampersand_in_url(X_train, url_col='URL', ampersand_col='NoOfAmpersandInURL')\n",
        "X_train[['URL', 'NoOfAmpersandInURL']]"
      ]
    },
    {
      "cell_type": "code",
      "execution_count": null,
      "metadata": {
        "id": "PFg6HrzAWr9F"
      },
      "outputs": [],
      "source": [
        "X_train[X_train['NoOfAmpersandInURL'].isnull()]"
      ]
    },
    {
      "cell_type": "markdown",
      "metadata": {
        "id": "JgbKkXyQNi_o"
      },
      "source": [
        "#### **Kolom NoOfOtherSpecialCharsInURL**"
      ]
    },
    {
      "cell_type": "code",
      "execution_count": null,
      "metadata": {
        "id": "ECfAoa8rNoGD"
      },
      "outputs": [],
      "source": [
        "def fill_no_of_special_chars_in_url(data, url_col='URL', special_chars_col='NoOfOtherSpecialCharsInURL'):\n",
        "    def calculate_no_of_specials(url):\n",
        "        if pd.notnull(url):\n",
        "            return sum(c.lower() not in \"0123456789abcdefghijklmnopqrstuvwxyz\" for c in url)\n",
        "        return np.nan\n",
        "\n",
        "    data[special_chars_col] = data.apply(\n",
        "        lambda row: calculate_no_of_specials(row[url_col])\n",
        "        if pd.isnull(row[special_chars_col]) else row[special_chars_col],\n",
        "        axis=1\n",
        "    )\n",
        "    return data\n",
        "\n",
        "X_train = fill_no_of_special_chars_in_url(X_train, url_col='URL', special_chars_col='NoOfOtherSpecialCharsInURL')\n",
        "X_train[['URL', 'NoOfOtherSpecialCharsInURL']]"
      ]
    },
    {
      "cell_type": "code",
      "execution_count": null,
      "metadata": {
        "id": "-B9iyRMoWubF"
      },
      "outputs": [],
      "source": [
        "X_train[X_train['NoOfOtherSpecialCharsInURL'].isnull()]"
      ]
    },
    {
      "cell_type": "markdown",
      "metadata": {
        "id": "p-56FdfANt3O"
      },
      "source": [
        "#### **Kolom SpacialCharRatioInURL**"
      ]
    },
    {
      "cell_type": "code",
      "execution_count": null,
      "metadata": {
        "id": "riRmnRm2OePx"
      },
      "outputs": [],
      "source": [
        "def fill_specials_ratio_in_url(data, url_col='URL', ratio_col='SpacialCharRatioInURL'):\n",
        "    def calculate_specials_ratio(url):\n",
        "        if pd.notnull(url) and len(url) > 0:\n",
        "            return sum(c.lower() not in \"0123456789abcdefghijklmnopqrstuvwxyz\" for c in url) / len(url)\n",
        "        return np.nan\n",
        "\n",
        "    data[ratio_col] = data.apply(\n",
        "        lambda row: calculate_specials_ratio(row[url_col])\n",
        "        if pd.isnull(row[ratio_col]) else row[ratio_col],\n",
        "        axis=1\n",
        "    )\n",
        "    return data\n",
        "\n",
        "X_train = fill_specials_ratio_in_url(X_train, url_col='URL', ratio_col='SpacialCharRatioInURL')\n",
        "X_train[['URL', 'SpacialCharRatioInURL']]"
      ]
    },
    {
      "cell_type": "code",
      "execution_count": null,
      "metadata": {
        "id": "lWEhrhd4Wzin"
      },
      "outputs": [],
      "source": [
        "X_train[X_train['SpacialCharRatioInURL'].isnull()]"
      ]
    },
    {
      "cell_type": "markdown",
      "metadata": {
        "id": "XldDVip1N4pO"
      },
      "source": [
        "#### **Kolom IsHTTPS**"
      ]
    },
    {
      "cell_type": "code",
      "execution_count": null,
      "metadata": {
        "id": "O5XxvdzjN4If"
      },
      "outputs": [],
      "source": [
        "def fill_is_https(data, url_col='URL', https_col='IsHTTPS'):\n",
        "    def calculate_ishttps(url):\n",
        "        if pd.notnull(url):\n",
        "            return 1 if \"https://\" in url else 0\n",
        "        return np.nan\n",
        "\n",
        "    data[https_col] = data.apply(\n",
        "        lambda row: calculate_ishttps(row[url_col])\n",
        "        if pd.isnull(row[https_col]) else row[https_col],\n",
        "        axis=1\n",
        "    )\n",
        "    return data\n",
        "\n",
        "X_train = fill_is_https(X_train, url_col='URL', https_col='IsHTTPS')\n",
        "X_train[['URL', 'IsHTTPS']]"
      ]
    },
    {
      "cell_type": "code",
      "execution_count": null,
      "metadata": {
        "id": "gzRzjXlEW5fJ"
      },
      "outputs": [],
      "source": [
        "X_train[X_train['IsHTTPS'].isnull()]"
      ]
    },
    {
      "cell_type": "markdown",
      "metadata": {
        "id": "VNHl1GcDN-d_"
      },
      "source": [
        "#### **Kolom HasTitle**"
      ]
    },
    {
      "cell_type": "code",
      "execution_count": null,
      "metadata": {
        "id": "kjD5opWfN_eP"
      },
      "outputs": [],
      "source": [
        "def fill_has_title(data, title_col='Title', has_title_col='HasTitle'):\n",
        "    data[has_title_col] = data.apply(\n",
        "        lambda row: row[has_title_col]\n",
        "        if not pd.isnull(row[has_title_col])\n",
        "        else (1 if not pd.isnull(row[title_col]) else row[has_title_col]),\n",
        "        axis=1\n",
        "    )\n",
        "    return data\n",
        "\n",
        "X_train = fill_has_title(X_train, title_col='Title', has_title_col='HasTitle')\n",
        "X_train[['Title', 'HasTitle']]"
      ]
    },
    {
      "cell_type": "code",
      "execution_count": null,
      "metadata": {
        "id": "_Y5RrT2UW-bt"
      },
      "outputs": [],
      "source": [
        "X_train[X_train['HasTitle'].isnull()]"
      ]
    },
    {
      "cell_type": "markdown",
      "metadata": {
        "id": "FBIqpTiPOD4p"
      },
      "source": [
        "#### **Kolom DomainTitleMatchScore**"
      ]
    },
    {
      "cell_type": "code",
      "execution_count": null,
      "metadata": {
        "id": "vegEZpYnOJ85"
      },
      "outputs": [],
      "source": [
        "def fill_domain_title_match_score(data, title_col='Title', domain_col='Domain', score_col='DomainTitleMatchScore'):\n",
        "    def calculate_match_score(title, domain):\n",
        "        tSet = title.split(\" \") if pd.notnull(title) else []\n",
        "        txtDomain = domain.split(\".\")[:-1] if pd.notnull(domain) else []\n",
        "        txtDomain = [i for i in txtDomain if i != \"www\"]\n",
        "        txtDomain = \".\".join(txtDomain)\n",
        "\n",
        "        score = 0\n",
        "        baseScore = 100 / len(txtDomain) if len(txtDomain) > 0 else 0\n",
        "\n",
        "        for element in tSet:\n",
        "            if element in txtDomain:\n",
        "                n = len(element)\n",
        "                score += baseScore * n\n",
        "                txtDomain = txtDomain.replace(element, \"\")\n",
        "                if score > 99.9:\n",
        "                    score = 100\n",
        "        return score\n",
        "\n",
        "    data[score_col] = data.apply(\n",
        "        lambda row: calculate_match_score(row[title_col], row[domain_col])\n",
        "        if pd.isnull(row[score_col])\n",
        "        and pd.notnull(row[title_col])\n",
        "        and pd.notnull(row[domain_col])\n",
        "        else row[score_col],\n",
        "        axis=1\n",
        "    )\n",
        "    return data\n",
        "\n",
        "X_train = fill_domain_title_match_score(\n",
        "    X_train,\n",
        "    title_col='Title',\n",
        "    domain_col='Domain',\n",
        "    score_col='DomainTitleMatchScore'\n",
        ")\n",
        "X_train[['URL', 'Title', 'DomainTitleMatchScore']]"
      ]
    },
    {
      "cell_type": "code",
      "execution_count": null,
      "metadata": {
        "id": "R7UWjtUwXrVW"
      },
      "outputs": [],
      "source": [
        "X_train[X_train['DomainTitleMatchScore'].isnull()]"
      ]
    },
    {
      "cell_type": "markdown",
      "metadata": {
        "id": "KdyzrwsjOLtA"
      },
      "source": [
        "#### **Kolom URLTitleMatchScore**"
      ]
    },
    {
      "cell_type": "code",
      "execution_count": null,
      "metadata": {
        "id": "zPz54N9OOMkR"
      },
      "outputs": [],
      "source": [
        "def fill_url_title_match_score(data, title_col='Title', url_col='URL', score_col='URLTitleMatchScore'):\n",
        "    def calculate_url_title_match_score(title, url):\n",
        "        if pd.notnull(title) and pd.notnull(url):\n",
        "            tSet = title.split(\" \")\n",
        "            txtURL = (\n",
        "                urlparse(url).netloc.split(\".\")[:-1] +\n",
        "                [i for i in urlparse(url).path.split(\"/\") if i != \"\"]\n",
        "            )\n",
        "            txtURL = [i for i in txtURL if i != \"www\"]\n",
        "            txtURL = \".\".join(txtURL)\n",
        "\n",
        "            score = 0\n",
        "            baseScore = 100 / len(txtURL) if len(txtURL) > 0 else 0\n",
        "\n",
        "            for element in tSet:\n",
        "                if element in txtURL:\n",
        "                    n = len(element)\n",
        "                    score += baseScore * n\n",
        "                    txtURL = txtURL.replace(element, \"\")\n",
        "                    if score > 99.9:\n",
        "                        score = 100\n",
        "            return score\n",
        "        return np.nan\n",
        "\n",
        "    data[score_col] = data.apply(\n",
        "        lambda row: calculate_url_title_match_score(row[title_col], row[url_col])\n",
        "        if pd.isnull(row[score_col]) else row[score_col],\n",
        "        axis=1\n",
        "    )\n",
        "    return data\n",
        "\n",
        "X_train = fill_url_title_match_score(\n",
        "    X_train,\n",
        "    title_col='Title',\n",
        "    url_col='URL',\n",
        "    score_col='URLTitleMatchScore'\n",
        ")\n",
        "X_train[['URL', 'Title', 'URLTitleMatchScore']]"
      ]
    },
    {
      "cell_type": "code",
      "execution_count": null,
      "metadata": {
        "id": "R1JRy7rKXxil"
      },
      "outputs": [],
      "source": [
        "X_train[X_train['URLTitleMatchScore'].isnull()]"
      ]
    },
    {
      "cell_type": "code",
      "execution_count": null,
      "metadata": {
        "id": "JN7TlQV-7b7v"
      },
      "outputs": [],
      "source": [
        "X_train.isnull().sum().sort_values()"
      ]
    },
    {
      "cell_type": "code",
      "execution_count": null,
      "metadata": {
        "id": "wXXWQMRU7Sof"
      },
      "outputs": [],
      "source": [
        "np.median(X_train.isnull().sum())"
      ]
    },
    {
      "cell_type": "markdown",
      "metadata": {
        "id": "1VglxzEiDFHZ"
      },
      "source": [
        "#### Handling Missing Value by Data Imputation"
      ]
    },
    {
      "cell_type": "code",
      "execution_count": null,
      "metadata": {
        "id": "owHQ5f7tUerA"
      },
      "outputs": [],
      "source": [
        "def fill_numerical_columns(data, numerical_columns, skewness_threshold=3):\n",
        "    for col in numerical_columns:\n",
        "        if col in data.columns:\n",
        "            skewness = data[col].skew()\n",
        "            if skewness > skewness_threshold or skewness < -skewness_threshold:\n",
        "                fill_value = data[col].median()\n",
        "                print(f\"Column {col}: Using median for imputation because distribution is highly skewed.\")\n",
        "            else:\n",
        "                fill_value = data[col].mean()\n",
        "                print(f\"Column {col}: Using mean for imputation because distribution is approximately normal.\")\n",
        "            data[col] = data[col].fillna(fill_value)\n",
        "    print(\"Missing values after imputation:\")\n",
        "    print(data[numerical_columns].isnull().sum())\n",
        "    return data\n",
        "X_train = fill_numerical_columns(X_train, numerical_columns, skewness_threshold=3)"
      ]
    },
    {
      "cell_type": "code",
      "execution_count": null,
      "metadata": {
        "id": "yPTxZ_rxUhaJ"
      },
      "outputs": [],
      "source": [
        "X_train.isnull().sum().sort_values()"
      ]
    },
    {
      "cell_type": "code",
      "execution_count": null,
      "metadata": {
        "id": "laXRInBjWhyx"
      },
      "outputs": [],
      "source": [
        "def fill_categorical_columns(data, categorical_columns, initial_group_by):\n",
        "    group_by_columns = initial_group_by.copy()\n",
        "\n",
        "    for col in categorical_columns:\n",
        "        mode_values = (\n",
        "            data.groupby(group_by_columns)[col]\n",
        "            .agg(lambda x: x.mode()[0] if not x.mode().empty else None)\n",
        "        )\n",
        "\n",
        "        global_mode = data[col].mode()[0] if not data[col].mode().empty else None\n",
        "\n",
        "        def fill_value(row):\n",
        "            if pd.isnull(row[col]):\n",
        "                group_key = tuple(row[gb] for gb in group_by_columns)\n",
        "                return mode_values.get(group_key, global_mode)\n",
        "            return row[col]\n",
        "\n",
        "        data[col] = data.apply(fill_value, axis=1)\n",
        "\n",
        "        group_by_columns.append(col)\n",
        "\n",
        "    for col in categorical_columns:\n",
        "        if data[col].isnull().sum() > 0:\n",
        "            global_mode = data[col].mode()[0] if not data[col].mode().empty else None\n",
        "            data[col] = data[col].fillna(global_mode)\n",
        "\n",
        "    return data\n",
        "\n",
        "categorical_columns_to_fill = [\n",
        "    'IsDomainIP', 'IsHTTPS', 'HasTitle', 'IsResponsive', 'Pay', 'HasHiddenFields', 'Robots',\n",
        "    'Crypto', 'HasDescription', 'Bank', 'HasExternalFormSubmit', 'HasFavicon',\n",
        "    'HasSubmitButton', 'HasPasswordField', 'NoOfSelfRedirect', 'HasCopyrightInfo',\n",
        "    'NoOfURLRedirect', 'HasSocialNet'\n",
        "]\n",
        "\n",
        "group_by_columns = ['HasObfuscation']\n",
        "\n",
        "X_train = fill_categorical_columns(X_train, categorical_columns_to_fill, group_by_columns)\n",
        "print(f\"Missing values after imputation:\")\n",
        "print(X_train.isnull().sum())"
      ]
    },
    {
      "cell_type": "code",
      "execution_count": null,
      "metadata": {
        "id": "9ckTlG3pd_Ny"
      },
      "outputs": [],
      "source": [
        "X_train.isnull().sum().sort_values()"
      ]
    },
    {
      "cell_type": "markdown",
      "metadata": {
        "id": "F9n2O5jrIOPK"
      },
      "source": [
        "### **X_val**"
      ]
    },
    {
      "cell_type": "markdown",
      "metadata": {
        "id": "-oTCezZHI7g6"
      },
      "source": [
        "#### **Kolom URLLength**"
      ]
    },
    {
      "cell_type": "code",
      "execution_count": null,
      "metadata": {
        "id": "l9q9qdLUIWlq"
      },
      "outputs": [],
      "source": [
        "X_val = fill_url_length(X_val, url_col='URL', url_length_col='URLLength')\n",
        "X_val[['URL','URLLength']]"
      ]
    },
    {
      "cell_type": "markdown",
      "metadata": {
        "id": "rS3B3vGFJC2d"
      },
      "source": [
        "#### **Kolom Domain**"
      ]
    },
    {
      "cell_type": "code",
      "execution_count": null,
      "metadata": {
        "id": "e-jSmz8lJGz8"
      },
      "outputs": [],
      "source": [
        "X_val = fill_domain(X_val, url_col='URL', domain_col='Domain')\n",
        "X_val[['URL', 'Domain']]"
      ]
    },
    {
      "cell_type": "markdown",
      "metadata": {
        "id": "DPYiDXc5KYY_"
      },
      "source": [
        "#### **Kolom DomainLength**"
      ]
    },
    {
      "cell_type": "code",
      "execution_count": null,
      "metadata": {
        "id": "bnX-o7QrKbak"
      },
      "outputs": [],
      "source": [
        "X_val = fill_domain_length(X_val, domain_col='Domain', domain_length_col='DomainLength')\n",
        "X_val[['Domain', 'DomainLength']]"
      ]
    },
    {
      "cell_type": "markdown",
      "metadata": {
        "id": "HDDOIgzmKl57"
      },
      "source": [
        "#### **Kolom IsDomainIP**"
      ]
    },
    {
      "cell_type": "code",
      "execution_count": null,
      "metadata": {
        "id": "Pzyn6j5vKoUU"
      },
      "outputs": [],
      "source": [
        "X_val = fill_is_domain_ip(X_val, domain_col='Domain', is_domain_ip_col='IsDomainIP')\n",
        "X_val[['Domain', 'IsDomainIP']]"
      ]
    },
    {
      "cell_type": "markdown",
      "metadata": {
        "id": "82-PmeuGKzFr"
      },
      "source": [
        "#### **Kolom TLD**"
      ]
    },
    {
      "cell_type": "code",
      "execution_count": null,
      "metadata": {
        "id": "inTGHnu9K4DC"
      },
      "outputs": [],
      "source": [
        "X_val = fill_tld(X_val, domain_col='Domain', tld_col='TLD')\n",
        "X_val[['URL', 'Domain', 'TLD']]"
      ]
    },
    {
      "cell_type": "markdown",
      "metadata": {
        "id": "kIZ6QwjyK-Fj"
      },
      "source": [
        "#### **Kolom CharContinuationRate**"
      ]
    },
    {
      "cell_type": "code",
      "execution_count": null,
      "metadata": {
        "id": "X9dcerEoLC9a"
      },
      "outputs": [],
      "source": [
        "X_val = fill_char_continuation_rate(X_val, url_col='URL', char_rate_col='CharContinuationRate')\n",
        "X_val[['URL', 'CharContinuationRate']]"
      ]
    },
    {
      "cell_type": "markdown",
      "metadata": {
        "id": "8uD-RHFtLJW4"
      },
      "source": [
        "#### **Kolom TLDLegitimateProb**"
      ]
    },
    {
      "cell_type": "code",
      "execution_count": null,
      "metadata": {
        "id": "n6hFy5LeLNUb"
      },
      "outputs": [],
      "source": [
        "X_val = fill_tld_legitimate_prob(\n",
        "    X_val,\n",
        "    tld_col='TLD',\n",
        "    tld_prob_col='TLDLegitimateProb',\n",
        "    is_domain_ip_col='IsDomainIP'\n",
        ")\n",
        "X_val[['TLD', 'TLDLegitimateProb']]"
      ]
    },
    {
      "cell_type": "markdown",
      "metadata": {
        "id": "jdnKmeWQLTtk"
      },
      "source": [
        "#### **Kolom URLCharProb**"
      ]
    },
    {
      "cell_type": "code",
      "execution_count": null,
      "metadata": {
        "id": "bv35X6fwLWyI"
      },
      "outputs": [],
      "source": [
        "char_prob = calculate_char_prob(X_val, url_col='URL')\n",
        "X_val = fill_url_char_prob(X_val, url_col='URL', char_prob_col='URLCharProb', char_prob=char_prob)\n",
        "X_val[['URL', 'URLCharProb']]"
      ]
    },
    {
      "cell_type": "markdown",
      "metadata": {
        "id": "w0etIsaRLZ_w"
      },
      "source": [
        "#### **Kolom TLDLength**"
      ]
    },
    {
      "cell_type": "code",
      "execution_count": null,
      "metadata": {
        "id": "_0OD6m6uLbYf"
      },
      "outputs": [],
      "source": [
        "X_val = fill_tld_length(X_val, tld_col='TLD', tld_length_col='TLDLength')\n",
        "X_val[['TLD', 'TLDLength']]"
      ]
    },
    {
      "cell_type": "markdown",
      "metadata": {
        "id": "V5t4oGHdLdlY"
      },
      "source": [
        "#### **Kolom NoOfSubDomain**"
      ]
    },
    {
      "cell_type": "code",
      "execution_count": null,
      "metadata": {
        "id": "KB57dNh7Le5_"
      },
      "outputs": [],
      "source": [
        "X_val = fill_no_of_subdomains(X_val, domain_col='Domain', subdomain_col='NoOfSubDomain')\n",
        "X_val[['Domain', 'NoOfSubDomain']]"
      ]
    },
    {
      "cell_type": "markdown",
      "metadata": {
        "id": "vjYxdPFILuTH"
      },
      "source": [
        "#### **Kolom HasObfuscation**"
      ]
    },
    {
      "cell_type": "code",
      "execution_count": null,
      "metadata": {
        "id": "zPOXx_yoLwpn"
      },
      "outputs": [],
      "source": [
        "X_val = fill_has_obfuscation(X_val, url_col='URL', obfuscation_col='HasObfuscation')\n",
        "X_val[['URL', 'HasObfuscation']]"
      ]
    },
    {
      "cell_type": "markdown",
      "metadata": {
        "id": "Ptp1pqsFMCPr"
      },
      "source": [
        "#### **Kolom NoOfObfuscatedChar**"
      ]
    },
    {
      "cell_type": "code",
      "execution_count": null,
      "metadata": {
        "id": "otLcx2gnL3VB"
      },
      "outputs": [],
      "source": [
        "X_val = fill_no_of_obfuscated_characters(X_val, url_col='URL', obf_char_col='NoOfObfuscatedChar')\n",
        "X_val[['URL', 'NoOfObfuscatedChar']]"
      ]
    },
    {
      "cell_type": "markdown",
      "metadata": {
        "id": "GbWwYubHL_Dy"
      },
      "source": [
        "#### **Kolom ObfuscationRatio**"
      ]
    },
    {
      "cell_type": "code",
      "execution_count": null,
      "metadata": {
        "id": "gCopuRRLL-SD"
      },
      "outputs": [],
      "source": [
        "X_val = fill_obfuscation_ratio(X_val, obf_char_col='NoOfObfuscatedChar', url_length_col='URLLength', obf_ratio_col='ObfuscationRatio')\n",
        "X_val[['NoOfObfuscatedChar', 'URLLength', 'ObfuscationRatio']]"
      ]
    },
    {
      "cell_type": "markdown",
      "metadata": {
        "id": "GU91iXu2MI7e"
      },
      "source": [
        "#### **Kolom NoOfLettersInURL**  "
      ]
    },
    {
      "cell_type": "code",
      "execution_count": null,
      "metadata": {
        "id": "ROfWwDyfMKdG"
      },
      "outputs": [],
      "source": [
        "X_val = fill_no_of_letters_in_url(X_val, url_col='URL', letters_col='NoOfLettersInURL')\n",
        "X_val[['URL', 'NoOfLettersInURL']]"
      ]
    },
    {
      "cell_type": "markdown",
      "metadata": {
        "id": "MAlx0g3tMQ6c"
      },
      "source": [
        "#### **Kolom LetterRatioInURL**"
      ]
    },
    {
      "cell_type": "code",
      "execution_count": null,
      "metadata": {
        "id": "g0oMqNuvMRbX"
      },
      "outputs": [],
      "source": [
        "X_val = fill_letter_ratio_in_url(X_val, letters_col='NoOfLettersInURL', url_length_col='URLLength', ratio_col='LetterRatioInURL')\n",
        "X_val[['NoOfLettersInURL', 'URLLength', 'LetterRatioInURL']]"
      ]
    },
    {
      "cell_type": "markdown",
      "metadata": {
        "id": "15C49sl3MWPH"
      },
      "source": [
        "#### **Kolom NoOfDigitsInURL**"
      ]
    },
    {
      "cell_type": "code",
      "execution_count": null,
      "metadata": {
        "id": "DLy45PKhMW4-"
      },
      "outputs": [],
      "source": [
        "X_val = fill_no_of_digits_in_url(X_val, url_col='URL', digits_col='NoOfDegitsInURL')\n",
        "X_val[['URL', 'NoOfDegitsInURL']]"
      ]
    },
    {
      "cell_type": "markdown",
      "metadata": {
        "id": "05D9Fxz_MaYP"
      },
      "source": [
        "#### **Kolom DegitRatioInURL**"
      ]
    },
    {
      "cell_type": "code",
      "execution_count": null,
      "metadata": {
        "id": "LKyoNyHrMbuI"
      },
      "outputs": [],
      "source": [
        "X_val = fill_digits_ratio_in_url(X_val, url_col='URL', ratio_col='DegitRatioInURL')\n",
        "X_val[['URL', 'DegitRatioInURL']]"
      ]
    },
    {
      "cell_type": "markdown",
      "metadata": {
        "id": "FUlT8fFhMdA2"
      },
      "source": [
        "#### **Kolom NoOfEqualsInURL**"
      ]
    },
    {
      "cell_type": "code",
      "execution_count": null,
      "metadata": {
        "id": "_UpR-rlzMenf"
      },
      "outputs": [],
      "source": [
        "X_val = fill_no_of_equals_in_url(X_val, url_col='URL', equals_col='NoOfEqualsInURL')\n",
        "X_val[['URL', 'NoOfEqualsInURL']]"
      ]
    },
    {
      "cell_type": "markdown",
      "metadata": {
        "id": "JRZ4ZIZ4MsDi"
      },
      "source": [
        "#### **Kolom NoOfQMarkInURL**"
      ]
    },
    {
      "cell_type": "code",
      "execution_count": null,
      "metadata": {
        "id": "I5k9jLw2MuMU"
      },
      "outputs": [],
      "source": [
        "X_val = fill_no_of_qmark_in_url(X_val, url_col='URL', qmark_col='NoOfQMarkInURL')\n",
        "X_val[['URL', 'NoOfQMarkInURL']]"
      ]
    },
    {
      "cell_type": "markdown",
      "metadata": {
        "id": "2IrrR0BAMxD0"
      },
      "source": [
        "#### **Kolom NoOfAmpersandInURL**"
      ]
    },
    {
      "cell_type": "code",
      "execution_count": null,
      "metadata": {
        "id": "cjRiV7pSMzPO"
      },
      "outputs": [],
      "source": [
        "X_val = fill_no_of_ampersand_in_url(X_val, url_col='URL', ampersand_col='NoOfAmpersandInURL')\n",
        "X_val[['URL', 'NoOfAmpersandInURL']]"
      ]
    },
    {
      "cell_type": "markdown",
      "metadata": {
        "id": "CMawmVxbM2ZZ"
      },
      "source": [
        "#### **Kolom NoOfOtherSpecialCharsInURL**"
      ]
    },
    {
      "cell_type": "code",
      "execution_count": null,
      "metadata": {
        "id": "habTSIJRM3FJ"
      },
      "outputs": [],
      "source": [
        "X_val = fill_no_of_special_chars_in_url(X_val, url_col='URL', special_chars_col='NoOfOtherSpecialCharsInURL')\n",
        "X_val[['URL', 'NoOfOtherSpecialCharsInURL']]"
      ]
    },
    {
      "cell_type": "markdown",
      "metadata": {
        "id": "82-ajHBUM5aN"
      },
      "source": [
        "#### **Kolom SpacialCharRatioInURL**"
      ]
    },
    {
      "cell_type": "code",
      "execution_count": null,
      "metadata": {
        "id": "LKupfTLAM_gu"
      },
      "outputs": [],
      "source": [
        "X_val = fill_specials_ratio_in_url(X_val, url_col='URL', ratio_col='SpacialCharRatioInURL')\n",
        "X_val[['URL', 'SpacialCharRatioInURL']]"
      ]
    },
    {
      "cell_type": "markdown",
      "metadata": {
        "id": "sqfabxLINGs-"
      },
      "source": [
        "#### **Kolom IsHTTPS**"
      ]
    },
    {
      "cell_type": "code",
      "execution_count": null,
      "metadata": {
        "id": "jg9w_yEnNJhi"
      },
      "outputs": [],
      "source": [
        "X_val = fill_is_https(X_val, url_col='URL', https_col='IsHTTPS')\n",
        "X_val[['URL', 'IsHTTPS']]"
      ]
    },
    {
      "cell_type": "markdown",
      "metadata": {
        "id": "jKHU-S4vNIU5"
      },
      "source": [
        "#### **Kolom HasTitle**"
      ]
    },
    {
      "cell_type": "code",
      "execution_count": null,
      "metadata": {
        "id": "FdHxUfrKNLrV"
      },
      "outputs": [],
      "source": [
        "X_val = fill_has_title(X_val, title_col='Title', has_title_col='HasTitle')\n",
        "X_val[['Title', 'HasTitle']]"
      ]
    },
    {
      "cell_type": "markdown",
      "metadata": {
        "id": "QIoIfJ_TNN5-"
      },
      "source": [
        "#### **Kolom DomainTitleMatchScore**"
      ]
    },
    {
      "cell_type": "code",
      "execution_count": null,
      "metadata": {
        "id": "FjFCJyJZNQyu"
      },
      "outputs": [],
      "source": [
        "X_val = fill_domain_title_match_score(\n",
        "    X_val,\n",
        "    title_col='Title',\n",
        "    domain_col='Domain',\n",
        "    score_col='DomainTitleMatchScore'\n",
        ")\n",
        "X_val[['URL', 'Title', 'DomainTitleMatchScore']]"
      ]
    },
    {
      "cell_type": "markdown",
      "metadata": {
        "id": "Bdg59JJ4NVLE"
      },
      "source": [
        "#### **Kolom URLTitleMatchScore**"
      ]
    },
    {
      "cell_type": "code",
      "execution_count": null,
      "metadata": {
        "id": "pnBRmCmONWCB"
      },
      "outputs": [],
      "source": [
        "X_val = fill_url_title_match_score(\n",
        "    X_val,\n",
        "    title_col='Title',\n",
        "    url_col='URL',\n",
        "    score_col='URLTitleMatchScore'\n",
        ")\n",
        "X_val[['URL', 'Title', 'URLTitleMatchScore']]"
      ]
    },
    {
      "cell_type": "code",
      "execution_count": null,
      "metadata": {
        "id": "sskxPKrdNnid"
      },
      "outputs": [],
      "source": [
        "X_val.isnull().sum().sort_values()"
      ]
    },
    {
      "cell_type": "markdown",
      "metadata": {
        "id": "3YUa2K8gNpNJ"
      },
      "source": [
        "#### Handling Missing Value by Data Imputation"
      ]
    },
    {
      "cell_type": "code",
      "execution_count": null,
      "metadata": {
        "id": "ykhpR4hgNubK"
      },
      "outputs": [],
      "source": [
        "X_val = fill_numerical_columns(X_val, numerical_columns, skewness_threshold=3)"
      ]
    },
    {
      "cell_type": "code",
      "execution_count": null,
      "metadata": {
        "id": "rNQxp5ZrPIwM"
      },
      "outputs": [],
      "source": [
        "X_val.isnull().sum().sort_values()"
      ]
    },
    {
      "cell_type": "code",
      "execution_count": null,
      "metadata": {
        "id": "V9g564TuPOSE"
      },
      "outputs": [],
      "source": [
        "X_val = fill_categorical_columns(X_val, categorical_columns_to_fill, group_by_columns)\n",
        "print(f\"Missing values after imputation:\")\n",
        "print(X_val.isnull().sum())"
      ]
    },
    {
      "cell_type": "code",
      "execution_count": null,
      "metadata": {
        "id": "xQZgyMnbPeC8"
      },
      "outputs": [],
      "source": [
        "X_val.isnull().sum().sort_values()"
      ]
    },
    {
      "cell_type": "markdown",
      "metadata": {
        "id": "-L5vpGFJS3W4"
      },
      "source": [
        "#### **Update Grouping DF**"
      ]
    },
    {
      "cell_type": "code",
      "execution_count": null,
      "metadata": {
        "id": "atoB0LS3TLFw"
      },
      "outputs": [],
      "source": [
        "X_train_categorical_columns = X_train[categorical_columns]\n",
        "X_train_categorical_columns_filtered = X_train[categorical_columns_filtered]\n",
        "X_train_numerical_all = X_train[numerical_columns]\n",
        "X_train_continuous = X_train[continuous_columns]\n",
        "X_train_discrete = X_train[discrete_columns]\n",
        "\n",
        "X_val_categorical_columns = X_val[categorical_columns]\n",
        "X_val_categorical_columns_filtered = X_val[categorical_columns_filtered]\n",
        "X_val_numerical_all = X_val[numerical_columns]\n",
        "X_val_continuous = X_val[continuous_columns]\n",
        "X_val_discrete = X_val[discrete_columns]"
      ]
    },
    {
      "cell_type": "markdown",
      "metadata": {
        "id": "zgrSMcK75VY_"
      },
      "source": [
        "### II. Dealing with Outliers\n",
        "\n",
        "Outliers are data points that significantly differ from the majority of the data. They can be unusually high or low values that do not fit the pattern of the rest of the dataset. Outliers can significantly impact model performance, so it is important to handle them properly.\n",
        "\n",
        "Some methods to handle outliers:\n",
        "1. **Imputation**: Replace with mean, median, or a boundary value.\n",
        "2. **Clipping**: Cap values to upper and lower limits.\n",
        "3. **Transformation**: Use log, square root, or power transformations to reduce their influence.\n",
        "4. **Model-Based**: Use algorithms robust to outliers (e.g., tree-based models, Huber regression)."
      ]
    },
    {
      "cell_type": "markdown",
      "metadata": {
        "id": "MFEJBOW2mfdp"
      },
      "source": [
        "#### Outliers For X_train"
      ]
    },
    {
      "cell_type": "markdown",
      "metadata": {
        "id": "Srpm6SqlvMVi"
      },
      "source": [
        "##### Mendeteksi outliers before handling"
      ]
    },
    {
      "cell_type": "code",
      "execution_count": null,
      "metadata": {
        "id": "CgbZ6Lv17Uf0"
      },
      "outputs": [],
      "source": [
        "# Cek box plot for all numerical data\n",
        "\n",
        "cols_per_row = 4\n",
        "num_cols = X_train_numerical_all.shape[1]\n",
        "num_rows = (num_cols + cols_per_row - 1) // cols_per_row\n",
        "\n",
        "fig, axes = plt.subplots(nrows=num_rows, ncols=cols_per_row, figsize=(16, 4 * num_rows))\n",
        "axes = axes.flatten()\n",
        "\n",
        "for i, column in enumerate(X_train_numerical_all.columns):\n",
        "    X_train_numerical_all.boxplot(column=column, ax=axes[i])\n",
        "    axes[i].set_title(f'Box Plot for {column}')\n",
        "    axes[i].set_ylabel('Values')\n",
        "\n",
        "for j in range(i + 1, len(axes)):\n",
        "    axes[j].set_visible(False)\n",
        "\n",
        "plt.tight_layout()\n",
        "plt.show()"
      ]
    },
    {
      "cell_type": "code",
      "execution_count": null,
      "metadata": {
        "id": "dqYyO4JP8DRc"
      },
      "outputs": [],
      "source": [
        "# Function to count outliers\n",
        "\n",
        "def detect_outliers(df, skewness_threshold=3, z_score_threshold=3):\n",
        "    results = []\n",
        "\n",
        "    for col in df.columns:\n",
        "\n",
        "        skewness = df[col].skew()\n",
        "\n",
        "        if abs(skewness) <= skewness_threshold:\n",
        "            z_scores = zscore(df[col].dropna())\n",
        "            outliers = np.abs(z_scores) > z_score_threshold\n",
        "            method = \"Z-Score\"\n",
        "        else:\n",
        "\n",
        "            Q1 = df[col].quantile(0.25)\n",
        "            Q3 = df[col].quantile(0.75)\n",
        "            IQR = Q3 - Q1\n",
        "            lower_bound = Q1 - 1.5 * IQR\n",
        "            upper_bound = Q3 + 1.5 * IQR\n",
        "            outliers = (df[col] < lower_bound) | (df[col] > upper_bound)\n",
        "            method = \"IQR\"\n",
        "\n",
        "        outlier_count = outliers.sum()\n",
        "\n",
        "        results.append({\n",
        "            'Feature': col,\n",
        "            'Outlier Count': outlier_count,\n",
        "            'Method': method\n",
        "        })\n",
        "\n",
        "    return pd.DataFrame(results)"
      ]
    },
    {
      "cell_type": "code",
      "execution_count": null,
      "metadata": {
        "id": "9RCYFxDa8GmN"
      },
      "outputs": [],
      "source": [
        "# Count Outliers before Handling\n",
        "\n",
        "outlier_summary = detect_outliers(X_train_numerical_all)\n",
        "\n",
        "print(outlier_summary)"
      ]
    },
    {
      "cell_type": "markdown",
      "source": [
        "#### Handling Outliers"
      ],
      "metadata": {
        "id": "D_tXdGG5oZGD"
      }
    },
    {
      "cell_type": "markdown",
      "metadata": {
        "id": "nQ6G2T9NuQ6A"
      },
      "source": [
        "##### Logform for data in a range 0-1000"
      ]
    },
    {
      "cell_type": "code",
      "execution_count": null,
      "metadata": {
        "id": "n5h2NErXuVTC"
      },
      "outputs": [],
      "source": [
        "def outlier_handlers_logform(X):\n",
        "  X_numerical_filtered = X_train[numerical_columns].loc[:, (X_train[numerical_columns].max() <= 1000) & (X_train[numerical_columns].min() >= 0)]\n",
        "  return np.log1p(X_numerical_filtered)\n",
        "\n",
        "# X_train_numerical_filtered = X_train_numerical_all.loc[:, (X_train_numerical_all.max() <= 1000) & (X_train_numerical_all.min() >= 0)]\n",
        "\n",
        "# X_train_log_transformed_filtered = np.log1p(X_train_numerical_filtered)\n",
        "\n",
        "X_train_log_transformed_filtered = outlier_handlers_logform(X_train)\n",
        "cols_per_row = 4\n",
        "num_cols = X_train_log_transformed_filtered.shape[1]\n",
        "num_rows = (num_cols + cols_per_row - 1) // cols_per_row\n",
        "\n",
        "fig, axes = plt.subplots(nrows=num_rows, ncols=cols_per_row, figsize=(16, 4 * num_rows))\n",
        "axes = axes.flatten()\n",
        "\n",
        "for i, column in enumerate(X_train_log_transformed_filtered.columns):\n",
        "    X_train_log_transformed_filtered.boxplot(column=column, ax=axes[i])\n",
        "    axes[i].set_title(f'Log Transformed Box Plot for {column}')\n",
        "    axes[i].set_ylabel('Log Values')\n",
        "\n",
        "for j in range(i + 1, len(axes)):\n",
        "    axes[j].set_visible(False)\n",
        "\n",
        "plt.tight_layout()\n",
        "plt.show()"
      ]
    },
    {
      "cell_type": "markdown",
      "metadata": {
        "id": "z70ZIszouZji"
      },
      "source": [
        "##### SQRT untuk Data dengan rentang terdekat"
      ]
    },
    {
      "cell_type": "code",
      "execution_count": null,
      "metadata": {
        "id": "d-CYEGP1ubwk"
      },
      "outputs": [],
      "source": [
        "def outlier_handlers_sqrt(X):\n",
        "  X_small_range = X_train[numerical_columns].loc[:, (X_train[numerical_columns].max() <= 15) & (X_train[numerical_columns].min() >= 0)]\n",
        "  return np.sqrt(X_small_range)\n",
        "\n",
        "\n",
        "X_train_sqrt_transformed = outlier_handlers_sqrt(X_train)\n",
        "\n",
        "cols_per_row = 4\n",
        "num_cols = X_train_sqrt_transformed.shape[1]\n",
        "num_rows = (num_cols + cols_per_row - 1) // cols_per_row\n",
        "\n",
        "fig, axes = plt.subplots(nrows=num_rows, ncols=cols_per_row, figsize=(16, 4 * num_rows))\n",
        "axes = axes.flatten()\n",
        "\n",
        "for i, column in enumerate(X_train_sqrt_transformed.columns):\n",
        "    X_train_sqrt_transformed.boxplot(column=column, ax=axes[i])\n",
        "    axes[i].set_title(f'Sqrt Transformed Box Plot for {column}')\n",
        "    axes[i].set_ylabel('Sqrt Values')\n",
        "\n",
        "for j in range(i + 1, len(axes)):\n",
        "    axes[j].set_visible(False)\n",
        "\n",
        "plt.tight_layout()\n",
        "plt.show()"
      ]
    },
    {
      "cell_type": "markdown",
      "source": [
        "##### Clip"
      ],
      "metadata": {
        "id": "wE0I7G6NoyTs"
      }
    },
    {
      "cell_type": "code",
      "source": [
        "def outlier_handlers_clip(df, lower_percentile=0.01, upper_percentile=0.99):\n",
        "    clipped_df = df.copy()\n",
        "    for col in clipped_df[numerical_columns].columns:\n",
        "        lower_bound = np.percentile(clipped_df[col].dropna(), lower_percentile * 100)\n",
        "        upper_bound = np.percentile(clipped_df[col].dropna(), upper_percentile * 100)\n",
        "        clipped_df[col] = np.clip(clipped_df[col], lower_bound, upper_bound)\n",
        "\n",
        "    return clipped_df"
      ],
      "metadata": {
        "id": "itoQHFR7o1s9"
      },
      "execution_count": null,
      "outputs": []
    },
    {
      "cell_type": "code",
      "source": [
        "X_train_numerical_all_clipped = outlier_handlers_clip(X_train_numerical_all)\n",
        "print(\"\\nClipped Data Head:\")\n",
        "print(X_train_numerical_all_clipped.head())"
      ],
      "metadata": {
        "id": "vwooaz9No5tC"
      },
      "execution_count": null,
      "outputs": []
    },
    {
      "cell_type": "markdown",
      "metadata": {
        "id": "_Rr18DgpP-3i"
      },
      "source": [
        "####  Mendeteksi outliers after handling"
      ]
    },
    {
      "cell_type": "markdown",
      "source": [
        "##### After Logtransform"
      ],
      "metadata": {
        "id": "iRBqGuiAosie"
      }
    },
    {
      "cell_type": "code",
      "execution_count": null,
      "metadata": {
        "id": "LhRfcaTqP-3j"
      },
      "outputs": [],
      "source": [
        "log_outlier_results = detect_outliers(X_train_log_transformed_filtered)\n",
        "print(\"Log-Transformed Data Outliers:\")\n",
        "print(log_outlier_results)"
      ]
    },
    {
      "cell_type": "markdown",
      "source": [
        "##### After SQRT"
      ],
      "metadata": {
        "id": "AUyvfAsJpHJc"
      }
    },
    {
      "cell_type": "code",
      "source": [
        "# Check outliers in sqrt-transformed data\n",
        "sqrt_outlier_results = detect_outliers(X_train_sqrt_transformed)\n",
        "print(\"\\nSqrt-Transformed Data Outliers:\")\n",
        "print(sqrt_outlier_results)"
      ],
      "metadata": {
        "id": "zSyZ3hSapNGS"
      },
      "execution_count": null,
      "outputs": []
    },
    {
      "cell_type": "markdown",
      "source": [
        "##### After Clip"
      ],
      "metadata": {
        "id": "EtnQjvl8pORo"
      }
    },
    {
      "cell_type": "code",
      "source": [
        "# Check outliers in sqrt-transformed data\n",
        "clip_outlier_results = detect_outliers(X_train_numerical_all_clipped)\n",
        "print(\"\\nClip Data Outliers:\")\n",
        "print(clip_outlier_results)"
      ],
      "metadata": {
        "id": "fZGEyUkQpP-Q"
      },
      "execution_count": null,
      "outputs": []
    },
    {
      "cell_type": "markdown",
      "metadata": {
        "id": "Fwe-8xD4mj_U"
      },
      "source": [
        "#### Outliers for X_Val"
      ]
    },
    {
      "cell_type": "markdown",
      "metadata": {
        "id": "1yUw2qA8my99"
      },
      "source": [
        "##### Mendeteksi dan menangani outliers"
      ]
    },
    {
      "cell_type": "code",
      "execution_count": null,
      "metadata": {
        "id": "WoZS2iuimy9-"
      },
      "outputs": [],
      "source": [
        "# Cek box plot for all numerical data (X_val)\n",
        "\n",
        "cols_per_row = 4\n",
        "num_cols = X_val_numerical_all.shape[1]\n",
        "num_rows = (num_cols + cols_per_row - 1) // cols_per_row\n",
        "\n",
        "fig, axes = plt.subplots(nrows=num_rows, ncols=cols_per_row, figsize=(16, 4 * num_rows))\n",
        "axes = axes.flatten()\n",
        "\n",
        "for i, column in enumerate(X_val_numerical_all.columns):\n",
        "    X_val_numerical_all.boxplot(column=column, ax=axes[i])\n",
        "    axes[i].set_title(f'Box Plot for {column}')\n",
        "    axes[i].set_ylabel('Values')\n",
        "\n",
        "for j in range(i + 1, len(axes)):\n",
        "    axes[j].set_visible(False)\n",
        "\n",
        "plt.tight_layout()\n",
        "plt.show()"
      ]
    },
    {
      "cell_type": "markdown",
      "source": [
        "#### Handling Outliers"
      ],
      "metadata": {
        "id": "HbWnHZLFrMsZ"
      }
    },
    {
      "cell_type": "markdown",
      "metadata": {
        "id": "040mvHnHmy9_"
      },
      "source": [
        "##### Logform for data in a range 0-1000"
      ]
    },
    {
      "cell_type": "code",
      "execution_count": null,
      "metadata": {
        "id": "tVqNhkyOmy9_"
      },
      "outputs": [],
      "source": [
        "X_val_numerical_filtered = X_val_numerical_all.loc[:, (X_val_numerical_all.max() <= 1000) & (X_val_numerical_all.min() >= 0)]\n",
        "\n",
        "X_val_log_transformed_filtered = np.log1p(X_val_numerical_filtered)\n",
        "\n",
        "cols_per_row = 4\n",
        "num_cols = X_val_log_transformed_filtered.shape[1]\n",
        "num_rows = (num_cols + cols_per_row - 1) // cols_per_row\n",
        "\n",
        "fig, axes = plt.subplots(nrows=num_rows, ncols=cols_per_row, figsize=(16, 4 * num_rows))\n",
        "axes = axes.flatten()\n",
        "\n",
        "for i, column in enumerate(X_val_log_transformed_filtered.columns):\n",
        "    X_val_log_transformed_filtered.boxplot(column=column, ax=axes[i])\n",
        "    axes[i].set_title(f'Log Transformed Box Plot for {column}')\n",
        "    axes[i].set_ylabel('Log Values')\n",
        "\n",
        "for j in range(i + 1, len(axes)):\n",
        "    axes[j].set_visible(False)\n",
        "\n",
        "plt.tight_layout()\n",
        "plt.show()"
      ]
    },
    {
      "cell_type": "markdown",
      "metadata": {
        "id": "CWM9jKSzmy9_"
      },
      "source": [
        "##### SQRT untuk Data dengan rentang terdekat"
      ]
    },
    {
      "cell_type": "code",
      "execution_count": null,
      "metadata": {
        "id": "XWPn80HSmy9_"
      },
      "outputs": [],
      "source": [
        "X_val_small_range = X_val_numerical_all.loc[:, (X_val_numerical_all.max() <= 15) & (X_val_numerical_all.min() >= 0)]\n",
        "\n",
        "X_val_sqrt_transformed = np.sqrt(X_val_small_range)\n",
        "\n",
        "cols_per_row = 4\n",
        "num_cols = X_val_sqrt_transformed.shape[1]\n",
        "num_rows = (num_cols + cols_per_row - 1) // cols_per_row\n",
        "\n",
        "fig, axes = plt.subplots(nrows=num_rows, ncols=cols_per_row, figsize=(16, 4 * num_rows))\n",
        "axes = axes.flatten()\n",
        "\n",
        "for i, column in enumerate(X_val_sqrt_transformed.columns):\n",
        "    X_val_sqrt_transformed.boxplot(column=column, ax=axes[i])\n",
        "    axes[i].set_title(f'Sqrt Transformed Box Plot for {column}')\n",
        "    axes[i].set_ylabel('Sqrt Values')\n",
        "\n",
        "for j in range(i + 1, len(axes)):\n",
        "    axes[j].set_visible(False)\n",
        "\n",
        "plt.tight_layout()\n",
        "plt.show()"
      ]
    },
    {
      "cell_type": "markdown",
      "source": [
        "##### Clip"
      ],
      "metadata": {
        "id": "t2Rsk0Fgqn8Z"
      }
    },
    {
      "cell_type": "markdown",
      "source": [
        "#### Mendeteksi outliers after handling"
      ],
      "metadata": {
        "id": "T_b9xz9v_G-s"
      }
    },
    {
      "cell_type": "code",
      "source": [
        "# X_val_numerical_all_clipped = clip__handlers_outliers(X_val_numerical_all)\n",
        "# print(\"\\nClipped Data Head:\")\n",
        "# print(X_val_numerical_all_clipped.head())"
      ],
      "metadata": {
        "id": "dhnktRR0qn8b"
      },
      "execution_count": null,
      "outputs": []
    },
    {
      "cell_type": "markdown",
      "source": [
        "##### After Logtransform"
      ],
      "metadata": {
        "id": "Oh-is3qrqn8c"
      }
    },
    {
      "cell_type": "code",
      "execution_count": null,
      "metadata": {
        "id": "7mFD1DZ7qn8c"
      },
      "outputs": [],
      "source": [
        "log_outlier_results = detect_outliers(X_val_log_transformed_filtered)\n",
        "print(\"Log-Transformed Data Outliers:\")\n",
        "print(log_outlier_results)"
      ]
    },
    {
      "cell_type": "markdown",
      "source": [
        "##### After SQRT"
      ],
      "metadata": {
        "id": "g29yLObOqn8c"
      }
    },
    {
      "cell_type": "code",
      "source": [
        "# Check outliers in sqrt-transformed data\n",
        "sqrt_outlier_results = detect_outliers(X_val_sqrt_transformed)\n",
        "print(\"\\nSqrt-Transformed Data Outliers:\")\n",
        "print(sqrt_outlier_results)"
      ],
      "metadata": {
        "id": "45txTPvgqn8c"
      },
      "execution_count": null,
      "outputs": []
    },
    {
      "cell_type": "markdown",
      "source": [
        "##### After Clip"
      ],
      "metadata": {
        "id": "D-5pOlO9qn8d"
      }
    },
    {
      "cell_type": "code",
      "source": [
        "# # Check outliers in sqrt-transformed data\n",
        "# clip_outlier_results = detect_outliers(X_val_numerical_all_clipped)\n",
        "# print(\"\\nClip Data Outliers:\")\n",
        "# print(clip_outlier_results)"
      ],
      "metadata": {
        "id": "GpS3PwjDqn8d"
      },
      "execution_count": null,
      "outputs": []
    },
    {
      "cell_type": "code",
      "execution_count": null,
      "metadata": {
        "id": "WN5XUnr8my9_"
      },
      "outputs": [],
      "source": [
        "X_val.head()"
      ]
    },
    {
      "cell_type": "markdown",
      "metadata": {
        "id": "yC2NETq4xBir"
      },
      "source": [
        "### III. Data Validation\n",
        "Check for data integrity and consistency. Ensure that data types are correct, categorical variables have consistent labels, and numerical values fall within expected ranges."
      ]
    },
    {
      "cell_type": "code",
      "execution_count": null,
      "metadata": {
        "id": "INEHtumNxJqR"
      },
      "outputs": [],
      "source": [
        "def data_validation(X):\n",
        "\n",
        "  # Data Types Validation\n",
        "  validate = X.copy()\n",
        "  # Change all 'object' features into 'string'\n",
        "  validate = validate.apply(lambda col: col.astype('string') if col.dtypes == 'object' else col)\n",
        "\n",
        "\n",
        "  # Change all categorical 'float64' into 'int'\n",
        "  columns_to_validate = categorical_columns_filtered + discrete_columns\n",
        "  validate[columns_to_validate] = validate[columns_to_validate].apply(lambda col: col.astype('int'))\n",
        "\n",
        "\n",
        "  # Binary categorical features validation (must contains 1 ror 0)\n",
        "  # classes_validate_dict_validate = {col: validate[col].unique() for col in categorical_columns_filtered}\n",
        "  return validate\n",
        "\n",
        "\n",
        "# # FINAL:\n",
        "# # Change all 'object' features into 'string'\n",
        "# X_train = X_train.apply(lambda col: col.astype('string') if col.dtypes == 'object' else col)\n",
        "# X_val = X_val.apply(lambda col: col.astype('string') if col.dtypes == 'object' else col)\n",
        "\n",
        "# # Change all categorical 'float64' into 'int'\n",
        "# columns_to_validate = categorical_columns_filtered + discrete_columns\n",
        "# X_train[columns_to_validate] = X_train[columns_to_validate].apply(lambda col: col.astype('int'))\n",
        "# X_val[columns_to_validate] = X_val[columns_to_validate].apply(lambda col: col.astype('int'))\n",
        "\n",
        "# # Binary categorical features validation (must contains 1 ror 0)\n",
        "# classes_X_train_dict_validate = {col: X_train[col].unique() for col in categorical_columns_filtered}\n",
        "# classes_X_val_dict_validate = {col: X_val[col].unique() for col in categorical_columns_filtered}\n",
        "\n",
        "# ==============\n",
        "\n",
        "# # TEST:\n",
        "# X_train_validation_test = X_train.copy()\n",
        "# X_val_validation_test = X_val.copy()\n",
        "\n",
        "# # Change all 'object' features into 'string'\n",
        "# X_train_validation_test = X_train_validation_test.apply(lambda col: col.astype('string') if col.dtypes == 'object' else col)\n",
        "# X_val_validation_test = X_val_validation_test.apply(lambda col: col.astype('string') if col.dtypes == 'object' else col)\n",
        "\n",
        "# # Change all categorical 'float64' into 'int'\n",
        "# columns_to_validate = categorical_columns_filtered + discrete_columns\n",
        "# X_train_validation_test[columns_to_validate] = X_train_validation_test[columns_to_validate].apply(lambda col: col.astype('int'))\n",
        "# # X_val_validation_test[columns_to_validate] = X_val_validation_test[columns_to_validate].apply(lambda col: col.astype('int'))\n",
        "\n",
        "# # Binary categorical features validation (must contains 1 ror 0)\n",
        "# classes_X_train_dict_validate_test = {col: X_train_validation_test[col].unique() for col in categorical_columns_filtered}\n",
        "# classes_X_val_dict_validate_test = {col: X_val_validation_test[col].unique() for col in categorical_columns_filtered}"
      ]
    },
    {
      "cell_type": "code",
      "execution_count": null,
      "metadata": {
        "id": "X4-MDIJ_4A2D"
      },
      "outputs": [],
      "source": [
        "# FINAL:\n",
        "print(\"All Data Types of X_train:\\n\")\n",
        "print(f\"Rows (Data): {X_train.size}\")\n",
        "print(f\"Columns (Features): {X_train.columns.size}\")\n",
        "X_train.dtypes\n",
        "\n",
        "# ==============\n",
        "\n",
        "# # TEST:\n",
        "# print(\"All Data Types of X_val_validation_test:\\n\")\n",
        "# print(f\"Rows (Data): {X_val_validation_test.size}\")\n",
        "# print(f\"Columns (Features): {X_val_validation_test.columns.size}\")\n",
        "# # print(f\"All Categorical features of X_val_validation_test contains: {classes_X_val_dict_validate_test}\\n\")\n",
        "# X_val_validation_test.dtypes"
      ]
    },
    {
      "cell_type": "code",
      "source": [
        "# FINAL:\n",
        "print(\"All Data Types of X_val:\\n\")\n",
        "print(f\"Rows (Data): {X_val.size}\")\n",
        "print(f\"Columns (Features): {X_val.columns.size}\")\n",
        "X_val.dtypes\n",
        "\n",
        "# ==============\n",
        "\n",
        "# # TEST:\n",
        "# print(\"All Data Types of X_val_validation_test:\\n\")\n",
        "# print(f\"Rows (Data): {X_val_validation_test.size}\")\n",
        "# print(f\"Columns (Features): {X_val_validation_test.columns.size}\")\n",
        "# # print(f\"All Categorical features of X_val_validation_test contains: {classes_X_val_dict_validate_test}\\n\")\n",
        "# X_val_validation_test.dtypes"
      ],
      "metadata": {
        "id": "p-2Ijh3L_gtq"
      },
      "execution_count": null,
      "outputs": []
    },
    {
      "cell_type": "markdown",
      "metadata": {
        "id": "aO0ZEZ-s6Lu-"
      },
      "source": [
        "### IV. Remove Duplicates\n",
        "Handling duplicate values is crucial because they can compromise data integrity, leading to inaccurate analysis and insights. Duplicate entries can bias machine learning models, causing overfitting and reducing their ability to generalize to new data. They also inflate the dataset size unnecessarily, increasing computational costs and processing times. Additionally, duplicates can distort statistical measures and lead to inconsistencies, ultimately affecting the reliability of data-driven decisions and reporting. Ensuring data quality by removing duplicates is essential for accurate, efficient, and consistent analysis."
      ]
    },
    {
      "cell_type": "code",
      "execution_count": null,
      "metadata": {
        "id": "BHCkkZ-v7iF8"
      },
      "outputs": [],
      "source": [
        "num_duplicates = X_train.duplicated().sum()\n",
        "print(f\"Number of duplicated columns: {num_duplicates}\")\n",
        "\n",
        "X_train = X_train.drop_duplicates()\n",
        "\n",
        "print(f\"Jumlah baris setelah menghapus duplikat: {X_train.shape[0]}\")\n",
        "print(f\"Jumlah kolom: {X_train.shape[1]}\")\n",
        "\n",
        "# print(\"Data X_train setelah menghapus duplikat:\")\n",
        "# display(X_train.style.set_table_styles(\n",
        "#     [{'selector': 'thead th', 'props': [('background-color', '#f7f7f7'), ('font-weight', 'bold')]},\n",
        "#      {'selector': 'tbody td', 'props': [('border', '1px solid #ddd')]}]\n",
        "# ).set_properties(**{'text-align': 'center'}))"
      ]
    },
    {
      "cell_type": "markdown",
      "metadata": {
        "id": "eycPASmMLfHa"
      },
      "source": [
        "### V. Feature Engineering\n",
        "\n",
        "**Feature engineering** involves creating new features (input variables) or transforming existing ones to improve the performance of machine learning models. Feature engineering aims to enhance the model's ability to learn patterns and make accurate predictions from the data. It's often said that \"good features make good models.\"\n",
        "\n",
        "1. **Feature Selection:** Feature engineering can involve selecting the most relevant and informative features from the dataset. Removing irrelevant or redundant features not only simplifies the model but also reduces the risk of overfitting.\n",
        "\n",
        "2. **Creating New Features:** Sometimes, the existing features may not capture the underlying patterns effectively. In such cases, engineers create new features that provide additional information. For example:\n",
        "   \n",
        "   - **Polynomial Features:** Engineers may create new features by taking the square, cube, or other higher-order terms of existing numerical features. This can help capture nonlinear relationships.\n",
        "   \n",
        "   - **Interaction Features:** Interaction features are created by combining two or more existing features. For example, if you have features \"length\" and \"width,\" you can create an \"area\" feature by multiplying them.\n",
        "\n",
        "3. **Binning or Discretization:** Continuous numerical features can be divided into bins or categories. For instance, age values can be grouped into bins like \"child,\" \"adult,\" and \"senior.\"\n",
        "\n",
        "4. **Domain-Specific Feature Engineering:** Depending on the domain and problem, engineers may create domain-specific features. For example, in fraud detection, features related to transaction history and user behavior may be engineered to identify anomalies.\n",
        "\n",
        "Feature engineering is both a creative and iterative process. It requires a deep understanding of the data, domain knowledge, and experimentation to determine which features will enhance the model's predictive power."
      ]
    },
    {
      "cell_type": "markdown",
      "metadata": {
        "id": "7qBX9-nZXj6W"
      },
      "source": [
        "#### V. 1: Feature Selection"
      ]
    },
    {
      "cell_type": "code",
      "execution_count": null,
      "metadata": {
        "id": "UoXEV6wkLfHa"
      },
      "outputs": [],
      "source": [
        "def feature_selection(X, y):\n",
        "    # 1. Feature Selection\n",
        "\n",
        "    # Chi2 Selector and Anova Selector\n",
        "    chi2_selector = SelectKBest(score_func=chi2, k=20)\n",
        "    anova_selector = SelectKBest(score_func=f_classif, k=15)\n",
        "\n",
        "    # a) Fit kedua selector dengan data & label\n",
        "    chi2_selector.fit(X[categorical_columns_filtered], y)\n",
        "    anova_selector.fit(X[numerical_columns], y)\n",
        "\n",
        "    # b) Ambil nama kolom terpilih\n",
        "    selected_columns_chi2 = X[categorical_columns_filtered].columns[chi2_selector.get_support()]\n",
        "    selected_columns_anova = X[numerical_columns].columns[anova_selector.get_support()]\n",
        "\n",
        "    # c) Gabungkan kolom terpilih\n",
        "    selected_cols_union = selected_columns_chi2.union(selected_columns_anova)\n",
        "    X_selected = X[selected_cols_union]\n",
        "\n",
        "    print(f\"Selected Features: {X_selected.columns.tolist()}\")\n",
        "\n",
        "    return X_selected\n",
        "\n",
        "X_train_feature_selection = X_train.copy()\n",
        "y_train_feature_selection = y_train.copy()\n",
        "\n",
        "X_val_feature_selection = X_val.copy()\n",
        "y_val_feature_selection = y_val.copy()\n",
        "\n",
        "feature_selection(X_train_feature_selection, y_train_feature_selection)\n",
        "feature_selection(X_val_feature_selection, y_val_feature_selection)"
      ]
    },
    {
      "cell_type": "markdown",
      "metadata": {
        "id": "teXYcz1aylS6"
      },
      "source": [
        "#### V. 2: New Features"
      ]
    },
    {
      "cell_type": "code",
      "execution_count": null,
      "metadata": {
        "id": "-7bbUZQIysYs"
      },
      "outputs": [],
      "source": [
        "# 2. New Features\n",
        "def new_features(X):\n",
        "  # a) NoOfPops -> Sum(NoOfPopup, NoOfiFrame)\n",
        "  X['NoOfPops'] = X['NoOfPopup'] + X['NoOfiFrame']\n",
        "\n",
        "  # b) NoOfHref -> Sum(NoOfSelfRef, NoOfEmptyRef, NoOfExternalRef)\n",
        "  X['NoOfHref'] = X['NoOfSelfRef'] + X['NoOfEmptyRef'] + X['NoOfExternalRef']\n",
        "\n",
        "  # c) HasSolidInfo -> HasCopyrightInfo || HasSocialNet\n",
        "  X['HasSolidInfo'] = ((X['HasCopyrightInfo'] == 1) | (X['HasSocialNet'] == 1)).astype(int)"
      ]
    },
    {
      "cell_type": "markdown",
      "metadata": {
        "id": "xw11_49xLfHb"
      },
      "source": [
        "## B. Data Preprocessing\n",
        "\n",
        "**Data preprocessing** is a broader step that encompasses both data cleaning and additional transformations to make the data suitable for machine learning algorithms. Its primary goals are:\n",
        "\n",
        "1. **Feature Scaling:** Ensure that numerical features have similar scales. Common techniques include Min-Max scaling (scaling to a specific range) or standardization (mean-centered, unit variance).\n",
        "\n",
        "2. **Encoding Categorical Variables:** Machine learning models typically work with numerical data, so categorical variables need to be encoded. This can be done using one-hot encoding, label encoding, or more advanced methods like target encoding.\n",
        "\n",
        "3. **Handling Imbalanced Classes:** If dealing with imbalanced classes in a binary classification task, apply techniques such as oversampling, undersampling, or using different evaluation metrics to address class imbalance.\n",
        "\n",
        "4. **Dimensionality Reduction:** Reduce the number of features using techniques like Principal Component Analysis (PCA) or feature selection to simplify the model and potentially improve its performance.\n",
        "\n",
        "5. **Normalization:** Normalize data to achieve a standard distribution. This is particularly important for algorithms that assume normally distributed data."
      ]
    },
    {
      "cell_type": "markdown",
      "metadata": {
        "id": "rVyVnA1hLfHd"
      },
      "source": [
        "### Notes on Preprocessing processes\n",
        "\n",
        "It is advised to create functions or classes that have the same/similar type of inputs and outputs, so you can add, remove, or swap the order of the processes easily. You can implement the functions or classes by yourself\n",
        "\n",
        "or\n",
        "\n",
        "use `sklearn` library. To create a new preprocessing component in `sklearn`, implement a corresponding class that includes:\n",
        "1. Inheritance to `BaseEstimator` and `TransformerMixin`\n",
        "2. The method `fit`\n",
        "3. The method `transform`"
      ]
    },
    {
      "cell_type": "markdown",
      "metadata": {
        "id": "WhCgOl4xLfHb"
      },
      "source": [
        "### I. Feature Scaling\n",
        "\n",
        "**Feature scaling** is a preprocessing technique used in machine learning to standardize the range of independent variables or features of data. The primary goal of feature scaling is to ensure that all features contribute equally to the training process and that machine learning algorithms can work effectively with the data.\n",
        "\n",
        "Here are the main reasons why feature scaling is important:\n",
        "\n",
        "1. **Algorithm Sensitivity:** Many machine learning algorithms are sensitive to the scale of input features. If the scales of features are significantly different, some algorithms may perform poorly or take much longer to converge.\n",
        "\n",
        "2. **Distance-Based Algorithms:** Algorithms that rely on distances or similarities between data points, such as k-nearest neighbors (KNN) and support vector machines (SVM), can be influenced by feature scales. Features with larger scales may dominate the distance calculations.\n",
        "\n",
        "3. **Regularization:** Regularization techniques, like L1 (Lasso) and L2 (Ridge) regularization, add penalty terms based on feature coefficients. Scaling ensures that all features are treated equally in the regularization process.\n",
        "\n",
        "Common methods for feature scaling include:\n",
        "\n",
        "1. **Min-Max Scaling (Normalization):** This method scales features to a specific range, typically [0, 1]. It's done using the following formula:\n",
        "\n",
        "   $$X' = \\frac{X - X_{min}}{X_{max} - X_{min}}$$\n",
        "\n",
        "   - Here, $X$ is the original feature value, $X_{min}$ is the minimum value of the feature, and $X_{max}$ is the maximum value of the feature.  \n",
        "<br />\n",
        "<br />\n",
        "2. **Standardization (Z-score Scaling):** This method scales features to have a mean (average) of 0 and a standard deviation of 1. It's done using the following formula:\n",
        "\n",
        "   $$X' = \\frac{X - \\mu}{\\sigma}$$\n",
        "\n",
        "   - $X$ is the original feature value, $\\mu$ is the mean of the feature, and $\\sigma$ is the standard deviation of the feature.  \n",
        "<br />\n",
        "<br />\n",
        "3. **Robust Scaling:** Robust scaling is a method that scales features to the interquartile range (IQR) and is less affected by outliers. It's calculated as:\n",
        "\n",
        "   $$X' = \\frac{X - Q1}{Q3 - Q1}$$\n",
        "\n",
        "   - $X$ is the original feature value, $Q1$ is the first quartile (25th percentile), and $Q3$ is the third quartile (75th percentile) of the feature.  \n",
        "<br />\n",
        "<br />\n",
        "4. **Log Transformation:** In cases where data is highly skewed or has a heavy-tailed distribution, taking the logarithm of the feature values can help stabilize the variance and improve scaling.\n",
        "\n",
        "The choice of scaling method depends on the characteristics of your data and the requirements of your machine learning algorithm. **Min-max scaling and standardization are the most commonly used techniques and work well for many datasets.**\n",
        "\n",
        "Scaling should be applied separately to each training and test set to prevent data leakage from the test set into the training set. Additionally, **some algorithms may not require feature scaling, particularly tree-based models.**"
      ]
    },
    {
      "cell_type": "code",
      "execution_count": null,
      "metadata": {
        "id": "CBhEyl960JI2"
      },
      "outputs": [],
      "source": [
        "from sklearn.preprocessing import MinMaxScaler, StandardScaler, RobustScaler"
      ]
    },
    {
      "cell_type": "code",
      "execution_count": null,
      "metadata": {
        "id": "ILnVIwtTtgxe"
      },
      "outputs": [],
      "source": [
        "# X_train_filtered = X_train.copy().drop(columns=['TLD', 'Domain', 'URL', 'Title'])\n",
        "X_train_scaled = X_train.copy()\n",
        "numerical_columns = [col for col in X_train_scaled.columns if col not in categorical_columns]"
      ]
    },
    {
      "cell_type": "markdown",
      "metadata": {
        "id": "B1QO-9MUfsi_"
      },
      "source": [
        "#### Min Max"
      ]
    },
    {
      "cell_type": "code",
      "execution_count": null,
      "metadata": {
        "id": "xbsxm6ackMoh"
      },
      "outputs": [],
      "source": [
        "def apply_minmax_scaling(data):\n",
        "    min_max_scaler = MinMaxScaler()\n",
        "    data[numerical_columns] = min_max_scaler.fit_transform(data[numerical_columns])\n",
        "    return data\n",
        "\n",
        "X_train_minmax = apply_minmax_scaling(X_train_scaled)\n",
        "print(\"\\nX_train_scaled after Min-Max Scaling:\")\n",
        "print(X_train_minmax)"
      ]
    },
    {
      "cell_type": "markdown",
      "metadata": {
        "id": "fS1XcZOejUPx"
      },
      "source": [
        "#### Robust"
      ]
    },
    {
      "cell_type": "code",
      "execution_count": null,
      "metadata": {
        "id": "X8nQyn6nlLAj"
      },
      "outputs": [],
      "source": [
        "def apply_robust_scaling(data):\n",
        "    robust_scaler = RobustScaler()\n",
        "    data[numerical_columns] = robust_scaler.fit_transform(data[numerical_columns])\n",
        "    return data\n",
        "\n",
        "X_train_robust = apply_robust_scaling(X_train_scaled)\n",
        "print(\"\\nX_train_scaled after Robust Scaling:\")\n",
        "print(X_train_robust)"
      ]
    },
    {
      "cell_type": "markdown",
      "metadata": {
        "id": "CQg5_cV3jFGF"
      },
      "source": [
        "#### Standardization"
      ]
    },
    {
      "cell_type": "code",
      "execution_count": null,
      "metadata": {
        "id": "NWb7Ic25lNqR",
        "colab": {
          "base_uri": "https://localhost:8080/"
        },
        "outputId": "81c8f979-3f72-4329-f662-befb5a17bb76"
      },
      "outputs": [
        {
          "output_type": "stream",
          "name": "stdout",
          "text": [
            "\n",
            "X_train_scaled after Standardization:\n",
            "                                      URL  URLLength  \\\n",
            "28021               https://www.yc-tp.com  -0.340615   \n",
            "71026                                 NaN  -0.137735   \n",
            "89927          https://www.autodesk.co.uk  -0.137735   \n",
            "94654        https://www.marketmanila.com  -0.036295   \n",
            "35275           https://www.re-course.org  -0.137735   \n",
            "...                                   ...        ...   \n",
            "110268           https://www.gemathis.com  -0.239175   \n",
            "119879                                NaN  -0.188455   \n",
            "103694                                NaN   0.318746   \n",
            "131932       https://www.leinsterrugby.ie  -0.036295   \n",
            "121958  https://www.cruiseharbournews.com   0.268026   \n",
            "\n",
            "                           Domain  DomainLength  IsDomainIP  TLD  \\\n",
            "28021               www.yc-tp.com     -1.167639         0.0  com   \n",
            "71026                         NaN     -0.283333         0.0  com   \n",
            "89927          www.autodesk.co.uk     -0.283333         0.0   uk   \n",
            "94654        www.marketmanila.com      0.070390         0.0  com   \n",
            "35275           www.re-course.org     -0.460194         0.0  org   \n",
            "...                           ...           ...         ...  ...   \n",
            "110268           www.gemathis.com     -0.637055         0.0  com   \n",
            "119879          www.mural24.co.uk     -0.460194         0.0   uk   \n",
            "103694                        NaN      1.308418         0.0  NaN   \n",
            "131932       www.leinsterrugby.ie      0.070390         0.0   ie   \n",
            "121958  www.cruiseharbournews.com      0.954696         0.0  com   \n",
            "\n",
            "        CharContinuationRate  TLDLegitimateProb   URLCharProb  TLDLength  ...  \\\n",
            "28021          -2.072109e+00           0.996660  7.366829e-02   0.513743  ...   \n",
            "71026           6.486880e-17           0.996660  4.374622e-01   0.513743  ...   \n",
            "89927          -5.007919e-01          -1.015818 -5.636639e-01  -1.392105  ...   \n",
            "94654           8.086387e-01           0.996660  1.157247e+00   0.513743  ...   \n",
            "35275          -9.198096e-01          -0.806540 -4.296291e-01   0.513743  ...   \n",
            "...                      ...                ...           ...        ...  ...   \n",
            "110268          8.086387e-01           0.996660  3.558091e-01   0.513743  ...   \n",
            "119879         -6.317349e-01          -1.015818  1.372277e-15  -1.392105  ...   \n",
            "103694          8.086387e-01          -0.000492  1.372277e-15   0.513743  ...   \n",
            "131932         -4.774092e-01          -1.125600 -7.554942e-01  -1.392105  ...   \n",
            "121958          8.086387e-01           0.996660  3.434366e-01   0.513743  ...   \n",
            "\n",
            "        Bank  Pay  Crypto  HasCopyrightInfo  NoOfImage   NoOfCSS    NoOfJS  \\\n",
            "28021    0.0  0.0     0.0               1.0  -0.059045  0.034360 -0.156942   \n",
            "71026    0.0  0.0     0.0               1.0   0.647710  0.025064  0.093485   \n",
            "89927    0.0  0.0     0.0               1.0  -0.046860 -0.021415  0.656947   \n",
            "94654    0.0  1.0     0.0               1.0  -0.144343  0.164501  0.531733   \n",
            "35275    1.0  1.0     0.0               1.0  -0.144343  0.025064  0.156092   \n",
            "...      ...  ...     ...               ...        ...       ...       ...   \n",
            "110268   0.0  0.0     0.0               1.0  -0.144343 -0.058598 -0.156942   \n",
            "119879   0.0  1.0     0.0               1.0   1.598174 -0.049302 -0.469977   \n",
            "103694   1.0  1.0     0.0               1.0  -0.144343 -0.021415 -0.156942   \n",
            "131932   1.0  0.0     0.0               1.0  -0.144343 -0.021415  2.660367   \n",
            "121958   0.0  0.0     0.0               1.0  -0.144343 -0.021415 -0.344763   \n",
            "\n",
            "        NoOfSelfRef  NoOfEmptyRef  NoOfExternalRef  \n",
            "28021     -0.126897     -0.125459         0.586308  \n",
            "71026      0.637111     -0.125459        -0.144813  \n",
            "89927     -0.126897     -0.076566        -0.144813  \n",
            "94654      0.066795     -0.125459        -0.144813  \n",
            "35275     -0.374393     -0.125459        -0.144813  \n",
            "...             ...           ...              ...  \n",
            "110268     0.072175      0.216796        -0.144813  \n",
            "119879    -0.126897     -0.076566        -0.144813  \n",
            "103694    -0.272167     -0.125459        -0.248204  \n",
            "131932    -0.126897     -0.125459         2.011627  \n",
            "121958    -0.126897     -0.125459        -0.144813  \n",
            "\n",
            "[112323 rows x 53 columns]\n"
          ]
        }
      ],
      "source": [
        "def apply_standardization(data):\n",
        "    standard_scaler = StandardScaler()\n",
        "    data[numerical_columns] = standard_scaler.fit_transform(data[numerical_columns])\n",
        "    return data\n",
        "\n",
        "X_train_standard = apply_standardization(X_train_scaled)\n",
        "print(\"\\nX_train_scaled after Standardization:\")\n",
        "print(X_train_standard)"
      ]
    },
    {
      "cell_type": "markdown",
      "metadata": {
        "id": "f_Lh-4JwLfHc"
      },
      "source": [
        "### II. Feature Encoding\n",
        "\n",
        "**Feature encoding**, also known as **categorical encoding**, is the process of converting categorical data (non-numeric data) into a numerical format so that it can be used as input for machine learning algorithms. Most machine learning models require numerical data for training and prediction, so feature encoding is a critical step in data preprocessing.\n",
        "\n",
        "Categorical data can take various forms, including:\n",
        "\n",
        "1. **Nominal Data:** Categories with no intrinsic order, like colors or country names.  \n",
        "\n",
        "2. **Ordinal Data:** Categories with a meaningful order but not necessarily equidistant, like education levels (e.g., \"high school,\" \"bachelor's,\" \"master's\").\n",
        "\n",
        "There are several common methods for encoding categorical data:\n",
        "\n",
        "1. **Label Encoding:**\n",
        "\n",
        "   - Label encoding assigns a unique integer to each category in a feature.\n",
        "   - It's suitable for ordinal data where there's a clear order among categories.\n",
        "   - For example, if you have an \"education\" feature with values \"high school,\" \"bachelor's,\" and \"master's,\" you can encode them as 0, 1, and 2, respectively.\n",
        "<br />\n",
        "<br />\n",
        "2. **One-Hot Encoding:**\n",
        "\n",
        "   - One-hot encoding creates a binary (0 or 1) column for each category in a nominal feature.\n",
        "   - It's suitable for nominal data where there's no inherent order among categories.\n",
        "   - Each category becomes a new feature, and the presence (1) or absence (0) of a category is indicated for each row.\n",
        "<br />\n",
        "<br />\n",
        "3. **Target Encoding (Mean Encoding):**\n",
        "\n",
        "   - Target encoding replaces each category with the mean of the target variable for that category.\n",
        "   - It's often used for classification problems."
      ]
    },
    {
      "cell_type": "code",
      "execution_count": null,
      "metadata": {
        "id": "psElSUugLfHc"
      },
      "outputs": [],
      "source": [
        "# Not needed, since the data is already properly encoded"
      ]
    },
    {
      "cell_type": "markdown",
      "metadata": {
        "id": "jKQO9wtB8Pc0"
      },
      "source": [
        "### III. Handling Imbalanced Dataset\n",
        "\n",
        "**Handling imbalanced datasets** is important because imbalanced data can lead to several issues that negatively impact the performance and reliability of machine learning models. Here are some key reasons:\n",
        "\n",
        "1. **Biased Model Performance**:\n",
        "\n",
        " - Models trained on imbalanced data tend to be biased towards the majority class, leading to poor performance on the minority class. This can result in misleading accuracy metrics.\n",
        "\n",
        "2. **Misleading Accuracy**:\n",
        "\n",
        " - High overall accuracy can be misleading in imbalanced datasets. For example, if 95% of the data belongs to one class, a model that always predicts the majority class will have 95% accuracy but will fail to identify the minority class.\n",
        "\n",
        "3. **Poor Generalization**:\n",
        "\n",
        " - Models trained on imbalanced data may not generalize well to new, unseen data, especially if the minority class is underrepresented.\n",
        "\n",
        "\n",
        "Some methods to handle imbalanced datasets:\n",
        "1. **Resampling Methods**:\n",
        "\n",
        " - Oversampling: Increase the number of instances in the minority class by duplicating or generating synthetic samples (e.g., SMOTE).\n",
        " - Undersampling: Reduce the number of instances in the majority class to balance the dataset.\n",
        "\n",
        "2. **Evaluation Metrics**:\n",
        "\n",
        " - Use appropriate evaluation metrics such as precision, recall, F1-score, ROC-AUC, and confusion matrix instead of accuracy to better assess model performance on imbalanced data.\n",
        "\n",
        "3. **Algorithmic Approaches**:\n",
        "\n",
        " - Use algorithms that are designed to handle imbalanced data, such as decision trees, random forests, or ensemble methods.\n",
        " - Adjust class weights in algorithms to give more importance to the minority class."
      ]
    },
    {
      "cell_type": "code",
      "execution_count": null,
      "metadata": {
        "id": "u2BQd2XJ9W1i"
      },
      "outputs": [],
      "source": [
        "class_distribution = y_train.value_counts()\n",
        "print(\"Class distribution:\")\n",
        "print(class_distribution)\n",
        "\n",
        "class_distribution.plot(kind='bar', color='#ADD8E6')\n",
        "plt.title('Class Distribution')\n",
        "plt.xlabel('Class')\n",
        "plt.ylabel('Frequency')\n",
        "plt.show()"
      ]
    },
    {
      "cell_type": "markdown",
      "source": [
        "#### Oversampling with SMOTE"
      ],
      "metadata": {
        "id": "9G-yTwafruOu"
      }
    },
    {
      "cell_type": "code",
      "source": [
        "smote = SMOTE(random_state=42)\n",
        "X_train_balanced, y_train_balanced = smote.fit_resample(X_train_numerical_all, y_train)\n",
        "\n",
        "balanced_class_distribution = pd.Series(y_train_balanced).value_counts()\n",
        "print(\"Balanced class distribution:\")\n",
        "print(balanced_class_distribution)"
      ],
      "metadata": {
        "id": "8DyIRQfgrrRU"
      },
      "execution_count": null,
      "outputs": []
    },
    {
      "cell_type": "code",
      "source": [
        "balanced_class_distribution.plot(kind='bar', color='#ADD8E6')\n",
        "plt.title('Balanced Class Distribution')\n",
        "plt.xlabel('Class')\n",
        "plt.ylabel('Frequency')\n",
        "plt.show()\n",
        "\n",
        "print(f\"Shape of X_train_balanced: {X_train_balanced.shape}\")\n",
        "print(f\"Shape of y_train_balanced: {y_train_balanced.shape}\")\n",
        "\n",
        "print(\"Sample of resampled X_train:\")\n",
        "print(X_train_balanced[:5])"
      ],
      "metadata": {
        "id": "gfhNdnaAryPd"
      },
      "execution_count": null,
      "outputs": []
    },
    {
      "cell_type": "markdown",
      "metadata": {
        "id": "-ctVzt5DLfHd"
      },
      "source": [
        "# 3. Compile Preprocessing Pipeline\n",
        "\n",
        "All of the preprocessing classes or functions defined earlier will be compiled in this step."
      ]
    },
    {
      "cell_type": "markdown",
      "metadata": {
        "id": "S_ZlncSVjJG6"
      },
      "source": [
        "If you use sklearn to create preprocessing classes, you can list your preprocessing classes in the Pipeline object sequentially, and then fit and transform your data."
      ]
    },
    {
      "cell_type": "code",
      "execution_count": null,
      "metadata": {
        "id": "jHraoW_7LfHd"
      },
      "outputs": [],
      "source": [
        "from sklearn.base import BaseEstimator, TransformerMixin\n",
        "from sklearn.pipeline import Pipeline\n",
        "from sklearn.preprocessing import StandardScaler\n",
        "\n",
        "# DataCleaning Transformer\n",
        "class DataPreparation(BaseEstimator, TransformerMixin):\n",
        "    def __init__(self):\n",
        "        return None\n",
        "\n",
        "\n",
        "    def fit(self, X, y=None):\n",
        "        return self\n",
        "\n",
        "    def transform(self, X):\n",
        "        categorical_columns = [\n",
        "            'IsDomainIP', 'HasObfuscation', 'IsHTTPS', 'HasTitle', 'HasFavicon',\n",
        "            'Robots', 'IsResponsive', 'HasDescription', 'HasSocialNet',\n",
        "            'HasSubmitButton', 'HasHiddenFields', 'HasPasswordField', 'Bank',\n",
        "            'Pay', 'Crypto', 'HasCopyrightInfo', 'Domain', 'URL',\n",
        "            'TLD', 'Title', 'HasExternalFormSubmit','NoOfSelfRedirect', 'NoOfURLRedirect'\n",
        "        ]\n",
        "\n",
        "        categorical_columns_to_fill = [\n",
        "            'IsDomainIP', 'IsHTTPS', 'HasTitle', 'IsResponsive', 'Pay', 'HasHiddenFields', 'Robots',\n",
        "            'Crypto', 'HasDescription', 'Bank', 'HasExternalFormSubmit', 'HasFavicon',\n",
        "            'HasSubmitButton', 'HasPasswordField', 'NoOfSelfRedirect', 'HasCopyrightInfo',\n",
        "            'NoOfURLRedirect', 'HasSocialNet'\n",
        "        ]\n",
        "        numerical_columns = [col for col in X.columns if col not in categorical_columns]\n",
        "        tld_prob_mean = X.groupby('TLD')['TLDLegitimateProb'].mean()\n",
        "        global_fill_value = X['TLDLegitimateProb'].median()\n",
        "        group_by_columns = ['HasObfuscation']\n",
        "\n",
        "        X = fill_url_length(X, url_col='URL', url_length_col='URLLength')\n",
        "        X = fill_domain(X, url_col='URL', domain_col='Domain')\n",
        "        X = fill_domain_length(X, domain_col='Domain', domain_length_col='DomainLength')\n",
        "        X = fill_is_domain_ip(X, domain_col='Domain', is_domain_ip_col='IsDomainIP')\n",
        "        X = fill_tld(X, domain_col='Domain', tld_col='TLD')\n",
        "        X = fill_char_continuation_rate(X, url_col='URL', char_rate_col='CharContinuationRate')\n",
        "        X = fill_tld_legitimate_prob(X, tld_col='TLD', tld_prob_col='TLDLegitimateProb', is_domain_ip_col='IsDomainIP')\n",
        "        char_prob = calculate_char_prob(X, 'URL')\n",
        "        X = fill_url_char_prob(X, url_col='URL', char_prob_col='URLCharProb', char_prob=char_prob)\n",
        "        X = fill_tld_length(X, tld_col='TLD', tld_length_col='TLDLength')\n",
        "        X = fill_no_of_subdomains(X, domain_col='Domain', subdomain_col='NoOfSubDomain')\n",
        "        X = fill_has_obfuscation(X, url_col='URL', obfuscation_col='HasObfuscation')\n",
        "        X = fill_no_of_obfuscated_characters(X, url_col='URL', obf_char_col='NoOfObfuscatedChar')\n",
        "        X = fill_obfuscation_ratio(X, obf_char_col='NoOfObfuscatedChar', url_length_col='URLLength', obf_ratio_col='ObfuscationRatio')\n",
        "        X = fill_no_of_letters_in_url(X, url_col='URL', letters_col='NoOfLettersInURL')\n",
        "        X = fill_letter_ratio_in_url(X, letters_col='NoOfLettersInURL', url_length_col='URLLength', ratio_col='LetterRatioInURL')\n",
        "        X = fill_no_of_digits_in_url(X, url_col='URL', digits_col='NoOfDegitsInURL')\n",
        "        X = fill_digits_ratio_in_url(X, url_col='URL', ratio_col='DegitRatioInURL')\n",
        "        X = fill_no_of_equals_in_url(X, url_col='URL', equals_col='NoOfEqualsInURL')\n",
        "        X = fill_no_of_qmark_in_url(X, url_col='URL', qmark_col='NoOfQMarkInURL')\n",
        "        X = fill_no_of_ampersand_in_url(X, url_col='URL', ampersand_col='NoOfAmpersandInURL')\n",
        "        X = fill_no_of_special_chars_in_url(X, url_col='URL', special_chars_col='NoOfOtherSpecialCharsInURL')\n",
        "        X = fill_specials_ratio_in_url(X, url_col='URL', ratio_col='SpacialCharRatioInURL')\n",
        "        X = fill_is_https(X, url_col='URL', https_col='IsHTTPS')\n",
        "        X = fill_has_title(X, title_col='Title', has_title_col='HasTitle')\n",
        "        X = fill_domain_title_match_score(X,\n",
        "            title_col='Title',\n",
        "            domain_col='Domain',\n",
        "            score_col='DomainTitleMatchScore'\n",
        "        )\n",
        "        X = fill_url_title_match_score(\n",
        "            X,\n",
        "            title_col='Title',\n",
        "            url_col='URL',\n",
        "            score_col='URLTitleMatchScore'\n",
        "        )\n",
        "\n",
        "        X = fill_numerical_columns(X, numerical_columns, skewness_threshold=3)\n",
        "        X = fill_categorical_columns(X, categorical_columns_to_fill, group_by_columns)\n",
        "        X = outlier_handlers_clip(X, lower_percentile=0.01, upper_percentile=0.99)\n",
        "        X = X.drop(['URL', 'Domain', 'TLD', 'Title'], axis=1)\n",
        "        X = data_validation(X)\n",
        "\n",
        "        return X\n",
        "\n",
        "\n",
        "pipeline = Pipeline([\n",
        "    ('data_preparation', DataPreparation())\n",
        "])\n",
        "\n",
        "# Apply Pipeline\n",
        "\n",
        "X_train_processed = pipeline.fit_transform(X_train_pipe_test)\n",
        "X_val_processed = pipeline.transform(X_val_pipe_test)"
      ]
    },
    {
      "cell_type": "code",
      "source": [
        "X_train_processed.isnull().sum()"
      ],
      "metadata": {
        "id": "ug0C7x3NsF0D"
      },
      "execution_count": null,
      "outputs": []
    },
    {
      "cell_type": "markdown",
      "source": [
        "## Load Test Data"
      ],
      "metadata": {
        "id": "SlvHwF0xBI84"
      }
    },
    {
      "cell_type": "code",
      "source": [
        "df_test = pd.read_csv('https://files.faizath.com/test.csv', sep=',', low_memory=False)"
      ],
      "metadata": {
        "id": "El0RMD-V50D3"
      },
      "execution_count": null,
      "outputs": []
    },
    {
      "cell_type": "code",
      "source": [
        "id_test = df_test[\"id\"]\n",
        "df_test = df_test.drop(['id', 'FILENAME'], axis=1)\n",
        "pipeline_test = Pipeline([\n",
        "    ('data_preparation', DataPreparation())\n",
        "])\n",
        "X_test = pipeline_test.fit_transform(df_test)"
      ],
      "metadata": {
        "colab": {
          "base_uri": "https://localhost:8080/"
        },
        "id": "FD8lrBnfApXp",
        "outputId": "43a14c2b-61ed-4e45-9359-0c984d4e832f"
      },
      "execution_count": null,
      "outputs": [
        {
          "output_type": "stream",
          "name": "stdout",
          "text": [
            "Uses the mean for imputation because of the normal distribution.\n",
            "Global fill value: 0.2570590781017271\n",
            "Column URLLength: Using median for imputation because distribution is highly skewed.\n",
            "Column DomainLength: Using mean for imputation because distribution is approximately normal.\n",
            "Column CharContinuationRate: Using mean for imputation because distribution is approximately normal.\n",
            "Column TLDLegitimateProb: Using mean for imputation because distribution is approximately normal.\n",
            "Column URLCharProb: Using mean for imputation because distribution is approximately normal.\n",
            "Column TLDLength: Using mean for imputation because distribution is approximately normal.\n",
            "Column NoOfSubDomain: Using mean for imputation because distribution is approximately normal.\n",
            "Column NoOfObfuscatedChar: Using median for imputation because distribution is highly skewed.\n",
            "Column ObfuscationRatio: Using median for imputation because distribution is highly skewed.\n",
            "Column NoOfLettersInURL: Using median for imputation because distribution is highly skewed.\n",
            "Column LetterRatioInURL: Using mean for imputation because distribution is approximately normal.\n",
            "Column NoOfDegitsInURL: Using median for imputation because distribution is highly skewed.\n",
            "Column DegitRatioInURL: Using mean for imputation because distribution is approximately normal.\n",
            "Column NoOfEqualsInURL: Using median for imputation because distribution is highly skewed.\n",
            "Column NoOfQMarkInURL: Using median for imputation because distribution is highly skewed.\n",
            "Column NoOfAmpersandInURL: Using median for imputation because distribution is highly skewed.\n",
            "Column NoOfOtherSpecialCharsInURL: Using median for imputation because distribution is highly skewed.\n",
            "Column SpacialCharRatioInURL: Using mean for imputation because distribution is approximately normal.\n",
            "Column LineOfCode: Using median for imputation because distribution is highly skewed.\n",
            "Column LargestLineLength: Using median for imputation because distribution is highly skewed.\n",
            "Column DomainTitleMatchScore: Using mean for imputation because distribution is approximately normal.\n",
            "Column URLTitleMatchScore: Using mean for imputation because distribution is approximately normal.\n",
            "Column NoOfPopup: Using median for imputation because distribution is highly skewed.\n",
            "Column NoOfiFrame: Using median for imputation because distribution is highly skewed.\n",
            "Column NoOfImage: Using median for imputation because distribution is highly skewed.\n",
            "Column NoOfCSS: Using median for imputation because distribution is highly skewed.\n",
            "Column NoOfJS: Using median for imputation because distribution is highly skewed.\n",
            "Column NoOfSelfRef: Using median for imputation because distribution is highly skewed.\n",
            "Column NoOfEmptyRef: Using median for imputation because distribution is highly skewed.\n",
            "Column NoOfExternalRef: Using median for imputation because distribution is highly skewed.\n",
            "Missing values after imputation:\n",
            "URLLength                     0\n",
            "DomainLength                  0\n",
            "CharContinuationRate          0\n",
            "TLDLegitimateProb             0\n",
            "URLCharProb                   0\n",
            "TLDLength                     0\n",
            "NoOfSubDomain                 0\n",
            "NoOfObfuscatedChar            0\n",
            "ObfuscationRatio              0\n",
            "NoOfLettersInURL              0\n",
            "LetterRatioInURL              0\n",
            "NoOfDegitsInURL               0\n",
            "DegitRatioInURL               0\n",
            "NoOfEqualsInURL               0\n",
            "NoOfQMarkInURL                0\n",
            "NoOfAmpersandInURL            0\n",
            "NoOfOtherSpecialCharsInURL    0\n",
            "SpacialCharRatioInURL         0\n",
            "LineOfCode                    0\n",
            "LargestLineLength             0\n",
            "DomainTitleMatchScore         0\n",
            "URLTitleMatchScore            0\n",
            "NoOfPopup                     0\n",
            "NoOfiFrame                    0\n",
            "NoOfImage                     0\n",
            "NoOfCSS                       0\n",
            "NoOfJS                        0\n",
            "NoOfSelfRef                   0\n",
            "NoOfEmptyRef                  0\n",
            "NoOfExternalRef               0\n",
            "dtype: int64\n"
          ]
        }
      ]
    },
    {
      "cell_type": "markdown",
      "metadata": {
        "id": "9A3adbZXLfHe"
      },
      "source": [
        "# 4. Modeling and Validation\n",
        "\n",
        "Modelling is the process of building your own machine learning models to solve specific problems, or in this assignment context, predicting the target feature `label`. Validation is the process of evaluating your trained model using the validation set or cross-validation method and providing some metrics that can help you decide what to do in the next iteration of development."
      ]
    },
    {
      "cell_type": "code",
      "source": [
        "import pickle\n",
        "from datetime import datetime\n",
        "from zoneinfo import ZoneInfo\n",
        "\n",
        "def date():\n",
        "  return datetime.now(tz=ZoneInfo(\"Asia/Jakarta\"))"
      ],
      "metadata": {
        "id": "l8QBQio1yMa5"
      },
      "execution_count": null,
      "outputs": []
    },
    {
      "cell_type": "markdown",
      "metadata": {
        "id": "ZnhMNbBILfHf"
      },
      "source": [
        "## A. KNN"
      ]
    },
    {
      "cell_type": "markdown",
      "source": [
        "#### KNN from Scratch"
      ],
      "metadata": {
        "id": "Vi2B-6A_fBsY"
      }
    },
    {
      "cell_type": "code",
      "source": [
        "# Scale for KNN Only\n",
        "\n",
        "X_train_processed_scaled = X_train_processed.copy()\n",
        "X_val_processed_scaled = X_val_processed.copy()\n",
        "\n",
        "# X_train_processed_scaled = X_train_processed_scaled.drop(['URL', 'Domain', 'TLD', 'Title'], axis=1)\n",
        "# X_val_processed_scaled = X_val_processed_scaled.drop(['URL', 'Domain', 'TLD', 'Title'], axis=1)\n",
        "\n",
        "X_train_processed_scaled = apply_standardization(X_train_processed)\n",
        "X_val_processed_scaled = apply_standardization(X_val_processed)"
      ],
      "metadata": {
        "id": "omC7YQW_riyO"
      },
      "execution_count": null,
      "outputs": []
    },
    {
      "cell_type": "code",
      "execution_count": null,
      "metadata": {
        "id": "KV6ICmFmlqjk"
      },
      "outputs": [],
      "source": [
        "from collections import Counter\n",
        "\n",
        "class KNN:\n",
        "    def __init__(self, k=20, metric='euclidean', p=1):\n",
        "        if k < 1 or not isinstance(k, int):\n",
        "            raise ValueError(\"Invalid neighbor count. k must be an integer greater than 0.\")\n",
        "        if metric not in ['manhattan', 'euclidean', 'minkowski']:\n",
        "            raise ValueError(\"Invalid distance metric. Valid metric: 'euclidean', 'manhattan', or 'minkowski'.\")\n",
        "        if p < 1 or not isinstance(p, int):\n",
        "            raise ValueError(\"Invalid minkowski distance variable. p must be an integer greater than 0.\")\n",
        "\n",
        "        self.target = 'label'\n",
        "        self.k = k\n",
        "        self.metric = metric\n",
        "        self.p = p\n",
        "\n",
        "    def fit(self, X_train, y_train):\n",
        "        self.X_train = X_train\n",
        "        self.y_train = y_train\n",
        "\n",
        "    def predict(self, X_test):\n",
        "        if self.X_train is None or self.y_train is None:\n",
        "            raise Exception(\"Invalid data\")\n",
        "\n",
        "        predictions = []\n",
        "        for i, row in X_test.iterrows():\n",
        "            match self.metric:\n",
        "              case 'euclidean':\n",
        "                  distances = np.sqrt(np.sum(np.square(row[np.array(X_test.columns)] - self.X_train), axis=1))\n",
        "              case 'manhattan':\n",
        "                  distances =  np.sum(np.abs(row[np.array(X_test.columns)] - self.X_train), axis=1)\n",
        "              case 'minkowski':\n",
        "                  distances = np.sum(np.abs(row[np.array(X_test.columns)] - self.X_train) ** self.p, axis=1) ** (1 / self.p)\n",
        "              case _:\n",
        "                  raise ValueError(\"Invalid distance metric. Valid metric: 'euclidean', 'manhattan', or 'minkowski'.\")\n",
        "\n",
        "            # Get the k nearest neighbors\n",
        "            neighbors = np.argsort(distances)[:self.k]\n",
        "\n",
        "            # Get the most common class\n",
        "            classes = Counter(self.y_train.iloc[neighbors])\n",
        "            max_class = classes.most_common(1)[0][0]\n",
        "\n",
        "            predictions.append([i, max_class])\n",
        "        return pd.DataFrame(predictions, columns=['id', self.target])"
      ]
    },
    {
      "cell_type": "code",
      "source": [
        "def date():\n",
        "  return datetime.now(tz=ZoneInfo(\"Asia/Jakarta\"))\n",
        "\n",
        "knn_val = KNN(k=20)\n",
        "knn_val.fit(X_train_processed_scaled.head(10000), y_train)\n",
        "\n",
        "start_time = date()\n",
        "print(\"Start Time:\", start_time.strftime(\"%H:%M:%S\"))\n",
        "\n",
        "knn_val_pred = knn_val.predict(X_val_processed_scaled)\n",
        "\n",
        "end_time = date()\n",
        "difference = end_time - start_time\n",
        "print(\"Start Time:\", start_time.strftime(\"%H:%M:%S\"))\n",
        "print(\"End Time:\", end_time.strftime(\"%H:%M:%S\"))\n",
        "print(\"Time Elapsed:\", difference)"
      ],
      "metadata": {
        "id": "fSzVXHKemYQl",
        "colab": {
          "base_uri": "https://localhost:8080/"
        },
        "outputId": "6f475fad-14f8-48b5-d2ab-8c1022b2f98b"
      },
      "execution_count": null,
      "outputs": [
        {
          "output_type": "stream",
          "name": "stdout",
          "text": [
            "Start Time: 22:48:57\n",
            "Start Time: 22:48:57\n",
            "End Time: 22:54:40\n",
            "Time Elapsed: 0:05:42.922906\n"
          ]
        }
      ]
    },
    {
      "cell_type": "code",
      "source": [
        "# Evaluasi\n",
        "# accuracy = accuracy_score(y_val, knn_pred['label'])\n",
        "# precision = precision_score(y_val, knn_pred['label'], average='weighted')\n",
        "# recall = recall_score(y_val, knn_pred['label'], average='weighted')\n",
        "\n",
        "accuracy_knn_scratch = accuracy_score(y_val, knn_pred['label'])\n",
        "report_knn_scratch = classification_report(y_val, knn_pred['label'])\n",
        "cm_knn_scratch = confusion_matrix(y_val, knn_pred['label'])\n",
        "\n",
        "print(\"====== KNN from Scratch =====\")\n",
        "print(\"Akurasi KNN         :\", accuracy_knn_scratch)\n",
        "print(\"\\nClassification Report (KNN):\")\n",
        "print(report_knn_scratch)\n",
        "print(\"Confusion Matrix (KNN):\")\n",
        "print(cm_knn_scratch)"
      ],
      "metadata": {
        "colab": {
          "base_uri": "https://localhost:8080/"
        },
        "id": "G44x5PYWyb2s",
        "outputId": "1ff51dca-54d3-4e37-b958-ca5395b46dd2"
      },
      "execution_count": null,
      "outputs": [
        {
          "output_type": "stream",
          "name": "stdout",
          "text": [
            "           id  label\n",
            "0        8409      1\n",
            "1       20959      1\n",
            "2       88797      1\n",
            "3       24345      1\n",
            "4       95019      1\n",
            "...       ...    ...\n",
            "28076   36268      1\n",
            "28077   39295      1\n",
            "28078  111590      1\n",
            "28079  134414      1\n",
            "28080   37313      1\n",
            "\n",
            "[28081 rows x 2 columns]\n",
            "------------------------------------------------\n",
            "Accuracy: 0.9806986930664863\n",
            "Precision: 0.9806612735137247\n",
            "Recall: 0.9806986930664863\n"
          ]
        }
      ]
    },
    {
      "cell_type": "code",
      "source": [
        "from collections import Counter\n",
        "\n",
        "class KNNTest:\n",
        "    def __init__(self, k=20, metric='euclidean', p=1):\n",
        "        if k < 1 or not isinstance(k, int):\n",
        "            raise ValueError(\"Invalid neighbor count. k must be an integer greater than 0.\")\n",
        "        if metric not in ['manhattan', 'euclidean', 'minkowski']:\n",
        "            raise ValueError(\"Invalid distance metric. Valid metric: 'euclidean', 'manhattan', or 'minkowski'.\")\n",
        "        if p < 1 or not isinstance(p, int):\n",
        "            raise ValueError(\"Invalid minkowski distance variable. p must be an integer greater than 0.\")\n",
        "\n",
        "        self.target = 'label'\n",
        "        self.k = k\n",
        "        self.metric = metric\n",
        "        self.p = p\n",
        "\n",
        "    def fit(self, X_train, y_train):\n",
        "        self.X_train = X_train\n",
        "        self.y_train = y_train\n",
        "\n",
        "    def predict(self, X_test):\n",
        "        if self.X_train is None or self.y_train is None:\n",
        "            raise Exception(\"Invalid data\")\n",
        "\n",
        "        predictions = []\n",
        "        for i, row in X_test.iterrows():\n",
        "            match self.metric:\n",
        "              case 'euclidean':\n",
        "                  distances = np.sqrt(np.sum(np.square(row[np.array(X_test.columns)] - self.X_train), axis=1))\n",
        "              case 'manhattan':\n",
        "                  distances =  np.sum(np.abs(row[np.array(X_test.columns)] - self.X_train), axis=1)\n",
        "              case 'minkowski':\n",
        "                  distances = np.sum(np.abs(row[np.array(X_test.columns)] - self.X_train) ** self.p, axis=1) ** (1 / self.p)\n",
        "              case _:\n",
        "                  raise ValueError(\"Invalid distance metric. Valid metric: 'euclidean', 'manhattan', or 'minkowski'.\")\n",
        "\n",
        "            # Get the k nearest neighbors\n",
        "            neighbors = np.argsort(distances)[:self.k]\n",
        "\n",
        "            # Get the most common class\n",
        "            classes = Counter(self.y_train.iloc[neighbors])\n",
        "            max_class = classes.most_common(1)[0][0]\n",
        "\n",
        "            predictions.append([id_test.iloc[i], max_class])\n",
        "        return pd.DataFrame(predictions, columns=['id', self.target])"
      ],
      "metadata": {
        "id": "HTxa_cV3IlEN"
      },
      "execution_count": null,
      "outputs": []
    },
    {
      "cell_type": "code",
      "source": [
        "def date():\n",
        "  return datetime.now(tz=ZoneInfo(\"Asia/Jakarta\"))\n",
        "\n",
        "knn_test = KNNTest(k=20)\n",
        "knn_test.fit(X_train_processed_scaled, y_train)\n",
        "\n",
        "start_time = date()\n",
        "print(\"Start Time:\", start_time.strftime(\"%H:%M:%S\"))\n",
        "\n",
        "knn_test_pred = knn_test.predict(X_test)\n",
        "\n",
        "end_time = date()\n",
        "difference = end_time - start_time\n",
        "print(\"Start Time:\", start_time.strftime(\"%H:%M:%S\"))\n",
        "print(\"End Time:\", end_time.strftime(\"%H:%M:%S\"))\n",
        "print(\"Time Elapsed:\", difference)"
      ],
      "metadata": {
        "colab": {
          "base_uri": "https://localhost:8080/"
        },
        "id": "QGwYY7osBgGH",
        "outputId": "1d757e0f-1a5b-4c37-ca6c-002c8a1cf00a"
      },
      "execution_count": null,
      "outputs": [
        {
          "output_type": "stream",
          "name": "stdout",
          "text": [
            "Start Time: 23:15:54\n",
            "Start Time: 23:15:54\n",
            "End Time: 23:29:45\n",
            "Time Elapsed: 0:13:50.714329\n"
          ]
        }
      ]
    },
    {
      "cell_type": "code",
      "source": [
        "knn_test_pred.to_csv(\"test_dump.csv\", sep=',', encoding='utf-8', index=False)"
      ],
      "metadata": {
        "id": "nCuK9MXSCe-3"
      },
      "execution_count": null,
      "outputs": []
    },
    {
      "cell_type": "markdown",
      "source": [
        "#### KNN by Scikit-Learn"
      ],
      "metadata": {
        "id": "QYmOsl1Yfdg4"
      }
    },
    {
      "cell_type": "code",
      "source": [
        "# KNN by Scikit-Learn\n",
        "knn_scikit = KNeighborsClassifier(n_neighbors=6)\n",
        "\n",
        "knn_scikit.fit(X_train_processed_scaled.head(10000), y_train.head(10000))\n",
        "\n",
        "# Prediksi\n",
        "start_time = date()\n",
        "print(\"Start Time:\", start_time.strftime(\"%H:%M:%S\"))\n",
        "\n",
        "y_pred_knn_scikit = knn_scikit.predict(X_val_processed_scaled)\n",
        "\n",
        "end_time = date()\n",
        "difference = end_time - start_time\n",
        "print(\"Start Time:\", start_time.strftime(\"%H:%M:%S\"))\n",
        "print(\"End Time:\", end_time.strftime(\"%H:%M:%S\"))\n",
        "print(\"Time Elapsed:\", difference)"
      ],
      "metadata": {
        "id": "6Pw55o_XfgZ2",
        "colab": {
          "base_uri": "https://localhost:8080/"
        },
        "outputId": "48ba27a1-11fb-432b-c77b-585b06c8dfcf"
      },
      "execution_count": null,
      "outputs": [
        {
          "output_type": "stream",
          "name": "stdout",
          "text": [
            "Start Time: 23:45:52\n",
            "Start Time: 23:45:52\n",
            "End Time: 23:46:09\n",
            "Time Elapsed: 0:00:16.603162\n"
          ]
        }
      ]
    },
    {
      "cell_type": "code",
      "source": [
        "# Evaluasi\n",
        "accuracy_knn = accuracy_score(y_val, y_pred_knn_scikit)\n",
        "report_knn = classification_report(y_val, y_pred_knn_scikit)\n",
        "cm_knn = confusion_matrix(y_val, y_pred_knn_scikit)\n",
        "\n",
        "print(\"====== KNN by Scikit-Learn =====\")\n",
        "print(\"Akurasi KNN         :\", accuracy_knn)\n",
        "print(\"\\nClassification Report (KNN):\")\n",
        "print(report_knn)\n",
        "print(\"Confusion Matrix (KNN):\")\n",
        "print(cm_knn)"
      ],
      "metadata": {
        "id": "0llNEJZ_QJe5",
        "outputId": "cac5f8b3-683a-4263-ff22-12d708aed73c",
        "colab": {
          "base_uri": "https://localhost:8080/"
        }
      },
      "execution_count": null,
      "outputs": [
        {
          "output_type": "stream",
          "name": "stdout",
          "text": [
            "====== KNN by Scikit-Learn =====\n",
            "Akurasi KNN         : 0.9864321071186923\n",
            "\n",
            "Classification Report (KNN):\n",
            "              precision    recall  f1-score   support\n",
            "\n",
            "           0       0.96      0.86      0.91      2152\n",
            "           1       0.99      1.00      0.99     25929\n",
            "\n",
            "    accuracy                           0.99     28081\n",
            "   macro avg       0.98      0.93      0.95     28081\n",
            "weighted avg       0.99      0.99      0.99     28081\n",
            "\n",
            "Confusion Matrix (KNN):\n",
            "[[ 1844   308]\n",
            " [   73 25856]]\n"
          ]
        }
      ]
    },
    {
      "cell_type": "code",
      "source": [
        "# KNN by Scikit-Learn\n",
        "knn_scikit_test = KNeighborsClassifier(n_neighbors=6)\n",
        "\n",
        "knn_scikit_test.fit(X_train_processed_scaled, y_train)\n",
        "\n",
        "# Prediksi\n",
        "start_time = date()\n",
        "print(\"Start Time:\", start_time.strftime(\"%H:%M:%S\"))\n",
        "\n",
        "y_pred_knn_scikit_test = knn_scikit_test.predict(X_test)\n",
        "\n",
        "end_time = date()\n",
        "difference = end_time - start_time\n",
        "print(\"Start Time:\", start_time.strftime(\"%H:%M:%S\"))\n",
        "print(\"End Time:\", end_time.strftime(\"%H:%M:%S\"))\n",
        "print(\"Time Elapsed:\", difference)"
      ],
      "metadata": {
        "colab": {
          "base_uri": "https://localhost:8080/"
        },
        "id": "OQE3ZlJQRAb8",
        "outputId": "b15447c6-8397-4937-e0fb-f9c0ede54243"
      },
      "execution_count": null,
      "outputs": [
        {
          "output_type": "stream",
          "name": "stdout",
          "text": [
            "Start Time: 23:47:48\n",
            "Start Time: 23:47:48\n",
            "End Time: 23:48:02\n",
            "Time Elapsed: 0:00:14.074040\n"
          ]
        }
      ]
    },
    {
      "cell_type": "code",
      "source": [
        "predictions = []\n",
        "for i, row in enumerate(y_pred_knn_scikit_test):\n",
        "  predictions.append([id_test.iloc[i], row])\n",
        "pd.DataFrame(predictions, columns=['id', \"label\"]).to_csv(\"knn_dump.csv\", sep=',', encoding='utf-8', index=False)"
      ],
      "metadata": {
        "id": "ruhz0-ZZRSy9"
      },
      "execution_count": null,
      "outputs": []
    },
    {
      "cell_type": "markdown",
      "metadata": {
        "id": "nW0bMzkDLfHf"
      },
      "source": [
        "## B. Naive Bayes"
      ]
    },
    {
      "cell_type": "code",
      "execution_count": null,
      "metadata": {
        "id": "C_XwsN_-LfHg"
      },
      "outputs": [],
      "source": [
        "import math\n",
        "\n",
        "class NaiveBayes:\n",
        "    def __init__(self):\n",
        "        self.target = 'label'\n",
        "        self.pv = {}\n",
        "        self.table = {}\n",
        "\n",
        "    def _calculate_probability(self, x, mean, std):\n",
        "        if std == 0:\n",
        "          std = 1e-10\n",
        "        exponent = -((x - mean) ** 2) / (2 * std ** 2)\n",
        "        coefficient = 1 / (math.sqrt(2 * math.pi) * std)\n",
        "        probability = coefficient * math.exp(exponent)\n",
        "        return probability\n",
        "\n",
        "    def fit(self, X_train, y_train):\n",
        "        self.X_train = X_train\n",
        "        self.y_train = y_train\n",
        "\n",
        "        for i in range(2):\n",
        "            self.pv[i] = len(y_train[y_train == i]) / len(y_train)\n",
        "\n",
        "        data = X_train.join(y_train)\n",
        "\n",
        "        for feature in np.array(X_train.columns):\n",
        "            for k in range(2):\n",
        "                k_data = data[data[self.target] == k]\n",
        "                if not k_data.empty:\n",
        "                    mean = k_data[feature].mean()\n",
        "                    std = k_data[feature].std()\n",
        "                    self.table[(feature, k)] = {'mean': mean, 'std': std}\n",
        "\n",
        "    def predict(self, X_test):\n",
        "        predictions = []\n",
        "        for i, row in X_test.iterrows():\n",
        "            class_probability = []\n",
        "            for k in range(2):\n",
        "                p = self.pv[k]\n",
        "                for feature in X_test.columns:\n",
        "                    if feature in np.array(self.X_train.columns):\n",
        "                        value = row[feature]\n",
        "                        mean = self.table[(feature, k)]['mean']\n",
        "                        std = self.table[(feature, k)]['std']\n",
        "                        p *= self._calculate_probability(value, mean, std)\n",
        "                    else:\n",
        "                        value = row[feature]\n",
        "                        if (feature, value, k) in self.table:\n",
        "                            p *= self.table[(feature, value, k)]\n",
        "\n",
        "                class_probability.append(p)\n",
        "            predictions.append([i, np.argmax(class_probability)])\n",
        "        return pd.DataFrame(predictions, columns=['id', self.target])\n",
        "\n",
        "    def __str__(self):\n",
        "        string = \"P(V):\\n\"\n",
        "        for key, value in self.pv.items():\n",
        "            string += f\"P(V{key}): {value}\\n\"\n",
        "        string += \"Table:\\n\"\n",
        "        for key, value in self.table.items():\n",
        "            string += f\"P({key[0]} | {key[1]}): {value}\\n\"\n",
        "        return string"
      ]
    },
    {
      "cell_type": "code",
      "source": [
        "def naive_bayes_drop(X, y):\n",
        "  nb_df = X.join(y)\n",
        "  f_drop = []\n",
        "  for f in categorical_columns_filtered:\n",
        "    for i, j in [(x//2, x%2) for x in range(4)]:\n",
        "        if len(nb_df[(nb_df[f] == i) & (nb_df[\"label\"] == j)]) == 0:\n",
        "          f_drop.append(f)\n",
        "  for i in X.columns:\n",
        "    if X[i].std() == 0:\n",
        "      f_drop.append(i)\n",
        "  return f_drop"
      ],
      "metadata": {
        "id": "eQW5b5lUz1S3"
      },
      "execution_count": null,
      "outputs": []
    },
    {
      "cell_type": "code",
      "source": [
        "nb_drop = naive_bayes_drop(X_train_processed_scaled, y_train)\n",
        "nb_train = X_train_processed_scaled.drop(nb_drop, axis=1)\n",
        "nb_val = X_val_processed_scaled.drop(nb_drop, axis=1)\n",
        "nb_val_test = X_test.drop(nb_drop, axis=1)"
      ],
      "metadata": {
        "id": "ZBJWRWJ-z8qh"
      },
      "execution_count": null,
      "outputs": []
    },
    {
      "cell_type": "code",
      "source": [
        "# Evaluasi\n",
        "accuracy_nb_scratch = accuracy_score(y_val, nb_pred['label'])\n",
        "report_knn_scratch = classification_report(y_val, nb_pred['label'])\n",
        "cm_knn_scratch = confusion_matrix(y_val, nb_pred['label'])\n",
        "\n",
        "print(\"====== KNN from Scratch =====\")\n",
        "print(\"Akurasi KNN         :\", accuracy_knn)\n",
        "print(\"\\nClassification Report (KNN):\")\n",
        "print(report_knn)\n",
        "print(\"Confusion Matrix (KNN):\")\n",
        "print(cm_knn)"
      ],
      "metadata": {
        "colab": {
          "base_uri": "https://localhost:8080/"
        },
        "id": "ZKeANXm20Jte",
        "outputId": "2c29b747-fade-43e3-b84f-e514c55f9ce6"
      },
      "execution_count": null,
      "outputs": [
        {
          "output_type": "stream",
          "name": "stdout",
          "text": [
            "Start Time: 23:38:37\n",
            "Start Time: 23:38:37\n",
            "End Time: 23:39:39\n",
            "Time Elapsed: 0:01:01.762985\n"
          ]
        }
      ]
    },
    {
      "cell_type": "markdown",
      "source": [
        "#### Gaussian Naive Bayes from Scratch"
      ],
      "metadata": {
        "id": "0hcvdRQ5QOJH"
      }
    },
    {
      "cell_type": "code",
      "source": [
        "nb = NaiveBayes()\n",
        "nb.fit(nb_test, y_train)\n",
        "\n",
        "start_time = date()\n",
        "print(\"Start Time:\", start_time.strftime(\"%H:%M:%S\"))\n",
        "\n",
        "nb_pred = nb.predict(nb_val)\n",
        "\n",
        "end_time = date()\n",
        "difference = end_time - start_time\n",
        "print(\"Start Time:\", start_time.strftime(\"%H:%M:%S\"))\n",
        "print(\"End Time:\", end_time.strftime(\"%H:%M:%S\"))\n",
        "print(\"Time Elapsed:\", difference)"
      ],
      "metadata": {
        "id": "ALB8xBRuQRdf"
      },
      "execution_count": null,
      "outputs": []
    },
    {
      "cell_type": "code",
      "source": [
        "# Evaluasi\n",
        "accuracy_nb_scratch = accuracy_score(y_val, nb_pred['label'])\n",
        "report_knn_scratch = classification_report(y_val, nb_pred['label'])\n",
        "cm_knn_scratch = confusion_matrix(y_val, nb_pred['label'])\n",
        "\n",
        "print(\"====== Gaussian Naive Bayes from Scratch =====\")\n",
        "print(\"Akurasi NB         :\", accuracy_knn)\n",
        "print(\"\\nClassification Report (NB):\")\n",
        "print(report_knn)\n",
        "print(\"Confusion Matrix (NB):\")\n",
        "print(cm_knn)"
      ],
      "metadata": {
        "id": "o6UYjhV6QSnc"
      },
      "execution_count": null,
      "outputs": []
    },
    {
      "cell_type": "code",
      "source": [
        "print(nb_pred)\n",
        "accuracy = accuracy_score(y_val, nb_pred['label'])\n",
        "precision = precision_score(y_val, nb_pred['label'], average='weighted')\n",
        "recall = recall_score(y_val, nb_pred['label'], average='weighted')\n",
        "\n",
        "print(\"------------------------------------------------\")\n",
        "print(f\"Accuracy: {accuracy}\")\n",
        "print(f\"Precision: {precision}\")\n",
        "print(f\"Recall: {recall}\")"
      ],
      "metadata": {
        "colab": {
          "base_uri": "https://localhost:8080/"
        },
        "id": "XeX-vP_i0hDK",
        "outputId": "491ebaea-439f-4dd9-8d30-90a0d50b59f9"
      },
      "execution_count": null,
      "outputs": [
        {
          "output_type": "stream",
          "name": "stdout",
          "text": [
            "           id  label\n",
            "0        8409      1\n",
            "1       20959      1\n",
            "2       88797      1\n",
            "3       24345      1\n",
            "4       95019      1\n",
            "...       ...    ...\n",
            "28076   36268      1\n",
            "28077   39295      1\n",
            "28078  111590      1\n",
            "28079  134414      1\n",
            "28080   37313      1\n",
            "\n",
            "[28081 rows x 2 columns]\n",
            "------------------------------------------------\n",
            "Accuracy: 0.9543107439193761\n",
            "Precision: 0.9681675614798116\n",
            "Recall: 0.9543107439193761\n"
          ]
        }
      ]
    },
    {
      "cell_type": "code",
      "source": [
        "import math\n",
        "\n",
        "class NaiveBayesTest:\n",
        "    def __init__(self):\n",
        "        self.target = 'label'\n",
        "        self.pv = {}\n",
        "        self.table = {}\n",
        "\n",
        "    def _calculate_probability(self, x, mean, std):\n",
        "        if std == 0:\n",
        "          std = 1e-10\n",
        "        exponent = -((x - mean) ** 2) / (2 * std ** 2)\n",
        "        coefficient = 1 / (math.sqrt(2 * math.pi) * std)\n",
        "        probability = coefficient * math.exp(exponent)\n",
        "        return probability\n",
        "\n",
        "    def fit(self, X_train, y_train):\n",
        "        self.X_train = X_train\n",
        "        self.y_train = y_train\n",
        "\n",
        "        for i in range(2):\n",
        "            self.pv[i] = len(y_train[y_train == i]) / len(y_train)\n",
        "\n",
        "        data = X_train.join(y_train)\n",
        "\n",
        "        for feature in np.array(X_train.columns):\n",
        "            for k in range(2):\n",
        "                k_data = data[data[self.target] == k]\n",
        "                if not k_data.empty:\n",
        "                    mean = k_data[feature].mean()\n",
        "                    std = k_data[feature].std()\n",
        "                    self.table[(feature, k)] = {'mean': mean, 'std': std}\n",
        "\n",
        "    def predict(self, X_test):\n",
        "        predictions = []\n",
        "        for i, row in X_test.iterrows():\n",
        "            class_probability = []\n",
        "            for k in range(2):\n",
        "                p = self.pv[k]\n",
        "                for feature in X_test.columns:\n",
        "                    if feature in np.array(self.X_train.columns):\n",
        "                        value = row[feature]\n",
        "                        mean = self.table[(feature, k)]['mean']\n",
        "                        std = self.table[(feature, k)]['std']\n",
        "                        p *= self._calculate_probability(value, mean, std)\n",
        "                    else:\n",
        "                        value = row[feature]\n",
        "                        if (feature, value, k) in self.table:\n",
        "                            p *= self.table[(feature, value, k)]\n",
        "\n",
        "                class_probability.append(p)\n",
        "            predictions.append([id_test.iloc[i], np.argmax(class_probability)])\n",
        "        return pd.DataFrame(predictions, columns=['id', self.target])\n",
        "\n",
        "    def __str__(self):\n",
        "        string = \"P(V):\\n\"\n",
        "        for key, value in self.pv.items():\n",
        "            string += f\"P(V{key}): {value}\\n\"\n",
        "        string += \"Table:\\n\"\n",
        "        for key, value in self.table.items():\n",
        "            string += f\"P({key[0]} | {key[1]}): {value}\\n\"\n",
        "        return string"
      ],
      "metadata": {
        "id": "VsUR8Xp_KjKW"
      },
      "execution_count": null,
      "outputs": []
    },
    {
      "cell_type": "code",
      "source": [
        "def date():\n",
        "  return datetime.now(tz=ZoneInfo(\"Asia/Jakarta\"))\n",
        "\n",
        "nbtest = NaiveBayesTest()\n",
        "nbtest.fit(nb_train, y_train)\n",
        "\n",
        "start_time = date()\n",
        "print(\"Start Time:\", start_time.strftime(\"%H:%M:%S\"))\n",
        "\n",
        "nb_test_pred = nbtest.predict(nb_val_test)\n",
        "\n",
        "end_time = date()\n",
        "difference = end_time - start_time\n",
        "print(\"Start Time:\", start_time.strftime(\"%H:%M:%S\"))\n",
        "print(\"End Time:\", end_time.strftime(\"%H:%M:%S\"))\n",
        "print(\"Time Elapsed:\", difference)"
      ],
      "metadata": {
        "colab": {
          "base_uri": "https://localhost:8080/"
        },
        "id": "NJjJ7QxgK0Za",
        "outputId": "fa949fbc-3f24-4a55-c53c-a45fe48466af"
      },
      "execution_count": null,
      "outputs": [
        {
          "output_type": "stream",
          "name": "stdout",
          "text": [
            "Start Time: 23:34:08\n",
            "Start Time: 23:34:08\n",
            "End Time: 23:34:30\n",
            "Time Elapsed: 0:00:22.219472\n"
          ]
        }
      ]
    },
    {
      "cell_type": "code",
      "source": [
        "nb_test_pred.to_csv(\"nb_test_dump.csv\", sep=',', encoding='utf-8', index=False)"
      ],
      "metadata": {
        "id": "P3twFjcZNrNw"
      },
      "execution_count": null,
      "outputs": []
    },
    {
      "cell_type": "markdown",
      "source": [
        "#### Gaussian Naive Bayes by Scikit-Learn"
      ],
      "metadata": {
        "id": "-9Jw1_wmSlAa"
      }
    },
    {
      "cell_type": "code",
      "source": [
        "# Guassian NB by Scikit-Learn\n",
        "model = GaussianNB()\n",
        "\n",
        "model.fit(nb_test, y_train)\n",
        "\n",
        "# Prediksi\n",
        "y_pred = model.predict(nb_val)\n",
        "\n",
        "start_time = date()\n",
        "print(\"Start Time:\", start_time.strftime(\"%H:%M:%S\"))\n",
        "\n",
        "y_pred_knn_scikit = knn_scikit.predict(X_val_processed_scaled)\n",
        "\n",
        "end_time = date()\n",
        "difference = end_time - start_time\n",
        "print(\"Start Time:\", start_time.strftime(\"%H:%M:%S\"))\n",
        "print(\"End Time:\", end_time.strftime(\"%H:%M:%S\"))\n",
        "print(\"Time Elapsed:\", difference)"
      ],
      "metadata": {
        "id": "yfIj46x8Smph"
      },
      "execution_count": null,
      "outputs": []
    },
    {
      "cell_type": "code",
      "source": [
        "# Evaluasi\n",
        "accuracy_nb = accuracy_score(y_val, y_pred)\n",
        "report_nb = classification_report(y_val, y_pred)\n",
        "cm_nb = confusion_matrix(y_val, y_pred)\n",
        "\n",
        "print(\"====== Gaussian Naive Bayes from Scratch =====\")\n",
        "print(\"Akurasi           :\", accuracy_nb)\n",
        "print(\"\\nClassification Report:\")\n",
        "print(report_nb)\n",
        "print(\"Confusion Matrix:\")\n",
        "print(cm_nb)"
      ],
      "metadata": {
        "id": "D-kh6tt4SnnZ"
      },
      "execution_count": null,
      "outputs": []
    },
    {
      "cell_type": "markdown",
      "metadata": {
        "id": "Li4l53DjLfHh"
      },
      "source": [
        "## C. Submission\n",
        "To predict the test set target feature and submit the results to the kaggle competition platform, do the following:\n",
        "1. Create a new pipeline instance identical to the first in Data Preprocessing\n",
        "2. With the pipeline, apply `fit_transform` to the original training set before splitting, then only apply `transform` to the test set.\n",
        "3. Retrain the model on the preprocessed training set\n",
        "4. Predict the test set\n",
        "5. Make sure the submission contains the `id` and `label` column.\n",
        "\n",
        "Note: Adjust step 1 and 2 to your implementation of the preprocessing step if you don't use pipeline API from `sklearn`."
      ]
    },
    {
      "cell_type": "code",
      "execution_count": null,
      "metadata": {
        "id": "LeqnfWc-LfHi"
      },
      "outputs": [],
      "source": [
        "df_test = pd.read_csv('https://files.faizath.com/test.csv', sep=',', low_memory=False)"
      ]
    },
    {
      "cell_type": "code",
      "source": [
        "id_test = df_test[\"id\"]\n",
        "df_test = df_test.drop(['id', 'FILENAME'], axis=1)\n",
        "pipeline_test = Pipeline([\n",
        "    ('data_preparation', DataPreparation())\n",
        "])\n",
        "X_test = pipeline_test.fit_transform(df_test)"
      ],
      "metadata": {
        "id": "q7TjzJOMS6C0"
      },
      "execution_count": null,
      "outputs": []
    },
    {
      "cell_type": "markdown",
      "metadata": {
        "id": "R-jXvKOpLfHi"
      },
      "source": [
        "# 6. Error Analysis\n",
        "\n",
        "Based on all the process you have done until the modeling and evaluation step, write an analysis to support each steps you have taken to solve this problem. Write the analysis using the markdown block. Some questions that may help you in writing the analysis:\n",
        "\n",
        "- Does my model perform better in predicting one class than the other? If so, why is that?\n",
        "- To each models I have tried, which performs the best and what could be the reason?\n",
        "- Is it better for me to impute or drop the missing data? Why?\n",
        "- Does feature scaling help improve my model performance?\n",
        "- etc..."
      ]
    },
    {
      "cell_type": "markdown",
      "source": [
        "**Analisis Model**\n",
        "---\n",
        "\n",
        "Penanganan Missing Data\n",
        "---\n",
        "Pada tahap data cleaning, data yang hilang diisi menggunakan strategi berbasis domain sesuai dengan sifat fitur yang relevan terhadap fitur lain. Untuk fitur numerik yang terdistribusi normal, imputasi dilakukan menggunakan mean. Sementara itu, untuk fitur numerik yang tidak terdistribusi normal, digunakan median, dan modus dengan teknik groupby diterapkan untuk fitur kategorikal. Pendekatan ini memastikan bahwa informasi yang hilang dapat diisi tanpa mengorbankan kontribusi penting pada algoritma berbasis jarak seperti KNN dan Gaussian Naive Bayes.\n",
        "\n",
        "\n",
        "Scaling untuk Meningkatkan Performa\n",
        "---\n",
        "Feature scaling dilakukan untuk memastikan performa optimal karena algoritma KNN sangat bergantung pada jarak antar data. Pada proses ini, fitur numerik dinormalisasi menggunakan metode z-score normalization. Hal ini membantu memastikan bahwa tidak ada fitur yang mendominasi perhitungan jarak akibat skala yang berbeda, sehingga model mampu menangkap pola dengan lebih baik dan memberikan hasil prediksi yang lebih akurat.\n",
        "\n",
        "\n",
        "Performa Model KNN dengan Parameter K yang optimal\n",
        "---\n",
        "Pada eksperimen yang dilakukan, nilai k=20 dipilih sebagai parameter terbaik untuk algoritma KNN. Penggunaan nilai k=20 dengan metrik jarak Euclidean memberikan hasil terbaik karena metrik ini lebih cocok untuk menangkap pola data tabular yang telah dinormalisasi dengan baik. Model dengan k=20 mampu menghasilkan prediksi yang cukup stabil dan tidak terlalu lambat karena tidak semua fitur berguna untuk dibaca dari keseluruhan fitur yaitu 30 fitur yang terseleksi.\n",
        "\n",
        "Saran Perbaikan\n",
        "---\n",
        "- Pertimbangkan penggunaan algoritma alternatif seperti Random Forest atau Gradient Boosting untuk menangani ketidakseimbangan data secara lebih efektif.\n",
        "- Gunakan teknik oversampling tambahan untuk lebih meningkatkan distribusi data kelas minoritas, atau eksplorasi pengaturan ulang bobot pada algoritma KNN (Weighted KNN).\n",
        "-Tambahkan fitur baru yang lebih relevan untuk membantu model mengenali pola pada data minoritas (creating new features).\n"
      ],
      "metadata": {
        "id": "GTbMMBLDSvwK"
      }
    }
  ],
  "metadata": {
    "colab": {
      "provenance": [],
      "collapsed_sections": [
        "MFEJBOW2mfdp",
        "Fwe-8xD4mj_U",
        "HbWnHZLFrMsZ"
      ]
    },
    "kernelspec": {
      "display_name": "Python 3",
      "language": "python",
      "name": "python3"
    },
    "language_info": {
      "codemirror_mode": {
        "name": "ipython",
        "version": 3
      },
      "file_extension": ".py",
      "mimetype": "text/x-python",
      "name": "python",
      "nbconvert_exporter": "python",
      "pygments_lexer": "ipython3",
      "version": "3.10.12"
    }
  },
  "nbformat": 4,
  "nbformat_minor": 0
}